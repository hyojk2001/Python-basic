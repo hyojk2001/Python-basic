{
  "nbformat": 4,
  "nbformat_minor": 0,
  "metadata": {
    "colab": {
      "name": "0407quiz.ipynb",
      "provenance": [],
      "collapsed_sections": [],
      "authorship_tag": "ABX9TyM6Xv+mr078wf4fCmHUYcyb",
      "include_colab_link": true
    },
    "kernelspec": {
      "name": "python3",
      "display_name": "Python 3"
    },
    "language_info": {
      "name": "python"
    }
  },
  "cells": [
    {
      "cell_type": "markdown",
      "metadata": {
        "id": "view-in-github",
        "colab_type": "text"
      },
      "source": [
        "<a href=\"https://colab.research.google.com/github/hyojk2001/Python-basic/blob/main/0407quiz.ipynb\" target=\"_parent\"><img src=\"https://colab.research.google.com/assets/colab-badge.svg\" alt=\"Open In Colab\"/></a>"
      ]
    },
    {
      "cell_type": "code",
      "metadata": {
        "id": "5y4Wec84QntU"
      },
      "source": [
        "# ALGORITHM HOMEWORK\n",
        "# 모든 짝수 번째 숫자를 * 로 치환하시오.\n",
        "# (홀수 번째 숫자,또는 짝수 번째 문자를 치환하면 안됩니다.)\n",
        "# print(cnvt(\"57uyft43yut89574389\"))\n",
        "# 5*uyft4*yut*9*7*3*9\n",
        "# # 모든 코드 라인마다 주석 첨부"
      ],
      "execution_count": null,
      "outputs": []
    },
    {
      "cell_type": "code",
      "metadata": {
        "colab": {
          "base_uri": "https://localhost:8080/"
        },
        "id": "38i48_7fQ4-B",
        "outputId": "689d76df-4ae4-4b8c-cbce-2eb918adb77b"
      },
      "source": [
        "def cnvt(s):                                  # 함수를 만든다\n",
        "  pro = ''                                    # 짝수번째 숫자를 *로 만든 문자열 초기화\n",
        "  for i in range(0,len(s)):                   # 원본인 s 안에서\n",
        "    pro += s[i]                               # pro에 s 구성을 하나씩 더한다\n",
        "    if s[i].isnumeric() and (i+1) % 2 == 0 :  # 만약 해당 s의 문자가 숫자이거나\n",
        "                                              # i+1로 1,2,3..으로 시작하게 한 뒤 짝수를 골라\n",
        "      pro = pro[:-1] + '*'                    # pro에는 붙이던 글자를 지운 뒤 '*'를 붙인다\n",
        "  return pro                                  # 함수의 반환값으로 이렇게 거친 pro를 반환\n",
        "\n",
        "print(cnvt(\"57uyft43yut89574389\"))"
      ],
      "execution_count": null,
      "outputs": [
        {
          "output_type": "stream",
          "text": [
            "5*uyft4*yut*9*7*3*9\n"
          ],
          "name": "stdout"
        }
      ]
    },
    {
      "cell_type": "code",
      "metadata": {
        "colab": {
          "base_uri": "https://localhost:8080/",
          "height": 35
        },
        "id": "cQdvA-QORfc6",
        "outputId": "455bf506-089c-4e9d-8871-f4cf61d66fcd"
      },
      "source": [
        "a = 'abcde'\n",
        "a[:-1]"
      ],
      "execution_count": null,
      "outputs": [
        {
          "output_type": "execute_result",
          "data": {
            "application/vnd.google.colaboratory.intrinsic+json": {
              "type": "string"
            },
            "text/plain": [
              "'abcd'"
            ]
          },
          "metadata": {
            "tags": []
          },
          "execution_count": 42
        }
      ]
    },
    {
      "cell_type": "code",
      "metadata": {
        "colab": {
          "base_uri": "https://localhost:8080/"
        },
        "id": "sqeHuMNSSc-Z",
        "outputId": "f9cd114f-b950-45e7-d929-fa3679ca7f15"
      },
      "source": [
        ""
      ],
      "execution_count": null,
      "outputs": [
        {
          "output_type": "stream",
          "text": [
            "찾지 못했습니다\n"
          ],
          "name": "stdout"
        }
      ]
    },
    {
      "cell_type": "code",
      "metadata": {
        "id": "IXdaAu1DaBbs"
      },
      "source": [
        ""
      ],
      "execution_count": null,
      "outputs": []
    }
  ]
}