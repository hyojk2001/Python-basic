{
  "nbformat": 4,
  "nbformat_minor": 0,
  "metadata": {
    "colab": {
      "name": "0513_quiz.ipynb",
      "provenance": [],
      "authorship_tag": "ABX9TyNMzqQ0TD8VBGFTwF51lx3V",
      "include_colab_link": true
    },
    "kernelspec": {
      "name": "python3",
      "display_name": "Python 3"
    },
    "language_info": {
      "name": "python"
    }
  },
  "cells": [
    {
      "cell_type": "markdown",
      "metadata": {
        "id": "view-in-github",
        "colab_type": "text"
      },
      "source": [
        "<a href=\"https://colab.research.google.com/github/hyojk2001/Python-basic/blob/main/0513_quiz.ipynb\" target=\"_parent\"><img src=\"https://colab.research.google.com/assets/colab-badge.svg\" alt=\"Open In Colab\"/></a>"
      ]
    },
    {
      "cell_type": "code",
      "metadata": {
        "colab": {
          "base_uri": "https://localhost:8080/"
        },
        "id": "jwPT4WIG28x2",
        "outputId": "5a9142d0-2a61-48ce-8dcf-91893d1e1843"
      },
      "source": [
        "# a = input('version1 = ').split('.')\n",
        "# a.remove('0')\n",
        "# b = input('version2 = ').split('.')\n",
        "# b.remove('0')\n",
        "\n",
        "a = list(map(int, input('version1 = ').split('.')))\n",
        "b = list(map(int, input('version2 = ').split('.')))\n",
        "a.remove(0)\n",
        "b.remove(0)\n",
        "print(a,b)\n"
      ],
      "execution_count": 14,
      "outputs": [
        {
          "output_type": "stream",
          "text": [
            "version1 = 1.0.0.1\n",
            "version2 = 2.1.0.2\n",
            "[1, 0, 1] [2, 1, 2]\n"
          ],
          "name": "stdout"
        }
      ]
    },
    {
      "cell_type": "code",
      "metadata": {
        "colab": {
          "base_uri": "https://localhost:8080/"
        },
        "id": "_NQ6LeWA33f5",
        "outputId": "a873c409-64b4-400f-95d8-35aac11cb671"
      },
      "source": [
        "a = '1.0.1'\n",
        "b = list(map(int, a.split('.')))\n",
        "b"
      ],
      "execution_count": 11,
      "outputs": [
        {
          "output_type": "execute_result",
          "data": {
            "text/plain": [
              "[1, 0, 1]"
            ]
          },
          "metadata": {
            "tags": []
          },
          "execution_count": 11
        }
      ]
    },
    {
      "cell_type": "code",
      "metadata": {
        "colab": {
          "base_uri": "https://localhost:8080/"
        },
        "id": "cGIvFBG74ExJ",
        "outputId": "3a0eda70-af75-40e1-ba44-34f506c91956"
      },
      "source": [
        "a = input('version 1 = ')\n",
        "a1 = list(map(int, a.split('.')))\n",
        "a2 = len(a1)\n",
        "b = input('version 2 = ')\n",
        "b1 = list(map(int, b.split('.')))\n",
        "b2 = len(b1)\n",
        "\n",
        "a1 += [0 for i in range(b2)]\n",
        "b1 += [0 for i in range(a2)]\n",
        "\n",
        "flag = 0\n",
        "\n",
        "for i in range(len(a1)):\n",
        "  if a1[i] > b1[i]:\n",
        "    flag = 1\n",
        "    break\n",
        "  elif a1[i] < b1[i]:\n",
        "    flag = -1\n",
        "    break\n",
        "  else:\n",
        "    flag = 0\n",
        "    \n",
        "print(flag)"
      ],
      "execution_count": 32,
      "outputs": [
        {
          "output_type": "stream",
          "text": [
            "version 1 = 1.10.1\n",
            "version 2 = 1\n",
            "1\n"
          ],
          "name": "stdout"
        }
      ]
    },
    {
      "cell_type": "code",
      "metadata": {
        "colab": {
          "base_uri": "https://localhost:8080/"
        },
        "id": "GUCRpz3x7Jfj",
        "outputId": "d7327a8a-b779-4a33-82da-35869668c600"
      },
      "source": [
        "a = [1,2,3]\n",
        "a += [4,5]\n",
        "a"
      ],
      "execution_count": 24,
      "outputs": [
        {
          "output_type": "execute_result",
          "data": {
            "text/plain": [
              "[1, 2, 3, 4, 5]"
            ]
          },
          "metadata": {
            "tags": []
          },
          "execution_count": 24
        }
      ]
    },
    {
      "cell_type": "code",
      "metadata": {
        "colab": {
          "base_uri": "https://localhost:8080/"
        },
        "id": "7OvUxJJX-Q5H",
        "outputId": "156b7847-e6e1-4794-d30e-c9b226dc0421"
      },
      "source": [
        "a,b = input('version 1 = '), input('version 2 = ')    # version 1, 2에 각각 받을 문자열\n",
        "a1 = list(map(int, a.split('.')))     # 받은 문자열을 . 기준으로 나누고 숫자화한 후 리스트화\n",
        "b1 = list(map(int, b.split('.')))     # 받은 문자열을 . 기준으로 나누고 숫자화한 후 리스트화\n",
        "a2,b2 = len(a1),len(b1)               # a1, a2의 길이를 미리 구해놓기\n",
        "                                      # (아래쪽 연산하다보면 바뀌므로 미리초기화)\n",
        "a1 += [0 for i in range(b2)]          # 인덱스를 맞추기 위해 b2만큼의 0을 더하기\n",
        "b1 += [0 for i in range(a2)]          # 인덱스를 맞추기 위해 a2만큼의 0을 더하기\n",
        "\n",
        "flag = 0        # 최종결과를 1,0,-1로 하는 판단값\n",
        "\n",
        "for i in range(len(a1)):    # 반복문 시작\n",
        "  if a1[i] > b1[i]:         # 같은 시점을 비교하면서 어느 순간 a1쪽이 크면\n",
        "    flag = 1                # 버전 1이 크다는 말이 되므로 1 출력\n",
        "    break                   # 그리고 이 시점에서 버전1이 크다는 판단 끝이므로 반복문 중단\n",
        "  elif a1[i] < b1[i]:       # 어느 순간 b1쪽이 크면\n",
        "    flag = -1               # 버전 2가 크다는 말이 되므로 -1 출력\n",
        "    break                   # 버전2가 크다는 판단이 섰으므로 반복문 중단\n",
        "  else:                     # 만약 a1과 b1을 순차적으로 비교했을때 값이 같으면\n",
        "    flag = 0                # flag는 0으로 고정\n",
        "    \n",
        "print(flag)                 # 결과 출력"
      ],
      "execution_count": 34,
      "outputs": [
        {
          "output_type": "stream",
          "text": [
            "version 1 = 1.0.1\n",
            "version 2 = 1.4.9\n",
            "-1\n"
          ],
          "name": "stdout"
        }
      ]
    },
    {
      "cell_type": "code",
      "metadata": {
        "id": "0xC4ArXG-51S"
      },
      "source": [
        ""
      ],
      "execution_count": null,
      "outputs": []
    }
  ]
}