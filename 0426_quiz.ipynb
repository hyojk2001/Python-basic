{
  "nbformat": 4,
  "nbformat_minor": 0,
  "metadata": {
    "colab": {
      "name": "0426_quiz.ipynb",
      "provenance": [],
      "collapsed_sections": [],
      "authorship_tag": "ABX9TyOTdK2UNth++WKKaG5KmBt9",
      "include_colab_link": true
    },
    "kernelspec": {
      "name": "python3",
      "display_name": "Python 3"
    },
    "language_info": {
      "name": "python"
    }
  },
  "cells": [
    {
      "cell_type": "markdown",
      "metadata": {
        "id": "view-in-github",
        "colab_type": "text"
      },
      "source": [
        "<a href=\"https://colab.research.google.com/github/hyojk2001/Python-basic/blob/main/0426_quiz.ipynb\" target=\"_parent\"><img src=\"https://colab.research.google.com/assets/colab-badge.svg\" alt=\"Open In Colab\"/></a>"
      ]
    },
    {
      "cell_type": "code",
      "metadata": {
        "colab": {
          "base_uri": "https://localhost:8080/"
        },
        "id": "E3_jxjRvT2cu",
        "outputId": "8fabeb8a-0493-4036-e106-0529f4c7ff75"
      },
      "source": [
        "b = list(reversed(list(input()))) #입력을 받아 리스트화 한 후, 뒤집기\n",
        "c = []                            #3칸마다 ','를 찍을 리스트 초기화\n",
        "for i in range(len(b)):           #반복문 시작\n",
        "  if i > 0 and (i+3) % 3 == 0:    #인덱스가 0보다 크면서 i+1이 3의 배수면\n",
        "    c.append(b[i]+\",\")            #원래 항을 더하면서 ','도 더해준다\n",
        "  else:                           #그게 아니면\n",
        "    c.append(b[i])                #원래 항만 더해준다\n",
        "\n",
        "d = list(reversed(c))             #이렇게 만든 c를 다시 한번 뒤집고\n",
        "e = ''                            #최종 출력결과 문자열을 초기화\n",
        "for i in d:                       #반복문 시작\n",
        "  e += i                          #e에다가 지금까지 만든 d를 모두 더한 문자열 만들기\n",
        "print(e.replace(\"'\",\"\"))          #출력"
      ],
      "execution_count": 14,
      "outputs": [
        {
          "output_type": "stream",
          "text": [
            "123456789\n",
            "123,456,789\n"
          ],
          "name": "stdout"
        }
      ]
    },
    {
      "cell_type": "code",
      "metadata": {
        "colab": {
          "base_uri": "https://localhost:8080/"
        },
        "id": "Mk2b_V7OUF4T",
        "outputId": "7d6e65d6-3f57-4989-ade2-9d92e2ec7bd1"
      },
      "source": [
        "a = input()\n",
        "print('{:,}'.format(int(a)))"
      ],
      "execution_count": 33,
      "outputs": [
        {
          "output_type": "stream",
          "text": [
            "123456789\n",
            "123,456,789\n"
          ],
          "name": "stdout"
        }
      ]
    },
    {
      "cell_type": "code",
      "metadata": {
        "id": "8eB91YQZWv9E"
      },
      "source": [
        ""
      ],
      "execution_count": null,
      "outputs": []
    }
  ]
}