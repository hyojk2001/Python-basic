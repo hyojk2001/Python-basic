{
  "nbformat": 4,
  "nbformat_minor": 0,
  "metadata": {
    "colab": {
      "name": "0422_quiz.ipynb",
      "provenance": [],
      "collapsed_sections": [],
      "authorship_tag": "ABX9TyNEfPXWoJu9BNVVsnwwNyZm",
      "include_colab_link": true
    },
    "kernelspec": {
      "name": "python3",
      "display_name": "Python 3"
    },
    "language_info": {
      "name": "python"
    }
  },
  "cells": [
    {
      "cell_type": "markdown",
      "metadata": {
        "id": "view-in-github",
        "colab_type": "text"
      },
      "source": [
        "<a href=\"https://colab.research.google.com/github/hyojk2001/Python-basic/blob/main/0422_quiz.ipynb\" target=\"_parent\"><img src=\"https://colab.research.google.com/assets/colab-badge.svg\" alt=\"Open In Colab\"/></a>"
      ]
    },
    {
      "cell_type": "code",
      "metadata": {
        "colab": {
          "base_uri": "https://localhost:8080/"
        },
        "id": "WLvXs4CDuShi",
        "outputId": "9bfd3e74-4ce4-4680-bf8f-97d0193d9e08"
      },
      "source": [
        "#해당 딕셔너리 중 한국 면적과 가장 비슷한 국가와 그 크기 출력\n",
        "\n",
        "nationWidth = {\n",
        "'korea': 220877, 'Russia': 17098242, 'China': 9596961,\n",
        "'France': 543965, 'Japan': 377915, 'England' : 242900,\n",
        "}\n",
        "\n",
        "a = list(nationWidth.keys())      #딕셔너리의 키값을 모아 리스트화\n",
        "b = list(nationWidth.values())    #딕셔너리의 밸류값을 모아 리스트화\n",
        "c = []                            #korea와의 차이값을 담을 리스트 초기화\n",
        "for i in range(len(nationWidth)): #반복문 시작\n",
        "  c.append(abs(b[i] - nationWidth['korea']))  #c에는 (밸류값을 모은 b - 딕셔너리의 korea 밸류값)의 절대값 \n",
        "d = sorted(c)                     #이렇게 차이를 모은 c리스트를 순서대로 나열\n",
        "e = []                            #이렇게 정렬된 리스트들의 기존 인덱스값을 모을 행렬 초기화\n",
        "for j in range(len(c)):           #반복문 시작\n",
        "  e.append(c.index(d[j]))         #차이가 작은 별로 기존 c리스트에서 몇번째였는지를 입력\n",
        "index = e[1]                      #e의 2번째 숫자가 한국과 가장 면적이 작은 나라이다(1번째는 한국이므로 제외)\n",
        "print(a[index],c[index])          #이렇게 받은 인덱스스를 나라이름 모은 a와 차이값을 모은 c에 넣어서 값출력"
      ],
      "execution_count": 39,
      "outputs": [
        {
          "output_type": "stream",
          "text": [
            "[0, 5, 4, 3, 2, 1]\n",
            "England 22023\n"
          ],
          "name": "stdout"
        }
      ]
    },
    {
      "cell_type": "code",
      "metadata": {
        "id": "Wua5wQZ0uogV"
      },
      "source": [
        ""
      ],
      "execution_count": null,
      "outputs": []
    }
  ]
}