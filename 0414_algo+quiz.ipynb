{
  "nbformat": 4,
  "nbformat_minor": 0,
  "metadata": {
    "colab": {
      "name": "0414_algo+quiz.ipynb",
      "provenance": [],
      "collapsed_sections": [],
      "authorship_tag": "ABX9TyPqJIQG80sEMbryRczwhMrT",
      "include_colab_link": true
    },
    "kernelspec": {
      "name": "python3",
      "display_name": "Python 3"
    },
    "language_info": {
      "name": "python"
    }
  },
  "cells": [
    {
      "cell_type": "markdown",
      "metadata": {
        "id": "view-in-github",
        "colab_type": "text"
      },
      "source": [
        "<a href=\"https://colab.research.google.com/github/hyojk2001/Python-basic/blob/main/0414_algo%2Bquiz.ipynb\" target=\"_parent\"><img src=\"https://colab.research.google.com/assets/colab-badge.svg\" alt=\"Open In Colab\"/></a>"
      ]
    },
    {
      "cell_type": "code",
      "metadata": {
        "colab": {
          "base_uri": "https://localhost:8080/"
        },
        "id": "u6DTHsgAIoEG",
        "outputId": "4894f536-39b8-4432-ed65-866bbdc2d398"
      },
      "source": [
        "def is_prime(a):\n",
        "  for i in range(2,a):\n",
        "    n = a % i\n",
        "    if n != 0:\n",
        "      print('%d은(는) 소수입니다' % a)\n",
        "      return True\n",
        "      break\n",
        "    else:\n",
        "      print('%d은(는) 소수가 아닙니다' % a)\n",
        "      return False\n",
        "\n",
        "print(is_prime(14))\n",
        "print(is_prime(7))\n",
        "print(is_prime(13))\n",
        "print(is_prime(31))"
      ],
      "execution_count": 16,
      "outputs": [
        {
          "output_type": "stream",
          "text": [
            "14은(는) 소수가 아닙니다\n",
            "False\n",
            "7은(는) 소수입니다\n",
            "True\n",
            "13은(는) 소수입니다\n",
            "True\n",
            "31은(는) 소수입니다\n",
            "True\n"
          ],
          "name": "stdout"
        }
      ]
    },
    {
      "cell_type": "code",
      "metadata": {
        "id": "GG4FpAjnKBFB"
      },
      "source": [
        "#101이하의 숫자 중 소수인 숫자 찾기\n",
        "a = range(1,101)\n",
        "prime_numbers = []\n",
        "for i ina:\n",
        "  c = is_prime(i)\n",
        "  if c == True:\n",
        "    prime_numbers.append(i)\n",
        "\n",
        "print(prime_numbers)"
      ],
      "execution_count": null,
      "outputs": []
    },
    {
      "cell_type": "code",
      "metadata": {
        "colab": {
          "base_uri": "https://localhost:8080/"
        },
        "id": "tgYqhWSvN8Xp",
        "outputId": "d4cf79c6-a81c-41e2-bfd0-d9fd97f01628"
      },
      "source": [
        "# n이하의 수 중에서 소수의 갯수 찾기\n",
        "\n",
        "def solution(n):\n",
        "  answer = 0\n",
        "  number = []\n",
        "\n",
        "  for i in range(n+1):\n",
        "    number.append(i)    #n까지의 모든 수를 number 리스트에 담기\n",
        "\n",
        "  # 소수 찾기. 아닌 곳에는 -1을 넣기\n",
        "  for i in range(2,n+1,1):\n",
        "    if i == -1:\n",
        "      continue\n",
        "    j = 0\n",
        "    for j in range(i+i, n+1, i):\n",
        "      number[j] = -1    # 소수가 아닌 방에는 -1을 담음(-1은 소수가 아님을 표시)\n",
        "  \n",
        "  # -1이 아닌 것의 갯수 세기\n",
        "  for i in range(2,n+1):\n",
        "    if number[i] != -1:\n",
        "      answer += 1\n",
        "  return answer\n",
        "\n",
        "solution(5)"
      ],
      "execution_count": 26,
      "outputs": [
        {
          "output_type": "execute_result",
          "data": {
            "text/plain": [
              "3"
            ]
          },
          "metadata": {
            "tags": []
          },
          "execution_count": 26
        }
      ]
    },
    {
      "cell_type": "code",
      "metadata": {
        "colab": {
          "base_uri": "https://localhost:8080/"
        },
        "id": "T5h7WnYwOVX8",
        "outputId": "c24922e9-046b-4222-fee0-3b901b527666"
      },
      "source": [
        "# N이하의 정수 중에서 소수인 것 출력\n",
        "def solution(n):\n",
        "  answer = []\n",
        "  number = []\n",
        "\n",
        "  for i in range(n+1):\n",
        "    number.append(i)    #n까지의 모든 수를 number 리스트에 담기\n",
        "\n",
        "  # 소수 찾기. 아닌 곳에는 -1을 넣기\n",
        "  for i in range(2,n+1,1):\n",
        "    if i == -1:\n",
        "      continue\n",
        "    j = 0\n",
        "    for j in range(i+i, n+1, i):\n",
        "      number[j] = -1    # 소수가 아닌 방에는 -1을 담음(-1은 소수가 아님을 표시)\n",
        "  \n",
        "  # -1이 아닌 것의 갯수 세기\n",
        "  for i in range(2,n+1):\n",
        "    if number[i] != -1:\n",
        "      answer.append(number[i])\n",
        "  return answer\n",
        "\n",
        "solution(18)"
      ],
      "execution_count": 29,
      "outputs": [
        {
          "output_type": "execute_result",
          "data": {
            "text/plain": [
              "[2, 3, 5, 7, 11, 13, 17]"
            ]
          },
          "metadata": {
            "tags": []
          },
          "execution_count": 29
        }
      ]
    },
    {
      "cell_type": "code",
      "metadata": {
        "id": "ifxib5Nqb-NS"
      },
      "source": [
        "# ALGORITHM HOMEWORK(#28)\n",
        "# 아마존 면접문제\n",
        "# 다음과 같은 형태의 배열을\n",
        "# [a1,a2,a3...,an,b1,b2...bn]\n",
        "# 다음과 같은 형태로 바꾸시오\n",
        "# [a1,b1,a2,b2.....an,bn]"
      ],
      "execution_count": null,
      "outputs": []
    },
    {
      "cell_type": "code",
      "metadata": {
        "colab": {
          "base_uri": "https://localhost:8080/"
        },
        "id": "ISeVsiqViPpU",
        "outputId": "176898be-e4bb-4ee4-e1ed-bf0e462ed708"
      },
      "source": [
        "a = ['a1', 'a2', 'a3', 'a4', 'an', 'b1', 'b2', 'bn']\n",
        "b = []\n",
        "#a1,b1과 같이 숫자가 있는 항들을 먼저 정렬\n",
        "for i in range(len(a)): # 반복문 시작\n",
        "  for j in a:           # a 하나씩 떼어서 비교(j)\n",
        "    if str(i+1) in j:   # 정수 i+!(1,2,3..)이 j 안에 있으면\n",
        "      b.append(j)       # b에 집어넣어서 숫자가 포함된 항을 만들고 정렬\n",
        "\n",
        "#숫자가 없고 문자만 있는 항들의 정렬\n",
        "c = []                  # 문자만 있는 항들을 넣을 리스트\n",
        "for i in a:             # 하나씩 비교\n",
        "  if i.isalpha():       # 해당 항이 다 알파벳이면\n",
        "    c.append(i)         # c에다 하나씩 집어넣는다\n",
        "\n",
        "b.extend(sorted(c))     # 미리 만들어놓은 숫자포함 b에다 문자만있는 c를 extend로 추가\n",
        "print(b)"
      ],
      "execution_count": 95,
      "outputs": [
        {
          "output_type": "stream",
          "text": [
            "['a1', 'b1', 'a2', 'b2', 'a3', 'a4', 'an', 'bn']\n"
          ],
          "name": "stdout"
        }
      ]
    },
    {
      "cell_type": "code",
      "metadata": {
        "id": "TwBhJ43wqksQ"
      },
      "source": [
        ""
      ],
      "execution_count": null,
      "outputs": []
    },
    {
      "cell_type": "code",
      "metadata": {
        "colab": {
          "base_uri": "https://localhost:8080/"
        },
        "id": "V21OY_ZgiqB7",
        "outputId": "fd1af244-5a51-46e0-b592-3463c425480c"
      },
      "source": [
        ""
      ],
      "execution_count": 85,
      "outputs": [
        {
          "output_type": "execute_result",
          "data": {
            "text/plain": [
              "True"
            ]
          },
          "metadata": {
            "tags": []
          },
          "execution_count": 85
        }
      ]
    },
    {
      "cell_type": "code",
      "metadata": {
        "id": "23io--NXqnc8"
      },
      "source": [
        ""
      ],
      "execution_count": null,
      "outputs": []
    }
  ]
}