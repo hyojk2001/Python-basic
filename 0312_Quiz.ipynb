{
  "nbformat": 4,
  "nbformat_minor": 0,
  "metadata": {
    "colab": {
      "name": "0312_Quiz.ipynb",
      "provenance": [],
      "collapsed_sections": [],
      "authorship_tag": "ABX9TyO8v/xvJm8GKTmVSzGlMLw+",
      "include_colab_link": true
    },
    "kernelspec": {
      "name": "python3",
      "display_name": "Python 3"
    }
  },
  "cells": [
    {
      "cell_type": "markdown",
      "metadata": {
        "id": "view-in-github",
        "colab_type": "text"
      },
      "source": [
        "<a href=\"https://colab.research.google.com/github/hyojk2001/Python-basic/blob/main/0312_Quiz.ipynb\" target=\"_parent\"><img src=\"https://colab.research.google.com/assets/colab-badge.svg\" alt=\"Open In Colab\"/></a>"
      ]
    },
    {
      "cell_type": "code",
      "metadata": {
        "colab": {
          "base_uri": "https://localhost:8080/",
          "height": 70
        },
        "id": "zN_S9ijN_V4X",
        "outputId": "b026238c-e203-4fc9-9970-2029ad7ee6e5"
      },
      "source": [
        "#해당 튜플에서 중복을 제거\r\n",
        "\r\n",
        "people = [\r\n",
        "          ('이호준', '01050442903'),\r\n",
        "          ('이호상', '01051442904'),\r\n",
        "          ('이준호', '01050342904'),\r\n",
        "          ('이호준', '01050442903'),\r\n",
        "          ('이준', '01050412904'),\r\n",
        "          ('이호', '01050443904'),\r\n",
        "          ('이호준', '01050442903')\r\n",
        "]\r\n",
        "\r\n",
        "p = set(people)\r\n",
        "print(p)\r\n",
        "print(len(p))"
      ],
      "execution_count": 13,
      "outputs": [
        {
          "output_type": "stream",
          "text": [
            "{('이준', '01050412904'), ('이호준', '01050442903'), ('이준호', '01050342904'), ('이호상', '01051442904'), ('이호', '01050443904')}\n",
            "5\n"
          ],
          "name": "stdout"
        },
        {
          "output_type": "execute_result",
          "data": {
            "application/vnd.google.colaboratory.intrinsic+json": {
              "type": "string"
            },
            "text/plain": [
              "'01050412904'"
            ]
          },
          "metadata": {
            "tags": []
          },
          "execution_count": 13
        }
      ]
    },
    {
      "cell_type": "code",
      "metadata": {
        "colab": {
          "base_uri": "https://localhost:8080/"
        },
        "id": "zR2Sy07uAnoH",
        "outputId": "450788e5-7c85-4019-a602-d594a9899db5"
      },
      "source": [
        "#대문자는 소문자, 소문자는 대문자로 출력\r\n",
        "\r\n",
        "a = input()   #입력\r\n",
        "b = ''        #새로 받을 문자열 초기화\r\n",
        "for i in a:   #a 안의 글자들을 하나씩 받는다\r\n",
        "  if i.isupper():           #그 글자가 대문자면\r\n",
        "    b = b + i.lower()       #소문자로 변환해서 문자열에 더해준다\r\n",
        "  elif i.islower():         #그 글자가 소문자면\r\n",
        "    b = b + i.upper()       #대문자로 변환해서 문자열에 더한다\r\n",
        "\r\n",
        "print(b)"
      ],
      "execution_count": 16,
      "outputs": [
        {
          "output_type": "stream",
          "text": [
            "aaBBccc\n",
            "AAbbCCC\n"
          ],
          "name": "stdout"
        }
      ]
    },
    {
      "cell_type": "code",
      "metadata": {
        "colab": {
          "base_uri": "https://localhost:8080/",
          "height": 53
        },
        "id": "AXU5Fqi-AeG6",
        "outputId": "f8043a4d-6621-44f8-899a-2ebcbd2b3dc8"
      },
      "source": [
        "a = input()\r\n",
        "a.swapcase()"
      ],
      "execution_count": 17,
      "outputs": [
        {
          "output_type": "stream",
          "text": [
            "aabbCC\n"
          ],
          "name": "stdout"
        },
        {
          "output_type": "execute_result",
          "data": {
            "application/vnd.google.colaboratory.intrinsic+json": {
              "type": "string"
            },
            "text/plain": [
              "'AABBcc'"
            ]
          },
          "metadata": {
            "tags": []
          },
          "execution_count": 17
        }
      ]
    },
    {
      "cell_type": "code",
      "metadata": {
        "colab": {
          "base_uri": "https://localhost:8080/"
        },
        "id": "PjkpP7yyRn0o",
        "outputId": "6fcc921c-0d91-40d8-b284-901deb68483f"
      },
      "source": [
        "#최대값 뽑기\r\n",
        "\r\n",
        "a = list(map(int,input().split()))    #공백 단위로 숫자 입력받기\r\n",
        "\r\n",
        "sorted(a)[len(a)-1]            #정렬된 리스트의 마지막이 제일 크다\r\n"
      ],
      "execution_count": 35,
      "outputs": [
        {
          "output_type": "stream",
          "text": [
            "10 2 3 6 8 9 2 1\n"
          ],
          "name": "stdout"
        },
        {
          "output_type": "execute_result",
          "data": {
            "text/plain": [
              "10"
            ]
          },
          "metadata": {
            "tags": []
          },
          "execution_count": 35
        }
      ]
    },
    {
      "cell_type": "code",
      "metadata": {
        "colab": {
          "base_uri": "https://localhost:8080/"
        },
        "id": "siPhc_pOZca3",
        "outputId": "11e4e5f7-b44c-4062-aa21-dcf6c3945f1e"
      },
      "source": [
        "#이름순으로 정렬하여 출력\r\n",
        "\r\n",
        "student = ['강은지','김유정','박현서','최성훈','홍유진','박지호', '권윤일',\r\n",
        "           '김채리', '한지호','김진이','김민호','강채연']\r\n",
        "\r\n",
        "for i in range(len(student)):\r\n",
        "  print('번호 : {}, 이름 : {}'.format(i+1, sorted(student)[i]))"
      ],
      "execution_count": 42,
      "outputs": [
        {
          "output_type": "stream",
          "text": [
            "번호 : 1, 이름 : 강은지\n",
            "번호 : 2, 이름 : 강채연\n",
            "번호 : 3, 이름 : 권윤일\n",
            "번호 : 4, 이름 : 김민호\n",
            "번호 : 5, 이름 : 김유정\n",
            "번호 : 6, 이름 : 김진이\n",
            "번호 : 7, 이름 : 김채리\n",
            "번호 : 8, 이름 : 박지호\n",
            "번호 : 9, 이름 : 박현서\n",
            "번호 : 10, 이름 : 최성훈\n",
            "번호 : 11, 이름 : 한지호\n",
            "번호 : 12, 이름 : 홍유진\n"
          ],
          "name": "stdout"
        }
      ]
    },
    {
      "cell_type": "code",
      "metadata": {
        "colab": {
          "base_uri": "https://localhost:8080/"
        },
        "id": "56FKrGy8AcUH",
        "outputId": "6d53ac72-9dbb-4db5-9e9a-27bad1415067"
      },
      "source": [
        "student = ['강은지','김유정','박현서','최성훈','홍유진','박지호', '권윤일',\r\n",
        "           '김채리', '한지호','김진이','김민호','강채연']\r\n",
        "\r\n",
        "for i,j in sorted(enumerate(student)):\r\n",
        "  print('번호 : {}, 이름 : {}'.format(i+1,j))"
      ],
      "execution_count": 56,
      "outputs": [
        {
          "output_type": "stream",
          "text": [
            "번호 : 1, 이름 : 강은지\n",
            "번호 : 2, 이름 : 김유정\n",
            "번호 : 3, 이름 : 박현서\n",
            "번호 : 4, 이름 : 최성훈\n",
            "번호 : 5, 이름 : 홍유진\n",
            "번호 : 6, 이름 : 박지호\n",
            "번호 : 7, 이름 : 권윤일\n",
            "번호 : 8, 이름 : 김채리\n",
            "번호 : 9, 이름 : 한지호\n",
            "번호 : 10, 이름 : 김진이\n",
            "번호 : 11, 이름 : 김민호\n",
            "번호 : 12, 이름 : 강채연\n"
          ],
          "name": "stdout"
        }
      ]
    },
    {
      "cell_type": "code",
      "metadata": {
        "colab": {
          "base_uri": "https://localhost:8080/"
        },
        "id": "ll4yjyGDAKdR",
        "outputId": "e9c8f34b-387b-497f-8b4e-9f5b82c7b753"
      },
      "source": [
        "ord(';')"
      ],
      "execution_count": 75,
      "outputs": [
        {
          "output_type": "execute_result",
          "data": {
            "text/plain": [
              "59"
            ]
          },
          "metadata": {
            "tags": []
          },
          "execution_count": 75
        }
      ]
    },
    {
      "cell_type": "code",
      "metadata": {
        "colab": {
          "base_uri": "https://localhost:8080/"
        },
        "id": "0rm--IARAHU_",
        "outputId": "6ac825ed-486d-4784-b11a-0b0ec831bc03"
      },
      "source": [
        "a = list(input().split()) #띄어쓰기 기준 입력 받아 리스트로 변경\r\n",
        "\r\n",
        "for i in a:               #리스트 안에서 하나씩 꺼내온다\r\n",
        "  print(i[0], end='')     #리스트 안 단어들의 맨 첫글자를 출력"
      ],
      "execution_count": 80,
      "outputs": [
        {
          "output_type": "stream",
          "text": [
            "술 졸라 쳐먹고 뒈져 버릴테다\n",
            "술졸쳐뒈버"
          ],
          "name": "stdout"
        }
      ]
    },
    {
      "cell_type": "code",
      "metadata": {
        "colab": {
          "base_uri": "https://localhost:8080/"
        },
        "id": "BM9y_nzS__3v",
        "outputId": "0f4cb99a-f9f5-4f82-cfbd-fe80e52aa1e0"
      },
      "source": [
        "print(str(len(input()))+'자리수')   #input을 받아 길이를 구하고 이를 문자형으로 치환하면 몇자리 수인지 확인가능"
      ],
      "execution_count": 94,
      "outputs": [
        {
          "output_type": "stream",
          "text": [
            "-20\n",
            "3자리수\n"
          ],
          "name": "stdout"
        }
      ]
    },
    {
      "cell_type": "code",
      "metadata": {
        "colab": {
          "base_uri": "https://localhost:8080/"
        },
        "id": "jCwW_Qne_8M2",
        "outputId": "b5902a88-a996-4230-e1b6-dcc77594a817"
      },
      "source": [
        "# a = int(input())\r\n",
        "\r\n",
        "# if a < 0:\r\n",
        "#   print('잘못된 입력입니다')\r\n",
        "# else:\r\n",
        "#   print('{}자리 수'.format(len(str(a))))"
      ],
      "execution_count": 93,
      "outputs": [
        {
          "output_type": "stream",
          "text": [
            "-1\n",
            "잘못된 입력입니다\n"
          ],
          "name": "stdout"
        }
      ]
    },
    {
      "cell_type": "code",
      "metadata": {
        "colab": {
          "base_uri": "https://localhost:8080/"
        },
        "id": "5Xm1xvwy_tzk",
        "outputId": "77240849-73da-4f3e-8730-eeabb8d5d0d3"
      },
      "source": [
        "a = list(input().split())   #띄어쓰기를 기준으로 구분해 입력받아 리스트\r\n",
        "b = 0                       #글자수 구하는 거 초기화\r\n",
        "\r\n",
        "for i in a:                 #리스트를 보면서\r\n",
        "  b = b + len(i)            #각 인자의 글자개수를 계속 더한다\r\n",
        "\r\n",
        "print(b)"
      ],
      "execution_count": 111,
      "outputs": [
        {
          "output_type": "stream",
          "text": [
            "공백을 제외한 글자수만을 세는 코드 테스트\n",
            "18\n"
          ],
          "name": "stdout"
        }
      ]
    },
    {
      "cell_type": "code",
      "metadata": {
        "colab": {
          "base_uri": "https://localhost:8080/"
        },
        "id": "ODrEIr3nflju",
        "outputId": "5a600974-3513-4793-a12e-8cb9251f2787"
      },
      "source": [
        "a = input()\r\n",
        "print(len(a.replace(' ','')))"
      ],
      "execution_count": 114,
      "outputs": [
        {
          "output_type": "stream",
          "text": [
            "공백을 제외한 글자수만을 세는 코드 테스트\n",
            "18\n"
          ],
          "name": "stdout"
        }
      ]
    },
    {
      "cell_type": "code",
      "metadata": {
        "id": "d2kJrr-3hwAL"
      },
      "source": [
        ""
      ],
      "execution_count": null,
      "outputs": []
    }
  ]
}