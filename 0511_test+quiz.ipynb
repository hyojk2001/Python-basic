{
  "nbformat": 4,
  "nbformat_minor": 0,
  "metadata": {
    "colab": {
      "name": "0511_test+quiz.ipynb",
      "provenance": [],
      "collapsed_sections": [],
      "authorship_tag": "ABX9TyN7w6sHJNzE/j+sjU6/huw+",
      "include_colab_link": true
    },
    "kernelspec": {
      "name": "python3",
      "display_name": "Python 3"
    },
    "language_info": {
      "name": "python"
    }
  },
  "cells": [
    {
      "cell_type": "markdown",
      "metadata": {
        "id": "view-in-github",
        "colab_type": "text"
      },
      "source": [
        "<a href=\"https://colab.research.google.com/github/hyojk2001/Python-basic/blob/main/0511_test%2Bquiz.ipynb\" target=\"_parent\"><img src=\"https://colab.research.google.com/assets/colab-badge.svg\" alt=\"Open In Colab\"/></a>"
      ]
    },
    {
      "cell_type": "code",
      "metadata": {
        "colab": {
          "base_uri": "https://localhost:8080/",
          "height": 35
        },
        "id": "Z4RMiNf3GUgq",
        "outputId": "ecfe2906-d90d-493a-a283-cf38b81838d5"
      },
      "source": [
        "def solution(n):\n",
        "  answer='1'\n",
        "  if n == 1:\n",
        "    return answer\n",
        "  for i in range(1,n):\n",
        "    answer = rule(answer)\n",
        "  return answer\n",
        "\n",
        "def rule(n):\n",
        "  num_l = max([int(i) for i in n])\n",
        "  d = [str(i)+str(str(n).count(str(i))) for i in range(1,num_l+1)]\n",
        "  return ''.join(d)\n",
        "\n",
        "solution(4)"
      ],
      "execution_count": 51,
      "outputs": [
        {
          "output_type": "execute_result",
          "data": {
            "application/vnd.google.colaboratory.intrinsic+json": {
              "type": "string"
            },
            "text/plain": [
              "'1121'"
            ]
          },
          "metadata": {
            "tags": []
          },
          "execution_count": 51
        }
      ]
    },
    {
      "cell_type": "code",
      "metadata": {
        "colab": {
          "base_uri": "https://localhost:8080/"
        },
        "id": "A1hn1KtuJC8_",
        "outputId": "6783cccd-49b1-43f0-a028-d94f5e1e117c"
      },
      "source": [
        "class program:                      # 클래스 정의\n",
        "  def solution(n):                  # 최종 계산 함수 정의\n",
        "    answer='1'                      # 기본값을 1로 놓는다\n",
        "    if n == 1:                      # n값이 1이면\n",
        "      return 'return = ' +answer    # 그냥 그대로 1 반환\n",
        "    for i in range(1,n):            # n이 1보다 크면\n",
        "      answer = rule(answer)         # 위 문제를 계산한 rule함수 값 반환\n",
        "    return 'return = ' + answer     # 출력\n",
        "\n",
        "  def rule(n):                                  # 문제를 계산할 rule 함수 정의\n",
        "    num_l = max([int(i) for i in n])            # n부터 1까지 값 중 최대값인 n 계산\n",
        "    d = [str(str(n).count(str(i)))+str(i) for i in range(num_l,0,-1)]\n",
        "                                                # 'n부터 1까지의 각각 개수' + '해당 숫자'를 더해서 배열로 만든다\n",
        "    return ''.join(d)                           # 이렇게 만들어진 배열을 맨 위에서부터 합해서 내려온다\n",
        "\n",
        "a = program                    # 클래스 선언\n",
        "print('n = 1')                 # n = 1이면\n",
        "print(a.solution(1))           # 해당값이 1일때의 solution값 출력\n",
        "print('n = 4')                 # n = 4면\n",
        "print(a.solution(4))           # 해당값 4일때의 solution값 출력"
      ],
      "execution_count": 68,
      "outputs": [
        {
          "output_type": "stream",
          "text": [
            "n = 1\n",
            "return = 1\n",
            "n = 4\n",
            "return = 1211\n"
          ],
          "name": "stdout"
        }
      ]
    },
    {
      "cell_type": "code",
      "metadata": {
        "id": "YSQ0SkPEKJFe"
      },
      "source": [
        ""
      ],
      "execution_count": null,
      "outputs": []
    },
    {
      "cell_type": "code",
      "metadata": {
        "id": "MRWnWqvbmLDC"
      },
      "source": [
        "# ALGORITHM HOMEWORK (#42)\n",
        "# 행복 왕국의 왕실 정원은 체스판과 같은 8*8 좌표 평면이다. 왕실 정원의 특정한 한칸에\n",
        "# 나이크가 서 있다. 나이트는 매우 충성스러운 신하로서 매일 무술을 연마한다.\n",
        "# 나이트는 말을 타고 있기 때문에 이동을 할 때는 L자 형태로만 이동할 수 있으며 정원\n",
        "# 밖으로는 나갈 수 없다. 나이트는 특정한 위치에서 다음과 같은 2가지 경우로 이동할 수\n",
        "# 있다.\n",
        "# 1. 수평으로 두칸 이동한 뒤에 수직으로 한칸 이동하기\n",
        "# 2. 수직으로 두칸 이동한 뒤에 수평으로 한칸 이동하기\n",
        "# 8*8 좌표 평면상에 나이트의 위치가 주어졌을 때 나이트가 이동할 수 있는 경우의 수를\n",
        "# 출력하는 프로그램을 작성하시오. 왕실의 정원에서 행 위치를 표현할 때는 1부터 8로\n",
        "# 표현하며 열 위치를 표현할 때는 a부터 h로 표현한다.\n",
        "# 입력 조건 : 첫째 줄에 8*8좌표 평면상에서 현재 나이트가 위치한 곳의 좌표를 나타내는 두\n",
        "# 문자로 구성된 문자열이 입력된다. 입력 문자는 a1처럼 열과 행으로 이루어진다.\n",
        "# 출력 조건 : 첫째 줄에 나이트가 이동할 수 있는 경우의 수를 출력하시오.\n",
        "\n",
        "# 입력예시 : a1\n",
        "# 출력예시 : 2"
      ],
      "execution_count": 1,
      "outputs": []
    },
    {
      "cell_type": "code",
      "metadata": {
        "colab": {
          "base_uri": "https://localhost:8080/"
        },
        "id": "XLl2Vdaaypzj",
        "outputId": "e8ab2f74-6fd9-4f7a-b3b3-87bfc4571390"
      },
      "source": [
        "def solution(a):\n",
        "  n = 8   # 8*8 체스판의 한 변의 길이\n",
        "  row = ord(a[0]) - ord('a') + 1 \n",
        "  # 행(a,b,c,d,e,f,g,h)의 아스키숫자 변환 후 a값만큼 뺀 뒤 + 1을 하면 1번째가 a, 2번째가 b....8이면 h가 된다.\n",
        "  col = int(a[1])  #열의 자리번호\n",
        "  cnt = 0   #해당 자리에서 갈 수 있는 방법 갯수 초기화\n",
        "\n",
        "  #하나의 점에서 할 수 있는 모든 범위의 표현식(16개) 구하기\n",
        "  a,b = [1,-1],[2,-2]\n",
        "  c = []\n",
        "  for i in a:\n",
        "    for j in b:\n",
        "      c.append([i+row,j+col])   #c 안쪽 리스트의 [0]은 row에 해당하는 연산 숫자\n",
        "      c.append([j+row,i+col])   #c 안쪽 리스트의 [1]은 col에 해당하는 연산 숫자로 놓는다\n",
        "  for k in c:\n",
        "    if 1 <= k[0] <= 8 and 1 <= k[1] <= 8:   # 계산한 x좌표, y좌표가 1부터 8 사이면\n",
        "      cnt += 1        # 가능한 길이므로 카운터 + 1\n",
        "    else:             # 아니면\n",
        "      pass            # 패스한다\n",
        "  return cnt          # 이렇게 구한 카운터 값 반환\n",
        "\n",
        "print(solution('a1'))\n",
        "print(solution('a8'))\n",
        "print(solution('g6'))\n",
        "print(solution('d4'))"
      ],
      "execution_count": 45,
      "outputs": [
        {
          "output_type": "stream",
          "text": [
            "2\n",
            "2\n",
            "6\n",
            "8\n"
          ],
          "name": "stdout"
        }
      ]
    },
    {
      "cell_type": "code",
      "metadata": {
        "colab": {
          "base_uri": "https://localhost:8080/"
        },
        "id": "2Rf3tcLEmo2g",
        "outputId": "e23a1063-216f-4ee1-ebab-d1c6b44b01e0"
      },
      "source": [
        "type(ord('a'))"
      ],
      "execution_count": 14,
      "outputs": [
        {
          "output_type": "execute_result",
          "data": {
            "text/plain": [
              "int"
            ]
          },
          "metadata": {
            "tags": []
          },
          "execution_count": 14
        }
      ]
    },
    {
      "cell_type": "code",
      "metadata": {
        "colab": {
          "base_uri": "https://localhost:8080/"
        },
        "id": "PWOU7Z94mpzU",
        "outputId": "0d3c80ed-b9f3-49f0-9785-9b2713008a5c"
      },
      "source": [
        "a,b = [1,-1],[2,-2]\n",
        "c = []\n",
        "for i in a:\n",
        "  for j in b:\n",
        "    c.append([i,j])\n",
        "    c.append([j,i])\n",
        "\n",
        "c[7][1]"
      ],
      "execution_count": 17,
      "outputs": [
        {
          "output_type": "execute_result",
          "data": {
            "text/plain": [
              "-1"
            ]
          },
          "metadata": {
            "tags": []
          },
          "execution_count": 17
        }
      ]
    },
    {
      "cell_type": "code",
      "metadata": {
        "colab": {
          "base_uri": "https://localhost:8080/"
        },
        "id": "1ZC1nB6JtJHt",
        "outputId": "9d1f9246-ad7b-4782-d5f8-2e87a7ef2239"
      },
      "source": [
        "a = 'a1'\n",
        "b = ord(a[0])-ord('a')+1\n",
        "b"
      ],
      "execution_count": 21,
      "outputs": [
        {
          "output_type": "execute_result",
          "data": {
            "text/plain": [
              "1"
            ]
          },
          "metadata": {
            "tags": []
          },
          "execution_count": 21
        }
      ]
    },
    {
      "cell_type": "code",
      "metadata": {
        "colab": {
          "base_uri": "https://localhost:8080/"
        },
        "id": "doySqi8pzLOG",
        "outputId": "f18a9a93-870b-4e74-dca5-57a786d8a7d2"
      },
      "source": [
        "a,b = [1,-1],[2,-2]\n",
        "row,col = 3,4\n",
        "c = []\n",
        "for i in a:\n",
        "  for j in b:\n",
        "    c.append([i+row,j+col])   #c 안 리스트의 [0]은 row에 해당하는 연산 숫자\n",
        "    c.append([j+row,i+col])   #c 안쪽 리스트[1]은 col에 해당하는 연산 숫자로 놓는다\n",
        "c"
      ],
      "execution_count": 37,
      "outputs": [
        {
          "output_type": "execute_result",
          "data": {
            "text/plain": [
              "[[4, 6], [5, 5], [4, 2], [1, 5], [2, 6], [5, 3], [2, 2], [1, 3]]"
            ]
          },
          "metadata": {
            "tags": []
          },
          "execution_count": 37
        }
      ]
    },
    {
      "cell_type": "code",
      "metadata": {
        "id": "UdpxBXeJ9LH8"
      },
      "source": [
        ""
      ],
      "execution_count": null,
      "outputs": []
    }
  ]
}