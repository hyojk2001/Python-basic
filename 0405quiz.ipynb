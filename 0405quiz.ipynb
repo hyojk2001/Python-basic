{
  "nbformat": 4,
  "nbformat_minor": 0,
  "metadata": {
    "colab": {
      "name": "0405quiz.ipynb",
      "provenance": [],
      "collapsed_sections": [],
      "authorship_tag": "ABX9TyPBLqkHy6HB2IXuYNJSGBIU",
      "include_colab_link": true
    },
    "kernelspec": {
      "name": "python3",
      "display_name": "Python 3"
    },
    "language_info": {
      "name": "python"
    }
  },
  "cells": [
    {
      "cell_type": "markdown",
      "metadata": {
        "id": "view-in-github",
        "colab_type": "text"
      },
      "source": [
        "<a href=\"https://colab.research.google.com/github/hyojk2001/Python-basic/blob/main/0405quiz.ipynb\" target=\"_parent\"><img src=\"https://colab.research.google.com/assets/colab-badge.svg\" alt=\"Open In Colab\"/></a>"
      ]
    },
    {
      "cell_type": "code",
      "metadata": {
        "colab": {
          "base_uri": "https://localhost:8080/"
        },
        "id": "7w3kVHHteIc5",
        "outputId": "e05fcc49-0b83-49ef-ae23-b3599fd1f7dd"
      },
      "source": [
        "def num(m): #함수를 정의한다\n",
        "  if m % 10== 1 and m % 100 != 11:    #1로 끝날 경우\n",
        "    return str(m) + \"st\"      #1st와 같이 st를 붙인다\n",
        "  elif m % 10 == 2 and m % 100 != 12: #2로 끝날 경우\n",
        "    return str(m) + \"nd\"      #2nd와 같이 nd를 붙인다\n",
        "  elif m % 10 == 3 and m % 100 != 13: #3으로 끝날 경우\n",
        "    return str(m) + \"rd\"    #3rd와 같이 rd를 붙인다\n",
        "  else:                     #그 외에는\n",
        "    return str(m) + \"th\"    #4th와 같이 th를 붙인다\n",
        "\n",
        "print (num(1))\n",
        "print (num(23))\n",
        "print (num(13))"
      ],
      "execution_count": null,
      "outputs": [
        {
          "output_type": "stream",
          "text": [
            "1st\n",
            "23rd\n",
            "13th\n"
          ],
          "name": "stdout"
        }
      ]
    },
    {
      "cell_type": "code",
      "metadata": {
        "id": "7irrsQHhr9pw"
      },
      "source": [
        ""
      ],
      "execution_count": null,
      "outputs": []
    },
    {
      "cell_type": "code",
      "metadata": {
        "id": "AdhWOMRgeNdH"
      },
      "source": [
        ""
      ],
      "execution_count": null,
      "outputs": []
    }
  ]
}