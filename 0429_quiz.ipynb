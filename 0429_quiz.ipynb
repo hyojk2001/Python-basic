{
  "nbformat": 4,
  "nbformat_minor": 0,
  "metadata": {
    "colab": {
      "name": "0429_quiz.ipynb",
      "provenance": [],
      "collapsed_sections": [],
      "authorship_tag": "ABX9TyMNy4TpjbSoQmd3Xa/MCqSE",
      "include_colab_link": true
    },
    "kernelspec": {
      "name": "python3",
      "display_name": "Python 3"
    },
    "language_info": {
      "name": "python"
    }
  },
  "cells": [
    {
      "cell_type": "markdown",
      "metadata": {
        "id": "view-in-github",
        "colab_type": "text"
      },
      "source": [
        "<a href=\"https://colab.research.google.com/github/hyojk2001/Python-basic/blob/main/0429_quiz.ipynb\" target=\"_parent\"><img src=\"https://colab.research.google.com/assets/colab-badge.svg\" alt=\"Open In Colab\"/></a>"
      ]
    },
    {
      "cell_type": "code",
      "metadata": {
        "id": "ii6GO1Iy0Kll"
      },
      "source": [
        "#어떤 숫자 n 입력받음. n=1723으로 가정ㅇ\n",
        "#이 숫자에서 k개의 수를 뽑음\n",
        "#예를들어 k=2면 17,12,13....23 등과 같은 2자리 수\n",
        "#이 중에서 가장 큰수는 73이 된다.\n",
        "#어떤 수 n에서 k개의 수를 선택해 만들 수 있는 숫자 중에서 가장큰 숫자 찾기"
      ],
      "execution_count": null,
      "outputs": []
    },
    {
      "cell_type": "code",
      "metadata": {
        "colab": {
          "base_uri": "https://localhost:8080/"
        },
        "id": "igwsqrM20gsl",
        "outputId": "5c1a664b-2751-4dce-bbbf-b39670ee92c3"
      },
      "source": [
        "def solution(n,k):\n",
        "  a = list(str(n))      #숫자를 자리수대로 잘라서 리스트에 넣는다\n",
        "  b = []                #그 자른 숫자들을 순차적으로 만들 리스트 초기화\n",
        "\n",
        "  for i in a:           #반복문 시작\n",
        "    b.append(int(i))    #각 자리수를 int로 만든후 b에 넣는다\n",
        "\n",
        "  b.sort()              #정렬을 통해 오름차순의 리스트로 만든다\n",
        "  answer = ''           #가장 큰 값을 넣을 변수 초기화\n",
        "\n",
        "  for j in range(len(b)-1,len(b)-1-k,-1):   #오름차순이므로 뒤에서부터 k개만큼을 가져온다\n",
        "    answer += str(b[j]) #가장 큰 수부터 k개를 가져와서 순서대로 더하면 가장 큰 수가 된다\n",
        "\n",
        "  return answer\n",
        "\n",
        "print(solution(1723,2))\n",
        "print(solution(87356,4))\n",
        "print(solution(12395637,3))\n",
        "print(solution(23353,3))"
      ],
      "execution_count": 15,
      "outputs": [
        {
          "output_type": "stream",
          "text": [
            "73\n",
            "8765\n",
            "976\n",
            "533\n"
          ],
          "name": "stdout"
        }
      ]
    },
    {
      "cell_type": "code",
      "metadata": {
        "colab": {
          "base_uri": "https://localhost:8080/"
        },
        "id": "RflinwNX0wWE",
        "outputId": "acfdea2f-6a3e-4a0d-b343-3d82dc58a575"
      },
      "source": [
        "a = 1723\n",
        "list(str(a))"
      ],
      "execution_count": 1,
      "outputs": [
        {
          "output_type": "execute_result",
          "data": {
            "text/plain": [
              "['1', '7', '2', '3']"
            ]
          },
          "metadata": {
            "tags": []
          },
          "execution_count": 1
        }
      ]
    },
    {
      "cell_type": "code",
      "metadata": {
        "colab": {
          "base_uri": "https://localhost:8080/"
        },
        "id": "LpefE5V40zMr",
        "outputId": "28bf8a17-0f58-4091-f3e7-7cf38b25c4ea"
      },
      "source": [
        "10**4"
      ],
      "execution_count": 2,
      "outputs": [
        {
          "output_type": "execute_result",
          "data": {
            "text/plain": [
              "10000"
            ]
          },
          "metadata": {
            "tags": []
          },
          "execution_count": 2
        }
      ]
    },
    {
      "cell_type": "code",
      "metadata": {
        "colab": {
          "base_uri": "https://localhost:8080/"
        },
        "id": "GF6kB-BY1Si1",
        "outputId": "91cb824f-f332-4240-d514-b9abc6011504"
      },
      "source": [
        "set([1,7,3,2])"
      ],
      "execution_count": 3,
      "outputs": [
        {
          "output_type": "execute_result",
          "data": {
            "text/plain": [
              "{1, 2, 3, 7}"
            ]
          },
          "metadata": {
            "tags": []
          },
          "execution_count": 3
        }
      ]
    },
    {
      "cell_type": "code",
      "metadata": {
        "id": "k-jiA7gq3OqV"
      },
      "source": [
        ""
      ],
      "execution_count": null,
      "outputs": []
    }
  ]
}