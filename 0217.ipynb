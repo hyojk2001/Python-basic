{
 "cells": [
  {
   "cell_type": "code",
   "execution_count": 2,
   "metadata": {},
   "outputs": [
    {
     "name": "stdout",
     "output_type": "stream",
     "text": [
      "0\n",
      "1\n",
      "2\n",
      "3\n",
      "4\n",
      "5\n",
      "6\n",
      "7\n",
      "8\n",
      "9\n"
     ]
    }
   ],
   "source": [
    "for i in range(0,10):\n",
    "    print(i)"
   ]
  },
  {
   "cell_type": "code",
   "execution_count": 22,
   "metadata": {},
   "outputs": [
    {
     "name": "stdout",
     "output_type": "stream",
     "text": [
      "add / mul, which one do you choose? : add\n"
     ]
    },
    {
     "data": {
      "text/plain": [
       "15"
      ]
     },
     "execution_count": 22,
     "metadata": {},
     "output_type": "execute_result"
    }
   ],
   "source": [
    "def cal(*args) :\n",
    "    a = input('add / mul, which one do you choose? : ')\n",
    "    add = 0\n",
    "    mul = 1\n",
    "    \n",
    "    if a == 'add' :\n",
    "        for i in args :\n",
    "            add = add + i\n",
    "        return add\n",
    "    elif a == 'mul' :\n",
    "        for i in args : \n",
    "            mul = mul * i\n",
    "        return mul\n",
    "\n",
    "cal(1,2,3,4,5)"
   ]
  },
  {
   "cell_type": "code",
   "execution_count": null,
   "metadata": {},
   "outputs": [],
   "source": [
    "####################################\n",
    "#클래스"
   ]
  },
  {
   "cell_type": "code",
   "execution_count": 24,
   "metadata": {},
   "outputs": [
    {
     "name": "stdout",
     "output_type": "stream",
     "text": [
      "3\n",
      "7\n"
     ]
    }
   ],
   "source": [
    "result = 0\n",
    "\n",
    "def add(num):\n",
    "    global result   # 전역변수 선언. 여기의 글로벌 변수는 result2 값을 다시 받아와서 여기에다가 num을 더해서 새로운 계산을 한다. \n",
    "    result += num   # result = result + num\n",
    "    return result   #result2\n",
    "\n",
    "print(add(3))\n",
    "print(add(4))\n",
    "#add 함수는 매개변수 num에 받은 값을 이전에 계산한 결과값에 더한 후 돌려주는 함수이다."
   ]
  },
  {
   "cell_type": "code",
   "execution_count": 25,
   "metadata": {},
   "outputs": [],
   "source": [
    "result1 = 0\n",
    "result2 = 0\n",
    "\n",
    "def add1(num):\n",
    "    global result1   \n",
    "    result1 += num  \n",
    "    return result1   \n",
    "\n",
    "def add2(num):\n",
    "    global result2   \n",
    "    result2 += num  \n",
    "    return result2   \n",
    "\n"
   ]
  },
  {
   "cell_type": "code",
   "execution_count": 28,
   "metadata": {},
   "outputs": [
    {
     "name": "stdout",
     "output_type": "stream",
     "text": [
      "3\n",
      "7\n"
     ]
    }
   ],
   "source": [
    "print(add2(3))\n",
    "print(add2(4))"
   ]
  },
  {
   "cell_type": "code",
   "execution_count": 29,
   "metadata": {},
   "outputs": [
    {
     "name": "stdout",
     "output_type": "stream",
     "text": [
      "13\n",
      "17\n"
     ]
    }
   ],
   "source": [
    "print(add1(3))\n",
    "print(add1(4))"
   ]
  },
  {
   "cell_type": "code",
   "execution_count": 31,
   "metadata": {},
   "outputs": [],
   "source": [
    "#클래스 사용\n",
    "\n",
    "class Calculator:\n",
    "    def __init__(self) :    #__는 던더바 라고 읽고 사용한다\n",
    "        self.result = 0\n",
    "        \n",
    "    def add(self,num) :\n",
    "        self.result += num\n",
    "        return self.result\n",
    "    \n",
    "    def sub(self,num) :\n",
    "        self.result -= num\n",
    "        return self.result"
   ]
  },
  {
   "cell_type": "code",
   "execution_count": 32,
   "metadata": {},
   "outputs": [],
   "source": [
    "cal1 = Calculator()\n",
    "cal2 = Calculator()"
   ]
  },
  {
   "cell_type": "code",
   "execution_count": 34,
   "metadata": {},
   "outputs": [
    {
     "data": {
      "text/plain": [
       "(11, 16, 16, 24)"
      ]
     },
     "execution_count": 34,
     "metadata": {},
     "output_type": "execute_result"
    }
   ],
   "source": [
    "cal1.add(3), cal2.add(4), cal1.add(5), cal2.add(8)"
   ]
  },
  {
   "cell_type": "code",
   "execution_count": 36,
   "metadata": {},
   "outputs": [
    {
     "data": {
      "text/plain": [
       "12"
      ]
     },
     "execution_count": 36,
     "metadata": {},
     "output_type": "execute_result"
    }
   ],
   "source": [
    "cal3 = Calculator()\n",
    "cal3.add(4)\n",
    "cal3.add(8)"
   ]
  },
  {
   "cell_type": "code",
   "execution_count": 37,
   "metadata": {},
   "outputs": [],
   "source": [
    "cal1.__init__()"
   ]
  },
  {
   "cell_type": "code",
   "execution_count": 38,
   "metadata": {},
   "outputs": [
    {
     "data": {
      "text/plain": [
       "0"
      ]
     },
     "execution_count": 38,
     "metadata": {},
     "output_type": "execute_result"
    }
   ],
   "source": [
    "cal1.add(0)"
   ]
  },
  {
   "cell_type": "code",
   "execution_count": 40,
   "metadata": {},
   "outputs": [
    {
     "ename": "AttributeError",
     "evalue": "'Calculator' object has no attribute 'su'",
     "output_type": "error",
     "traceback": [
      "\u001b[1;31m---------------------------------------------------------------------------\u001b[0m",
      "\u001b[1;31mAttributeError\u001b[0m                            Traceback (most recent call last)",
      "\u001b[1;32m<ipython-input-40-47cedc015112>\u001b[0m in \u001b[0;36m<module>\u001b[1;34m\u001b[0m\n\u001b[1;32m----> 1\u001b[1;33m \u001b[0mcal1\u001b[0m\u001b[1;33m.\u001b[0m\u001b[0msu\u001b[0m\u001b[1;33m\u001b[0m\u001b[1;33m\u001b[0m\u001b[0m\n\u001b[0m",
      "\u001b[1;31mAttributeError\u001b[0m: 'Calculator' object has no attribute 'su'"
     ]
    }
   ],
   "source": [
    "cal1.su"
   ]
  },
  {
   "cell_type": "code",
   "execution_count": 41,
   "metadata": {},
   "outputs": [],
   "source": [
    "##############################\n",
    "#객체 = 인스턴스. 인스턴스란 클래스로 만든 객체를 의미.\n",
    "# a = Cookie() 라고 만들면 a는 Cookie 클래스의 객체(=인스턴스)이다.\n",
    "#인스턴스는 특정 객체(a)가 어떤 클래스(Cooke)의 객체인지를 '관계 위주로' 설명할 때 사용."
   ]
  },
  {
   "cell_type": "code",
   "execution_count": 138,
   "metadata": {},
   "outputs": [],
   "source": [
    "#함수를 클라스 안에서 구현하면 메서드라고 표현한다.\n",
    "\n",
    "class FourCal : \n",
    "    \n",
    "    def __init__(self,first,second) :\n",
    "        self.first = first\n",
    "        self.second = second\n",
    "        \n",
    "    def add(self) :\n",
    "        result = self.first + self.second\n",
    "        return result\n",
    "    \n",
    "    def sub(self) :\n",
    "        result = self.first - self.second\n",
    "        return result\n",
    "    \n",
    "    def mul(self) :\n",
    "        result = self.first * self.second\n",
    "        return result\n",
    "    \n",
    "    def div(self) :\n",
    "        result = self.first / self.second\n",
    "        return result"
   ]
  },
  {
   "cell_type": "code",
   "execution_count": 139,
   "metadata": {},
   "outputs": [],
   "source": [
    "#객체변수는 다른 객체들의 영향을 받지 않고 독립적으로 그 값을 유지한다는 점은 중요"
   ]
  },
  {
   "cell_type": "code",
   "execution_count": 140,
   "metadata": {},
   "outputs": [],
   "source": [
    "a = FourCal(4,2)"
   ]
  },
  {
   "cell_type": "code",
   "execution_count": 141,
   "metadata": {},
   "outputs": [
    {
     "data": {
      "text/plain": [
       "(4, 2)"
      ]
     },
     "execution_count": 141,
     "metadata": {},
     "output_type": "execute_result"
    }
   ],
   "source": [
    "a.first, a.second\n",
    "#a 객체에 객체변수 second가 생성됨."
   ]
  },
  {
   "cell_type": "code",
   "execution_count": 142,
   "metadata": {},
   "outputs": [
    {
     "name": "stdout",
     "output_type": "stream",
     "text": [
      "6 2 8 2.0\n"
     ]
    }
   ],
   "source": [
    "print(a.add(),a.sub(),a.mul(),a.div())"
   ]
  },
  {
   "cell_type": "code",
   "execution_count": 143,
   "metadata": {},
   "outputs": [],
   "source": [
    "##############################################\n",
    "# 상속 : 어떤 클래스를 만들 때 다른 클래스의 기능을 물려받을 수 있게 만드는 것\n",
    "# 형식 : class 클래스 이름(상속할 클래스 이름)"
   ]
  },
  {
   "cell_type": "code",
   "execution_count": 144,
   "metadata": {},
   "outputs": [],
   "source": [
    "class MoreFourCal(FourCal) :  #부모는 Fourcal, 자식은 MoreFourCal. 부모의 기능(Fourcal)을 그대로 물려받아 쓸 수 있다.\n",
    "    def pow(self) : \n",
    "        result = self.first ** self.second\n",
    "        return result\n",
    "    "
   ]
  },
  {
   "cell_type": "code",
   "execution_count": 145,
   "metadata": {},
   "outputs": [
    {
     "data": {
      "text/plain": [
       "(6, 2, 8, 2.0, 16)"
      ]
     },
     "execution_count": 145,
     "metadata": {},
     "output_type": "execute_result"
    }
   ],
   "source": [
    "a = MoreFourCal(4,2)\n",
    "a.add(), a.sub(), a.mul(), a.div(), a.pow()  #a.pow()는 상속받은 것 외의 기능을 추가해서 구현한 함수."
   ]
  },
  {
   "cell_type": "code",
   "execution_count": 146,
   "metadata": {},
   "outputs": [],
   "source": [
    "#상속의 이유 : 기존 클래스(부모 클래스)를 변경하지 않고, 그대로 놔둔 채 기능을 추가 혹은 기존 기능을 변경하려 할 때 사용한다."
   ]
  },
  {
   "cell_type": "code",
   "execution_count": 147,
   "metadata": {},
   "outputs": [],
   "source": [
    "a = FourCal(4,1)"
   ]
  },
  {
   "cell_type": "code",
   "execution_count": 148,
   "metadata": {},
   "outputs": [
    {
     "data": {
      "text/plain": [
       "4.0"
      ]
     },
     "execution_count": 148,
     "metadata": {},
     "output_type": "execute_result"
    }
   ],
   "source": [
    "a.div()"
   ]
  },
  {
   "cell_type": "code",
   "execution_count": 152,
   "metadata": {},
   "outputs": [],
   "source": [
    "#메서드 오버라이딩\n",
    "\n",
    "class SafeFourCal(Fourcal) : \n",
    "    def div(self) :   #Fourcal에 div 메서드가 있음에도 동일한 이름으로 추가 생성 \n",
    "        if self.second == 0 :\n",
    "            return 0\n",
    "        else : \n",
    "            return self.first / self.second"
   ]
  },
  {
   "cell_type": "code",
   "execution_count": 153,
   "metadata": {},
   "outputs": [
    {
     "ename": "TypeError",
     "evalue": "SafeFourCal() takes no arguments",
     "output_type": "error",
     "traceback": [
      "\u001b[1;31m---------------------------------------------------------------------------\u001b[0m",
      "\u001b[1;31mTypeError\u001b[0m                                 Traceback (most recent call last)",
      "\u001b[1;32m<ipython-input-153-70ecbd2a0278>\u001b[0m in \u001b[0;36m<module>\u001b[1;34m\u001b[0m\n\u001b[1;32m----> 1\u001b[1;33m \u001b[0ma\u001b[0m \u001b[1;33m=\u001b[0m \u001b[0mSafeFourCal\u001b[0m\u001b[1;33m(\u001b[0m\u001b[1;36m4\u001b[0m\u001b[1;33m,\u001b[0m\u001b[1;36m0\u001b[0m\u001b[1;33m)\u001b[0m\u001b[1;33m\u001b[0m\u001b[1;33m\u001b[0m\u001b[0m\n\u001b[0m\u001b[0;32m      2\u001b[0m \u001b[0ma\u001b[0m\u001b[1;33m.\u001b[0m\u001b[0mdiv\u001b[0m\u001b[1;33m(\u001b[0m\u001b[1;33m)\u001b[0m\u001b[1;33m\u001b[0m\u001b[1;33m\u001b[0m\u001b[0m\n",
      "\u001b[1;31mTypeError\u001b[0m: SafeFourCal() takes no arguments"
     ]
    }
   ],
   "source": [
    "a = SafeFourCal(4,0)\n",
    "a.div()"
   ]
  },
  {
   "cell_type": "code",
   "execution_count": 156,
   "metadata": {},
   "outputs": [
    {
     "ename": "TypeError",
     "evalue": "SafeFourCal() takes no arguments",
     "output_type": "error",
     "traceback": [
      "\u001b[1;31m---------------------------------------------------------------------------\u001b[0m",
      "\u001b[1;31mTypeError\u001b[0m                                 Traceback (most recent call last)",
      "\u001b[1;32m<ipython-input-156-cd7e56bc5255>\u001b[0m in \u001b[0;36m<module>\u001b[1;34m\u001b[0m\n\u001b[1;32m----> 1\u001b[1;33m \u001b[0mb\u001b[0m \u001b[1;33m=\u001b[0m \u001b[0mSafeFourCal\u001b[0m\u001b[1;33m(\u001b[0m\u001b[1;36m4\u001b[0m\u001b[1;33m,\u001b[0m\u001b[1;36m1\u001b[0m\u001b[1;33m)\u001b[0m\u001b[1;33m\u001b[0m\u001b[1;33m\u001b[0m\u001b[0m\n\u001b[0m\u001b[0;32m      2\u001b[0m \u001b[0mb\u001b[0m\u001b[1;33m.\u001b[0m\u001b[0mdiv\u001b[0m\u001b[1;33m(\u001b[0m\u001b[1;33m)\u001b[0m\u001b[1;33m\u001b[0m\u001b[1;33m\u001b[0m\u001b[0m\n",
      "\u001b[1;31mTypeError\u001b[0m: SafeFourCal() takes no arguments"
     ]
    }
   ],
   "source": [
    "b = SafeFourCal(4,1)\n",
    "b.div()"
   ]
  },
  {
   "cell_type": "code",
   "execution_count": 157,
   "metadata": {},
   "outputs": [],
   "source": [
    "#클래스 변수"
   ]
  },
  {
   "cell_type": "code",
   "execution_count": 165,
   "metadata": {},
   "outputs": [],
   "source": [
    "class Family:\n",
    "    lastname = '김'"
   ]
  },
  {
   "cell_type": "code",
   "execution_count": 168,
   "metadata": {},
   "outputs": [
    {
     "name": "stdout",
     "output_type": "stream",
     "text": [
      "김\n"
     ]
    }
   ],
   "source": [
    "print(Family.lastname)"
   ]
  },
  {
   "cell_type": "code",
   "execution_count": 169,
   "metadata": {},
   "outputs": [],
   "source": [
    "a = Family()"
   ]
  },
  {
   "cell_type": "code",
   "execution_count": 170,
   "metadata": {},
   "outputs": [],
   "source": [
    "b = Family()"
   ]
  },
  {
   "cell_type": "code",
   "execution_count": 171,
   "metadata": {},
   "outputs": [
    {
     "name": "stdout",
     "output_type": "stream",
     "text": [
      "김 김\n"
     ]
    }
   ],
   "source": [
    "print(a.lastname, b.lastname)"
   ]
  },
  {
   "cell_type": "code",
   "execution_count": 172,
   "metadata": {},
   "outputs": [],
   "source": [
    "Family.lastname = '박'"
   ]
  },
  {
   "cell_type": "code",
   "execution_count": 173,
   "metadata": {},
   "outputs": [
    {
     "name": "stdout",
     "output_type": "stream",
     "text": [
      "박 박\n"
     ]
    }
   ],
   "source": [
    "print(a.lastname, b.lastname)\n",
    "#클래스 변수 값을 변경하면 클래스로 만든 객체의 lastnamem 값도 모두 변경됨.\n",
    "#즉 클래스 변수는 클래스로 만든 모든 객체에 공유된다."
   ]
  },
  {
   "cell_type": "code",
   "execution_count": 174,
   "metadata": {},
   "outputs": [
    {
     "data": {
      "text/plain": [
       "2643631231184"
      ]
     },
     "execution_count": 174,
     "metadata": {},
     "output_type": "execute_result"
    }
   ],
   "source": [
    "id(Family.lastname)"
   ]
  },
  {
   "cell_type": "code",
   "execution_count": 175,
   "metadata": {},
   "outputs": [
    {
     "data": {
      "text/plain": [
       "2643631231184"
      ]
     },
     "execution_count": 175,
     "metadata": {},
     "output_type": "execute_result"
    }
   ],
   "source": [
    "id(a.lastname)"
   ]
  },
  {
   "cell_type": "code",
   "execution_count": 176,
   "metadata": {},
   "outputs": [
    {
     "data": {
      "text/plain": [
       "2643631231184"
      ]
     },
     "execution_count": 176,
     "metadata": {},
     "output_type": "execute_result"
    }
   ],
   "source": [
    "id(b.lastname)"
   ]
  },
  {
   "cell_type": "code",
   "execution_count": 178,
   "metadata": {},
   "outputs": [],
   "source": [
    "###############################################\n",
    "#모듈 : 함수, 변수, 또는 클래스를 모아 놓은 파일"
   ]
  },
  {
   "cell_type": "code",
   "execution_count": 179,
   "metadata": {},
   "outputs": [],
   "source": [
    "#####################################\n",
    "#패키지 : 디렉토리의 또 다른 말."
   ]
  },
  {
   "cell_type": "code",
   "execution_count": 180,
   "metadata": {},
   "outputs": [],
   "source": [
    "######################################\n",
    "#예외 처리 : try , except 사용"
   ]
  },
  {
   "cell_type": "code",
   "execution_count": 181,
   "metadata": {},
   "outputs": [],
   "source": [
    "# try:\n",
    "#     ..try 실행블록..\n",
    "# except [발생 오류[as 오류 메시지 변수]]:\n",
    "#     ..except 실행블록1..\n",
    "# except [발생 오류[as 오류 메시지 변수]]:\n",
    "#     ..except 실행블록2..\n",
    "# except [발생 오류[as 오류 메시지 변수]]:\n",
    "#     ..except 실행블록3..\n",
    "    \n",
    "# try 블록 수행 중 오류가 발생하면 except 블록을 수행한다. \n",
    "# 하지만 try 블록에서 오류가 발생 안하면 except는 실행 안된다.\n",
    "# except는 여러 개 사용할 수도 있다(여러 개의 오류를 처리하기 위해)."
   ]
  },
  {
   "cell_type": "code",
   "execution_count": 183,
   "metadata": {},
   "outputs": [
    {
     "name": "stdout",
     "output_type": "stream",
     "text": [
      "인덱싱할 수 없습니다.\n"
     ]
    }
   ],
   "source": [
    "try:\n",
    "    a = [1,2]\n",
    "    print(a[3])\n",
    "    4/0\n",
    "except ZeroDivisionError:\n",
    "    print('0으로 나눌 수 없습니다.')\n",
    "except IndexError:\n",
    "    print('인덱싱할 수 없습니다.')\n",
    "    \n",
    "#인덱싱 오류가 먼저 발생되면 그 이후는 보지 않는다(=다음 것이 오류여도 오류가 발생하지 않는다).\n",
    "#여기선 a가 2개의 요소값을 가지므로 먼저 IndexError에 걸려서 이를 처리한 후 그 다음은 보지 않는다."
   ]
  },
  {
   "cell_type": "code",
   "execution_count": 184,
   "metadata": {},
   "outputs": [
    {
     "name": "stdout",
     "output_type": "stream",
     "text": [
      "list index out of range\n"
     ]
    }
   ],
   "source": [
    "#여러 개의 오류를 동시에 처리하는 방식\n",
    "\n",
    "try:\n",
    "    a = [1,2]\n",
    "    print(a[3])\n",
    "    4/0\n",
    "except ZeroDivisionError as e:\n",
    "    print(e)\n",
    "except IndexError as e:\n",
    "    print(e)"
   ]
  },
  {
   "cell_type": "code",
   "execution_count": 185,
   "metadata": {},
   "outputs": [
    {
     "name": "stdout",
     "output_type": "stream",
     "text": [
      "list index out of range\n"
     ]
    }
   ],
   "source": [
    "try:\n",
    "    a = [1,2]\n",
    "    print(a[3])\n",
    "    4/0\n",
    "except (ZeroDivisionError, IndexError) as e:\n",
    "    print(e)\n",
    "    \n",
    "#여러 개의 오류를 동시에 처리하려면 괄호에 경우의 수를 묶어서 처리"
   ]
  },
  {
   "cell_type": "code",
   "execution_count": 188,
   "metadata": {},
   "outputs": [
    {
     "ename": "IndentationError",
     "evalue": "expected an indented block (<ipython-input-188-380d324b1dff>, line 6)",
     "output_type": "error",
     "traceback": [
      "\u001b[1;36m  File \u001b[1;32m\"<ipython-input-188-380d324b1dff>\"\u001b[1;36m, line \u001b[1;32m6\u001b[0m\n\u001b[1;33m    else x :\u001b[0m\n\u001b[1;37m    ^\u001b[0m\n\u001b[1;31mIndentationError\u001b[0m\u001b[1;31m:\u001b[0m expected an indented block\n"
     ]
    }
   ],
   "source": [
    "x = 20 \n",
    "y = 40\n",
    "z = y \n",
    "if (y > x) :\n",
    "    \n",
    "else x :\n",
    "    print(z) "
   ]
  },
  {
   "cell_type": "code",
   "execution_count": null,
   "metadata": {},
   "outputs": [],
   "source": []
  },
  {
   "cell_type": "code",
   "execution_count": null,
   "metadata": {},
   "outputs": [],
   "source": []
  }
 ],
 "metadata": {
  "kernelspec": {
   "display_name": "Python 3",
   "language": "python",
   "name": "python3"
  },
  "language_info": {
   "codemirror_mode": {
    "name": "ipython",
    "version": 3
   },
   "file_extension": ".py",
   "mimetype": "text/x-python",
   "name": "python",
   "nbconvert_exporter": "python",
   "pygments_lexer": "ipython3",
   "version": "3.8.5"
  }
 },
 "nbformat": 4,
 "nbformat_minor": 4
}
