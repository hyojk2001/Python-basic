{
  "nbformat": 4,
  "nbformat_minor": 0,
  "metadata": {
    "colab": {
      "name": "0510_quiz.ipynb",
      "provenance": [],
      "collapsed_sections": [],
      "authorship_tag": "ABX9TyOuErhEIoRv2l1BEv2s9jcM",
      "include_colab_link": true
    },
    "kernelspec": {
      "name": "python3",
      "display_name": "Python 3"
    },
    "language_info": {
      "name": "python"
    }
  },
  "cells": [
    {
      "cell_type": "markdown",
      "metadata": {
        "id": "view-in-github",
        "colab_type": "text"
      },
      "source": [
        "<a href=\"https://colab.research.google.com/github/hyojk2001/Python-basic/blob/main/0510_quiz.ipynb\" target=\"_parent\"><img src=\"https://colab.research.google.com/assets/colab-badge.svg\" alt=\"Open In Colab\"/></a>"
      ]
    },
    {
      "cell_type": "code",
      "metadata": {
        "id": "RRHfr71aruDp"
      },
      "source": [
        "# ALGORITHM HOMEWORK (#41)\n",
        "# 여행가 A는 N * N 크기의 정사각형 공간위에 서 있다. 이 공간은 1 * 1 크기의\n",
        "# 정사각형으로 나누어져 있다. 가정 왼쪽 위 좌표는 (1,1)이며, 가장 오른쪽 아래 좌표는\n",
        "# (N,N)에 해당한다. 여행가 A는 상,하,좌,우 방향으로 이동할 수 있으며, 시작 좌표는 항상\n",
        "# (1,1)이다, 우리 앞에는 여행가 A가 이동할 계획이 적힌 계획서가 놓여 있다.\n",
        "# 계획서에는 하나의 줄에 띄어쓰기를 기준으로 하여 L,R,U,D 중 하나의 문자가 반복적으로\n",
        "# 적혀 있다. 각 문자의 의미는 다음과 같다.\n",
        "# L : 왼쪽으로 한 칸 이동 R : 오른쪽으로 한 칸 이동\n",
        "# U : 위로 한 칸 이동 D : 아래로 한 칸 이동\n",
        "# 이 때 여행가 A가 N*N 크기의 정사각형 공간을 벗어나는 움직임은 무시된다. 예를 들어,\n",
        "# (1,1)의 위치에서 L혹은 U를 만나면 무시된다.\n",
        "# 입력 조건 : 첫째 줄에 공간의 크기를 나타내는 N이 주어진다(1<=N <=100)\n",
        "# 둘째 줄에 여행가 A가 이동할 계획서 내용이 주어진다 (1<=이동횟수<=100)\n",
        "# 출력 조건 : 첫째 줄에 여행가 A가 최종적으로 도착할 지점의 좌표(X,Y)를 공백으로\n",
        "# 구분하여 출력한다.\n",
        "\n",
        "# BACKGROUND\n",
        "# • 구현, implementation\n",
        "# • 알고리즘을 소스코드로 바꾸는 과정\n",
        "# • 모든 범위의 코딩 문제 유형을 포함하는 개념\n",
        "# • 풀이를 떠올리는 것은 쉽지만 코드로 옮기기 어려운 문제\n",
        "# • 완전탐색 : 모든 경우의 수를 다 계산하는 방법\n",
        "# • 시뮬레이션 : 알고리즘을 한 단계식 차례대로 직접 수행\n",
        "# • 파이썬에서 리스트의 크기(크기와 제한시간)\n",
        "# ▪ 데이터의 개수 1000 메모리 약 4KB\n",
        "# ▪ 1000000 4MB\n",
        "# ▪ 10000000 40MB\n",
        "# REQUIREMENT\n",
        "# • Int • Input • Split • For • Range • print\n",
        "\n",
        "\n",
        "# • 입력예시 5\n",
        "# R R R U D D\n",
        "# • 출력예시\n",
        "# 3 4 \n",
        "\n"
      ],
      "execution_count": null,
      "outputs": []
    },
    {
      "cell_type": "code",
      "metadata": {
        "colab": {
          "base_uri": "https://localhost:8080/"
        },
        "id": "7FQ1J4xdcSXW",
        "outputId": "2e6d4d50-d507-4a0e-86dd-853cfec93711"
      },
      "source": [
        "n = int(input('N 입력 : ')) # N 입력받기\n",
        "x, y = 1, 1       #x, y 초기값 입력\n",
        "plans = input('방향 입력 : ').split() # R R U D D와 같이 방향단축키 입력받음\n",
        "\n",
        "for i in plans: #반복문 시작\n",
        "  if i == 'L':  #받은게 L일때\n",
        "    if x == 1:  #그 시점 x값이 1이면\n",
        "      pass      #아무런 연산 없음\n",
        "    else:       #1이 아니면, 즉 1보다 크면\n",
        "      x -= 1    #L을 받을때 x좌표값 - 1\n",
        "  elif i == 'R':  #받은게 R일때\n",
        "    if x == n:    #그 시점 x값이 최대범위인 n을 넘어서면\n",
        "      pass        #아무런 계산 안함\n",
        "    else:         #그게 아니면, 즉 최대 범위 n을 넘어서지 않으면\n",
        "      x += 1      #R을 받을때 x좌표값 + 1\n",
        "  elif i == 'U':  #y축도 x축과 같다\n",
        "    if y == 1 :\n",
        "      pass\n",
        "    else:\n",
        "      y -= 1\n",
        "  elif i == 'D':\n",
        "    if y == n:\n",
        "      pass \n",
        "    else:\n",
        "      y += 1\n",
        "\n",
        "print('출력 : ',x,y)"
      ],
      "execution_count": 49,
      "outputs": [
        {
          "output_type": "stream",
          "text": [
            "N 입력 : 5\n",
            "방향 입력 : R R R U D D\n",
            "출력 :  4 3\n"
          ],
          "name": "stdout"
        }
      ]
    },
    {
      "cell_type": "code",
      "metadata": {
        "id": "k84ZbxMBejgE",
        "colab": {
          "base_uri": "https://localhost:8080/",
          "height": 134
        },
        "outputId": "5b94ab29-d822-4a6d-a403-c1e2ccb5573b"
      },
      "source": [
        "Ra = 'L'\n",
        "x = 0\n",
        "\n",
        "x += 1 if a == 'x' else x -= 1\n",
        "print(x)"
      ],
      "execution_count": 43,
      "outputs": [
        {
          "output_type": "error",
          "ename": "SyntaxError",
          "evalue": "ignored",
          "traceback": [
            "\u001b[0;36m  File \u001b[0;32m\"<ipython-input-43-14fdb1bc9a74>\"\u001b[0;36m, line \u001b[0;32m4\u001b[0m\n\u001b[0;31m    x += 1 if a == 'x' else x -= 1\u001b[0m\n\u001b[0m                               ^\u001b[0m\n\u001b[0;31mSyntaxError\u001b[0m\u001b[0;31m:\u001b[0m invalid syntax\n"
          ]
        }
      ]
    },
    {
      "cell_type": "code",
      "metadata": {
        "id": "TMCbHfvkvssc"
      },
      "source": [
        ""
      ],
      "execution_count": 31,
      "outputs": []
    }
  ]
}