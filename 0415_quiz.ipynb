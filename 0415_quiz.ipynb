{
  "nbformat": 4,
  "nbformat_minor": 0,
  "metadata": {
    "colab": {
      "name": "0415_quiz.ipynb",
      "provenance": [],
      "collapsed_sections": [],
      "authorship_tag": "ABX9TyOK6ALLWaxyOYfKRioNkLzX",
      "include_colab_link": true
    },
    "kernelspec": {
      "name": "python3",
      "display_name": "Python 3"
    },
    "language_info": {
      "name": "python"
    }
  },
  "cells": [
    {
      "cell_type": "markdown",
      "metadata": {
        "id": "view-in-github",
        "colab_type": "text"
      },
      "source": [
        "<a href=\"https://colab.research.google.com/github/hyojk2001/Python-basic/blob/main/0415_quiz.ipynb\" target=\"_parent\"><img src=\"https://colab.research.google.com/assets/colab-badge.svg\" alt=\"Open In Colab\"/></a>"
      ]
    },
    {
      "cell_type": "code",
      "metadata": {
        "id": "RsFSHgogr0uv"
      },
      "source": [
        "# a = [1,2,3,4]\n",
        "# b = [a,b,c,d]\n",
        "\n",
        "# [[1,a],[b,2],[3,c],[d,4]] 이런 식으로 a,b리스트가 번갈아가면서 출력되게 만들기"
      ],
      "execution_count": null,
      "outputs": []
    },
    {
      "cell_type": "code",
      "metadata": {
        "colab": {
          "base_uri": "https://localhost:8080/"
        },
        "id": "708Q-vLTsIJL",
        "outputId": "befabfdc-6df6-4917-bbae-5ec443a3f38e"
      },
      "source": [
        "m = list(input('a : ').split(','))    #입력받아서 ',' 기준으로 나눠서 숫자 리스트만들기\n",
        "n = list(input('b : ').split(','))    #입력받아서 ',' 기준으로 나눠서 문자 리스트만들기\n",
        "\n",
        "p = [ [] for i in range(len(m)) ]     #m의 원소 갯수와 똑같은 빈 리스트를 가진 리스트만들기\n",
        "for i in range(len(m)):               #m개의 원소를 살펴보기\n",
        "  if int(m[i]) % 2 == 0:              #숫자가 담긴 m원소들이 만약 짝수면\n",
        "    p[i].append(n[i])                 #문자를 먼저 담고\n",
        "    p[i].append(m[i])                 #그 다음에 숫자를 담는다\n",
        "  else:                               #숫자가 담긴 m원소들이 홀수면\n",
        "    p[i].append(m[i])                 #숫자를 먼저 담고\n",
        "    p[i].append(n[i])                 #그다음에 숫자를 담는다\n",
        "\n",
        "print(p)"
      ],
      "execution_count": 20,
      "outputs": [
        {
          "output_type": "stream",
          "text": [
            "a : 1,2,3,4\n",
            "b : a,b,c,d\n",
            "[['1', 'a'], ['b', '2'], ['3', 'c'], ['d', '4']]\n"
          ],
          "name": "stdout"
        }
      ]
    },
    {
      "cell_type": "code",
      "metadata": {
        "id": "tqZKSg-KtVtK"
      },
      "source": [
        ""
      ],
      "execution_count": 15,
      "outputs": []
    }
  ]
}