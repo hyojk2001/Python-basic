{
  "nbformat": 4,
  "nbformat_minor": 0,
  "metadata": {
    "colab": {
      "name": "0408quiz.ipynb",
      "provenance": [],
      "collapsed_sections": [],
      "authorship_tag": "ABX9TyPHQagsnAkhJt0o/iieaI64",
      "include_colab_link": true
    },
    "kernelspec": {
      "name": "python3",
      "display_name": "Python 3"
    },
    "language_info": {
      "name": "python"
    }
  },
  "cells": [
    {
      "cell_type": "markdown",
      "metadata": {
        "id": "view-in-github",
        "colab_type": "text"
      },
      "source": [
        "<a href=\"https://colab.research.google.com/github/hyojk2001/Python-basic/blob/main/0408quiz.ipynb\" target=\"_parent\"><img src=\"https://colab.research.google.com/assets/colab-badge.svg\" alt=\"Open In Colab\"/></a>"
      ]
    },
    {
      "cell_type": "code",
      "metadata": {
        "colab": {
          "base_uri": "https://localhost:8080/"
        },
        "id": "WayctqOyc9a5",
        "outputId": "57b8bc9e-492a-42ef-a140-3fbf39f8715a"
      },
      "source": [
        "def func():\n",
        "  arr = [11,13,17,19,23,29,31]\n",
        "  head = 0\n",
        "  tail = 6\n",
        "  center = 0\n",
        "  a = int(input('입력 : '))\n",
        "\n",
        "  while head <= tail:\n",
        "    center = int((head + tail) / 2)\n",
        "    if arr[center] == a :\n",
        "      print('{}번째의 요소가 일치'.format(center))\n",
        "      break\n",
        "    elif arr[center] < a :\n",
        "      head = center + 1\n",
        "    else:\n",
        "      tail = center - 1\n",
        "  if(head > tail):\n",
        "    print(\"찾지 못했습니다.\")\n",
        "\n",
        "func()"
      ],
      "execution_count": null,
      "outputs": [
        {
          "output_type": "stream",
          "text": [
            "입력 : 16\n",
            "찾지 못했습니다.\n"
          ],
          "name": "stdout"
        }
      ]
    },
    {
      "cell_type": "code",
      "metadata": {
        "id": "uTInQ3spmkDr"
      },
      "source": [
        "# ALGORITHM HOMEWORK\n",
        "# 문자열을 입력 받아서, 같은 문자가 연속적으로 반복되는\n",
        "# 경우에 그 반복 횟수를 표시하여 문자열을 압축하기.\n",
        "# 입력 예시: aaabbcccccca\n",
        "# 출력 예시: a3b2c6a1\n",
        "# # 모든 코드 라인마다 주석 첨부"
      ],
      "execution_count": null,
      "outputs": []
    },
    {
      "cell_type": "code",
      "metadata": {
        "id": "6QT5_8Bvdq8p",
        "colab": {
          "base_uri": "https://localhost:8080/"
        },
        "outputId": "41aa22eb-da35-47b4-8b1a-8990cdaae50f"
      },
      "source": [
        "a = list(input())                   #글자 쪼개기       \n",
        "a.append('')                        #마지막 글자가 문제가 되기에 임의의 ''를 a의 마지막에 추가해준다.\n",
        "cnt = 1                             #각 문자의 글자수 1로 초기화\n",
        "for i in range(0,len(a)-1):         #글자들에서\n",
        "  if a[i] == a [i+1]:               #어떤 글자와 다음 글자가 같으면\n",
        "    cnt += 1                        #해당 글자의 카운트에 1 추가\n",
        "  else:                             #글자가 다르면\n",
        "    print(a[i]+str(cnt),end='')     #글자와 카운트를 더해서 출력한다   \n",
        "    cnt = 1                         #글자가 달라지므로 카운트도 1로 초기화한 뒤 다시 잇는다"
      ],
      "execution_count": null,
      "outputs": [
        {
          "output_type": "stream",
          "text": [
            "aaabbcccccca\n",
            "a3b2c6a1"
          ],
          "name": "stdout"
        }
      ]
    },
    {
      "cell_type": "code",
      "metadata": {
        "colab": {
          "base_uri": "https://localhost:8080/"
        },
        "id": "SgayO9HIm7ER",
        "outputId": "5440fbfc-a5b1-45d9-d270-3fb4ca1233f3"
      },
      "source": [
        "a = list(input())\n",
        "a\n",
        "l1 = l2 = []\n",
        "\n",
        "for i in range(len(a)):\n",
        "  l1.append(a.count(a[i]))\n",
        "  if \n",
        "\n",
        "\n",
        "print(a,l1)\n",
        "\n"
      ],
      "execution_count": null,
      "outputs": [
        {
          "output_type": "stream",
          "text": [
            "hello\n",
            "['h', 'e', 'l', 'l', 'o'] [1, 1, 2, 2, 1]\n"
          ],
          "name": "stdout"
        }
      ]
    },
    {
      "cell_type": "code",
      "metadata": {
        "colab": {
          "base_uri": "https://localhost:8080/"
        },
        "id": "bb8Pra25JkR6",
        "outputId": "7084c730-2b27-4960-dfec-fe6afe260adb"
      },
      "source": [
        "a = list(input())\n",
        "a.append('')\n",
        "\n",
        "# for i in range(len(a)-1):\n",
        "#   if a[i] == a[i+1]:\n",
        "#     a.pop(i)\n",
        "a"
      ],
      "execution_count": null,
      "outputs": [
        {
          "output_type": "stream",
          "text": [
            "hello\n"
          ],
          "name": "stdout"
        },
        {
          "output_type": "execute_result",
          "data": {
            "text/plain": [
              "['h', 'e', 'l', 'l', 'o', '']"
            ]
          },
          "metadata": {
            "tags": []
          },
          "execution_count": 63
        }
      ]
    },
    {
      "cell_type": "code",
      "metadata": {
        "id": "_RlXUFxIPxaZ"
      },
      "source": [
        ""
      ],
      "execution_count": null,
      "outputs": []
    }
  ]
}