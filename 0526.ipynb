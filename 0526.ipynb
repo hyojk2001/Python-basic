{
  "nbformat": 4,
  "nbformat_minor": 0,
  "metadata": {
    "colab": {
      "name": "0526.ipynb",
      "provenance": [],
      "collapsed_sections": [],
      "authorship_tag": "ABX9TyPjYcm18OZmSYW/o9q8aLxO",
      "include_colab_link": true
    },
    "kernelspec": {
      "name": "python3",
      "display_name": "Python 3"
    },
    "language_info": {
      "name": "python"
    }
  },
  "cells": [
    {
      "cell_type": "markdown",
      "metadata": {
        "id": "view-in-github",
        "colab_type": "text"
      },
      "source": [
        "<a href=\"https://colab.research.google.com/github/hyojk2001/Python-basic/blob/main/0526.ipynb\" target=\"_parent\"><img src=\"https://colab.research.google.com/assets/colab-badge.svg\" alt=\"Open In Colab\"/></a>"
      ]
    },
    {
      "cell_type": "code",
      "metadata": {
        "id": "jmD-nyv4D7gS",
        "colab": {
          "base_uri": "https://localhost:8080/"
        },
        "outputId": "73812ec3-428f-4a4c-9098-f70d847b8f7f"
      },
      "source": [
        "class program:              # 클래스 생성\n",
        "  def solution(n,k):        # 함수 생성\n",
        "    print('n = ', n, ' k = ', k)    #받은 n, k를 출력\n",
        "    if n == 0 or k == 0:    # 만약에 입력받는 색이나 기둥이 0이면\n",
        "      return 0              # 0을 반환\n",
        "\n",
        "    a = [0 for i in range(n+1)]   # 그게 아닌 일반적인 경우에는 0을 n+1개만큼 생성한다\n",
        "    a[0] = k                # n이 1개일때 k개의 색으로 만들수 있는 경우는 k개이다\n",
        "    a[1] = k*k              # n이 2개일때 1개일 때의 제곱이므로 k*k이다\n",
        "\n",
        "    for i in range(2,n):    # 기둥이 3개 이상일때 k개의 색으로 만들수 있는 경우의 수는\n",
        "      a[i] = (k-1)*(a[i-1] + a[i-2])  # 그 전 k-1개의 색깔 경우의 수에\n",
        "                                      # 기둥이 하나 없을때 + 기둥이 2개 없을때의 경우의수와 같다\n",
        "    return a[n-1]           # 그렇게 만든 리스트의 마지막 수 반환         \n",
        "\n",
        "p = program\n",
        "print(p.solution(3,2))\n",
        "print(p.solution(1,1))\n",
        "print(p.solution(7,2))"
      ],
      "execution_count": null,
      "outputs": [
        {
          "output_type": "stream",
          "text": [
            "n =  3  k =  2\n",
            "6\n",
            "n =  1  k =  1\n",
            "1\n",
            "n =  7  k =  2\n",
            "42\n"
          ],
          "name": "stdout"
        }
      ]
    },
    {
      "cell_type": "code",
      "metadata": {
        "colab": {
          "base_uri": "https://localhost:8080/"
        },
        "id": "KtdLM1sEMBto",
        "outputId": "7bbb75f4-dfd1-413c-dc6f-a604d293bf73"
      },
      "source": [
        "c = [0] * 4\n",
        "d = [0 for i in range(4)]\n",
        "print(c,d)"
      ],
      "execution_count": null,
      "outputs": [
        {
          "output_type": "stream",
          "text": [
            "[0, 0, 0, 0] [0, 0, 0, 0]\n"
          ],
          "name": "stdout"
        }
      ]
    },
    {
      "cell_type": "code",
      "metadata": {
        "id": "Iopt5UmFMUno"
      },
      "source": [
        ""
      ],
      "execution_count": null,
      "outputs": []
    },
    {
      "cell_type": "code",
      "metadata": {
        "colab": {
          "base_uri": "https://localhost:8080/"
        },
        "id": "FVySAIdeYOnz",
        "outputId": "2b24f673-e531-4279-8ad9-e116fc5e8e61"
      },
      "source": [
        "a = [1]\n",
        "a.extend([0 for i in range(5)])\n",
        "a"
      ],
      "execution_count": null,
      "outputs": [
        {
          "output_type": "execute_result",
          "data": {
            "text/plain": [
              "[1, 0, 0, 0, 0, 0]"
            ]
          },
          "metadata": {
            "tags": []
          },
          "execution_count": 18
        }
      ]
    },
    {
      "cell_type": "code",
      "metadata": {
        "id": "pIF35WmHakmP"
      },
      "source": [
        ""
      ],
      "execution_count": null,
      "outputs": []
    },
    {
      "cell_type": "code",
      "metadata": {
        "id": "LorknG-qakvj"
      },
      "source": [
        "# 어글리 넘버는 1과 소수 2, 3, 5의 배수로 제한된 양의 정수입니다.\n",
        "# 정수 n이 지정되면 n번째 어글리 넘버를 반환합니다.\n",
        "\n",
        "# [1,2,3,4,5,6,8,9,10,12 … ]\n",
        "\n",
        "# Input : n = 10\n",
        "# Output : 12\n",
        "# Input : n = 12\n",
        "# Output : 16\n",
        "# Input : n = 15\n",
        "# Output : 24"
      ],
      "execution_count": null,
      "outputs": []
    },
    {
      "cell_type": "code",
      "metadata": {
        "colab": {
          "base_uri": "https://localhost:8080/"
        },
        "id": "hKGB6FRUYBuC",
        "outputId": "8316f605-fe40-4edb-9f73-8265ba858efb"
      },
      "source": [
        "n = int(input('input = '))\n",
        "a = [1]\n",
        "b = 0\n",
        "\n",
        "for i in range(2,n*n):\n",
        "  if i % 2 == 0:\n",
        "    b = int(i / 2)\n",
        "    continue\n",
        "    if b == 1:\n",
        "      a.append(b)\n",
        "    else:\n",
        "      b = int(b / 3)\n",
        "      continue\n",
        "      if b == 1:\n",
        "        a.append(b)\n",
        "      else:\n",
        "        b = int(b / 5)\n",
        "        continue\n",
        "        if b == 1:\n",
        "          a.append(b)\n",
        "        else:\n",
        "          pass\n",
        "\n",
        "print(a)\n",
        "# print(a[n-1])"
      ],
      "execution_count": null,
      "outputs": [
        {
          "output_type": "stream",
          "text": [
            "input = 10\n",
            "[1]\n"
          ],
          "name": "stdout"
        }
      ]
    },
    {
      "cell_type": "code",
      "metadata": {
        "colab": {
          "base_uri": "https://localhost:8080/"
        },
        "id": "7YasY1jPYuLC",
        "outputId": "f3abd974-20df-4a19-eb6e-6b51a12eb598"
      },
      "source": [
        "n = 10\n",
        "a = [1]\n",
        "\n",
        "for i in range(2,n*2):\n",
        "  if i % 3 == 0:\n",
        "    a.append(i)\n",
        "    continue\n",
        "  else:\n",
        "    pass\n",
        "a"
      ],
      "execution_count": null,
      "outputs": [
        {
          "output_type": "execute_result",
          "data": {
            "text/plain": [
              "[1, 3, 6, 9, 12, 15, 18]"
            ]
          },
          "metadata": {
            "tags": []
          },
          "execution_count": 50
        }
      ]
    },
    {
      "cell_type": "code",
      "metadata": {
        "colab": {
          "base_uri": "https://localhost:8080/"
        },
        "id": "694MLxog6sg5",
        "outputId": "358783c7-a325-4718-b54f-7febf5facad4"
      },
      "source": [
        "n = int(input('input = '))\n",
        "a = [1]\n",
        "b = 0\n",
        "\n",
        "for i in range(2,n*n):\n",
        "  b = i//2\n",
        "  \n",
        "\n",
        "print(a)\n",
        "# print(a[n-1])"
      ],
      "execution_count": null,
      "outputs": [
        {
          "output_type": "stream",
          "text": [
            "input = 10\n",
            "[1, 1, 2, 3, 4, 5, 6, 7, 8, 9, 10, 11, 12, 13, 14, 15, 16, 17, 18, 19, 20, 21, 22, 23, 24, 25, 26, 27, 28, 29, 30, 31, 32, 33, 34, 35, 36, 37, 38, 39, 40, 41, 42, 43, 44, 45, 46, 47, 48, 49]\n"
          ],
          "name": "stdout"
        }
      ]
    },
    {
      "cell_type": "code",
      "metadata": {
        "colab": {
          "base_uri": "https://localhost:8080/"
        },
        "id": "yk4oh2lwKbzn",
        "outputId": "8011de8a-e8f0-4498-eeeb-9cdac0d5faae"
      },
      "source": [
        "7//2"
      ],
      "execution_count": null,
      "outputs": [
        {
          "output_type": "execute_result",
          "data": {
            "text/plain": [
              "3"
            ]
          },
          "metadata": {
            "tags": []
          },
          "execution_count": 56
        }
      ]
    },
    {
      "cell_type": "code",
      "metadata": {
        "id": "pkJKxNZ-iBp9",
        "colab": {
          "base_uri": "https://localhost:8080/"
        },
        "outputId": "00164f0a-1ed5-4584-99e3-ac500158718e"
      },
      "source": [
        "n = 840\n",
        "k = 2\n",
        "cnt = 0\n",
        "c = 0\n",
        "\n",
        "while cnt == 0:\n",
        "  n = n // k\n",
        "  c += 1\n",
        "  if n % k != 0:\n",
        "    cnt = 1\n",
        "\n",
        "print(n,c)\n"
      ],
      "execution_count": null,
      "outputs": [
        {
          "output_type": "stream",
          "text": [
            "105 3\n"
          ],
          "name": "stdout"
        }
      ]
    },
    {
      "cell_type": "code",
      "metadata": {
        "id": "EinI0GoiBTlZ"
      },
      "source": [
        ""
      ],
      "execution_count": null,
      "outputs": []
    },
    {
      "cell_type": "code",
      "metadata": {
        "colab": {
          "base_uri": "https://localhost:8080/"
        },
        "id": "iyb9AAMRFNpL",
        "outputId": "b998f62b-3840-4b69-eb02-93e38174036b"
      },
      "source": [
        "25 // 2"
      ],
      "execution_count": null,
      "outputs": [
        {
          "output_type": "execute_result",
          "data": {
            "text/plain": [
              "12"
            ]
          },
          "metadata": {
            "tags": []
          },
          "execution_count": 16
        }
      ]
    },
    {
      "cell_type": "code",
      "metadata": {
        "id": "11VDRo_tndR_"
      },
      "source": [
        ""
      ],
      "execution_count": null,
      "outputs": []
    },
    {
      "cell_type": "code",
      "metadata": {
        "id": "niB-XY9GndbM"
      },
      "source": [
        "# n = 10 -> 12\n",
        "# n = 12 -> 16\n",
        "# n = 15 -> 24"
      ],
      "execution_count": null,
      "outputs": []
    },
    {
      "cell_type": "code",
      "metadata": {
        "id": "z48tCG4fFy8M",
        "colab": {
          "base_uri": "https://localhost:8080/"
        },
        "outputId": "bca74a2a-7890-4956-9a58-0c9027ee09d5"
      },
      "source": [
        "def dis(n):               # 2,3,5만으로 끝까지 나뉘는 함수 만들기\n",
        "  a = [2,3,5]             # 반복하기 위해 리스트에 2,3,5\n",
        "  cnt = 0                 # while문 제어를 위한 flag 역할\n",
        "  for i in a:             # 반복문 시작\n",
        "    while cnt == 0:       # flag가 바뀌지 않는 한 계속 반복한다\n",
        "      k = n % i           # 받은 n에 2,3,5 순서대로 넣어서 나머지값을 받음\n",
        "      if k == 0:          # 받은 나머지값이 0이면, 즉 나눠 떨어지면\n",
        "        n = n // i        # n을 해당 2,3,5 값으로 나눈 값을 다시 위로 보내서 반복\n",
        "      else:               # 받은 나머지값이 0이 아니면\n",
        "        break             # while문을 멈추고 다음 수(2,3,5)로 넘어간다\n",
        "  return n                # 이렇게 반복문을 마치고 난 최종 n값을 반환\n",
        "\n",
        "c = int(input('input = '))  # c번째 받을 c를 입력받는다\n",
        "d = [1]                     # 1은 기본적으로 넣고 시작\n",
        "for j in range(2,c*c):      # 반복문 시작\n",
        "  if dis(j) == 1:           # dis 함수에 j를 넣은 값, 즉 최종값이 1이면\n",
        "    d.append(j)             # 2,3,5만으로 나뉘었다는 뜻이므로 그 j를 d에 추가\n",
        "  else:                     # 그런데 1이 아니면, 즉 2,3,5와 배수 외에 다른 수가 인수로 포함되면\n",
        "    pass                    # 그 값은 패스한다\n",
        "  if len(d) > c:            # 그리고 계산상의 편의를 위해 c보다 d의 길이가 커지면\n",
        "    break                   # 전체 계산을 종료한다\n",
        "print(d[c-1])               # 마지막에서 전 값이 c번째 값이 된다"
      ],
      "execution_count": 27,
      "outputs": [
        {
          "output_type": "stream",
          "text": [
            "input = 15\n",
            "24\n"
          ],
          "name": "stdout"
        }
      ]
    },
    {
      "cell_type": "code",
      "metadata": {
        "id": "iZTgrkHzhbsj"
      },
      "source": [
        ""
      ],
      "execution_count": null,
      "outputs": []
    },
    {
      "cell_type": "code",
      "metadata": {
        "id": "fJq5t_O0liUG"
      },
      "source": [
        ""
      ],
      "execution_count": null,
      "outputs": []
    }
  ]
}