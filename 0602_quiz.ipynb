{
  "nbformat": 4,
  "nbformat_minor": 0,
  "metadata": {
    "colab": {
      "name": "0602_quiz.ipynb",
      "provenance": [],
      "collapsed_sections": [],
      "authorship_tag": "ABX9TyPdl0SaIIcZDjCsZNbpMrsM",
      "include_colab_link": true
    },
    "kernelspec": {
      "name": "python3",
      "display_name": "Python 3"
    },
    "language_info": {
      "name": "python"
    }
  },
  "cells": [
    {
      "cell_type": "markdown",
      "metadata": {
        "id": "view-in-github",
        "colab_type": "text"
      },
      "source": [
        "<a href=\"https://colab.research.google.com/github/hyojk2001/Python-basic/blob/main/0602_quiz.ipynb\" target=\"_parent\"><img src=\"https://colab.research.google.com/assets/colab-badge.svg\" alt=\"Open In Colab\"/></a>"
      ]
    },
    {
      "cell_type": "code",
      "metadata": {
        "colab": {
          "base_uri": "https://localhost:8080/"
        },
        "id": "NWlD0DI_3RCh",
        "outputId": "24a7755c-c4e3-4150-c439-cfcf18454bef"
      },
      "source": [
        "n = int(input('N : '))    # n의 수를 입력받기\n",
        "n1 = list(map(int, input().split()))  # 공백 단위로 입력받아 리스트 만들기\n",
        "m = int(input('M : '))    # m의 수를 입력받기\n",
        "m1 = list(map(int, input().split()))  # 공백 단위로 입력받아 리스트 만들기\n",
        "judge = []                # m1을 n1과 비교해서 판단할 리스트 초기화\n",
        "\n",
        "if (len(n1) != n or len(m1) != m) or n < m: # n과 n1의 길이, m과 m1의 길이가 다르거나 m이 n보다 크면\n",
        "  print('잘못된 입력입니다')                # 잘못된 입력임을 알리기\n",
        "else:                         # 그렇지 않다면 문제 시작\n",
        "  for i in m1:                # 기준이 되는 m1 리스트들의 요소로 반복문 시작\n",
        "    if i in n1:               # m1의 값들이 n1 안에 있다면\n",
        "      judge.append('yes')     # judge 리스트에 yes 넣기\n",
        "    else:                     # m1 값이 n1 안에 없다면\n",
        "      judge.append('no')      # judge 리스트에 no 넣기\n",
        "  for j in judge:             # 공백 단위로 judge 출력\n",
        "    print(j, end=' ')"
      ],
      "execution_count": null,
      "outputs": [
        {
          "output_type": "stream",
          "text": [
            "N : 5\n",
            "8 3 7 9 2\n",
            "M : 3\n",
            "5 7 9\n",
            "no yes yes "
          ],
          "name": "stdout"
        }
      ]
    },
    {
      "cell_type": "code",
      "metadata": {
        "id": "gLMLeKYz5Pjq"
      },
      "source": [
        ""
      ],
      "execution_count": null,
      "outputs": []
    }
  ]
}