{
  "nbformat": 4,
  "nbformat_minor": 0,
  "metadata": {
    "colab": {
      "name": "0405_RegularExpression.ipynb",
      "provenance": [],
      "authorship_tag": "ABX9TyMpFPRRkZPfFXQ3OUvtdMyU",
      "include_colab_link": true
    },
    "kernelspec": {
      "name": "python3",
      "display_name": "Python 3"
    },
    "language_info": {
      "name": "python"
    }
  },
  "cells": [
    {
      "cell_type": "markdown",
      "metadata": {
        "id": "view-in-github",
        "colab_type": "text"
      },
      "source": [
        "<a href=\"https://colab.research.google.com/github/hyojk2001/Python-basic/blob/main/0405_RegularExpression.ipynb\" target=\"_parent\"><img src=\"https://colab.research.google.com/assets/colab-badge.svg\" alt=\"Open In Colab\"/></a>"
      ]
    },
    {
      "cell_type": "code",
      "metadata": {
        "colab": {
          "base_uri": "https://localhost:8080/"
        },
        "id": "J9W-jwzHml_0",
        "outputId": "8d99c8cd-054c-49db-9e18-9e5ac55e962c"
      },
      "source": [
        "# [a-zA-Z] : 알파벳 모두\n",
        "# [0-9] : 숫자\n",
        "\n",
        "import re # re : 파이썬에서 정규 표현식을 지원하는 모듈\n",
        "\n",
        "alp = re.compile('[a-zA-Z]')\n",
        "num = re.compile('[0-9]')\n",
        "\n",
        "a = input()\n",
        "\n",
        "if alp.match(a):\n",
        "  print('문자입니다.')\n",
        "elif num.match(a):\n",
        "  print('숫자입니다')\n",
        "else:\n",
        "  print('기호입니다')"
      ],
      "execution_count": 6,
      "outputs": [
        {
          "output_type": "stream",
          "text": [
            "56$3\n",
            "숫자입니다\n"
          ],
          "name": "stdout"
        }
      ]
    },
    {
      "cell_type": "code",
      "metadata": {
        "colab": {
          "base_uri": "https://localhost:8080/"
        },
        "id": "2DocEuCCrdwh",
        "outputId": "fc7ab345-821e-4d03-8535-3180725039d6"
      },
      "source": [
        "import re \n",
        "\n",
        "alp = re.compile('[a-zA-Z]')  #문자 구분\n",
        "num = re.compile('[0-9]')     #숫자 구분\n",
        "\n",
        "\n",
        "a = input()         #입력\n",
        "b = ''              #문자만\n",
        "c = ''              #숫자만\n",
        "d = ''              #그외 특수기호\n",
        "\n",
        "for i in a:         #문자열에서\n",
        "  if alp.match(i):  #그 글자가 문자면\n",
        "    b += i          #b에다 더한다\n",
        "  elif num.match(i): #숫자면\n",
        "    c += i            #c에다 더한다\n",
        "  else:               #그외 특수기호면\n",
        "    d += i            #d에다 더한다\n",
        "\n",
        "print('{}\\n{}\\n{}'.format(b,c,d))"
      ],
      "execution_count": 11,
      "outputs": [
        {
          "output_type": "stream",
          "text": [
            "bc321%^&*(qqxs\n",
            "bcqqxs\n",
            "321\n",
            "%^&*(\n"
          ],
          "name": "stdout"
        }
      ]
    },
    {
      "cell_type": "code",
      "metadata": {
        "id": "XM6EWnb_tAKJ"
      },
      "source": [
        ""
      ],
      "execution_count": null,
      "outputs": []
    }
  ]
}