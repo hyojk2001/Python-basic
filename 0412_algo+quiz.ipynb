{
  "nbformat": 4,
  "nbformat_minor": 0,
  "metadata": {
    "colab": {
      "name": "0412_algo+quiz.ipynb",
      "provenance": [],
      "collapsed_sections": [],
      "authorship_tag": "ABX9TyNrXfkiMJySB12Ae2LmqNhq",
      "include_colab_link": true
    },
    "kernelspec": {
      "name": "python3",
      "display_name": "Python 3"
    },
    "language_info": {
      "name": "python"
    }
  },
  "cells": [
    {
      "cell_type": "markdown",
      "metadata": {
        "id": "view-in-github",
        "colab_type": "text"
      },
      "source": [
        "<a href=\"https://colab.research.google.com/github/hyojk2001/Python-basic/blob/main/0412_algo%2Bquiz.ipynb\" target=\"_parent\"><img src=\"https://colab.research.google.com/assets/colab-badge.svg\" alt=\"Open In Colab\"/></a>"
      ]
    },
    {
      "cell_type": "code",
      "metadata": {
        "colab": {
          "base_uri": "https://localhost:8080/"
        },
        "id": "iLd9R2dZ2VRF",
        "outputId": "81e450c3-036f-4453-fe80-49c47f4d2b28"
      },
      "source": [
        "def SSort(arr):\n",
        "  for i in range(len(arr)):\n",
        "    indexMin = i    #임시로 인덱스 0을 최소값으로 설정\n",
        "    for j in range(i+1, len(arr)):\n",
        "      if arr[j] < arr[indexMin]:    # 0번째와 1번째 비교\n",
        "        indexMin = j    #1번째가 작으면 1번째를 작은값 설정\n",
        "    arr[i], arr[indexMin] = arr[indexMin], arr[i]   #자리바꾸기\n",
        "  return arr\n",
        "\n",
        "arr = [12,13,11,14,10]\n",
        "print(SSort(arr))"
      ],
      "execution_count": null,
      "outputs": [
        {
          "output_type": "stream",
          "text": [
            "[10, 11, 12, 13, 14]\n"
          ],
          "name": "stdout"
        }
      ]
    },
    {
      "cell_type": "code",
      "metadata": {
        "colab": {
          "base_uri": "https://localhost:8080/"
        },
        "id": "U32tNem52b3d",
        "outputId": "5064627f-cc62-4190-d944-b23df2ccd1c5"
      },
      "source": [
        "arr = [12,13,11,14,10]\n",
        "\n",
        "for i in range(len(arr)):\n",
        "  w = arr[i]\n",
        "  indexMin = arr.index(min(arr[i:]))\n",
        "  arr[i] = arr[indexMin]\n",
        "  arr[indexMin] = w\n",
        "\n",
        "print(arr)"
      ],
      "execution_count": null,
      "outputs": [
        {
          "output_type": "stream",
          "text": [
            "[10, 11, 12, 13, 14]\n"
          ],
          "name": "stdout"
        }
      ]
    },
    {
      "cell_type": "code",
      "metadata": {
        "id": "pb-W7_YNG2E4"
      },
      "source": [
        "arr[5] = [5,3,4,1,2]\n",
        "\n",
        "for i in range(len(arr)):\n",
        "  "
      ],
      "execution_count": null,
      "outputs": []
    },
    {
      "cell_type": "code",
      "metadata": {
        "id": "B8_Di52xNf13"
      },
      "source": [
        ""
      ],
      "execution_count": null,
      "outputs": []
    },
    {
      "cell_type": "code",
      "metadata": {
        "id": "Qa1PEDiJNgId"
      },
      "source": [
        "# ALGORITHM HOMEWORK(#26)\n",
        "# 어떤 수 x와 n이 주어졌을 때 조건에 따라 x가 n의 배수인지 판별하는 코드를 작성하라.\n",
        "# x는 0 이상의 정수이며 조건에 맞지 않는 입력은 주어지지 않는다.\n",
        "# 여기서 하나의 함수인지 여러 함수인지는 본인이 선택하면 된다.\n",
        "# 단 절대 산술연산자 중 %와 /는 코드에 없도록 한다.\n",
        "# 그리고 divmod() 함수를 쓰는 것도 금지한다\n",
        "# 결과는 True 또는 False로 반환\n",
        "\n",
        "# print(is_multiple(635, 5))\n",
        "# True"
      ],
      "execution_count": null,
      "outputs": []
    },
    {
      "cell_type": "code",
      "metadata": {
        "id": "8DEQ82b8PHdf",
        "colab": {
          "base_uri": "https://localhost:8080/"
        },
        "outputId": "6c199742-a8c4-46d8-ec93-af50f06d3eaf"
      },
      "source": [
        "def is_multiple(x,n):   #함수 만들기\n",
        "  a = x                 #x를 복사해 놓는다\n",
        "  b = []                #x에서 n을 하나씩 뺀 숫자를 담을 리스트\n",
        "  if x < 0:             #x값이 음수면\n",
        "    return              #애당초 계산을 안한다\n",
        "  else:                 #x값이 양수면\n",
        "    for i in range(x):  #반복분을 통해(x를 범위로 삼은 이유는 넉넉히 계산하기위해)\n",
        "      a -= n            #x와 같은 a에서 n을 한번씩 계속 뺀다\n",
        "      b.append(a)       #그 값들을 순차적으로 b 배열에 넣는다\n",
        "    if 0 in b:          #그렇게 만든 b배열에서 0이 존재하면\n",
        "      return True       #True를 반환\n",
        "    else:               #0이 존재하지 않으면\n",
        "      return False      #False를 반환     \n",
        "\n",
        "print(is_multiple(635,5))\n",
        "print(is_multiple(635,10))\n",
        "print(is_multiple(32,6))\n",
        "print(is_multiple(-635,5))"
      ],
      "execution_count": null,
      "outputs": [
        {
          "output_type": "stream",
          "text": [
            "True\n",
            "False\n",
            "False\n",
            "None\n"
          ],
          "name": "stdout"
        }
      ]
    },
    {
      "cell_type": "code",
      "metadata": {
        "id": "gqn9wY4FW77-"
      },
      "source": [
        ""
      ],
      "execution_count": null,
      "outputs": []
    },
    {
      "cell_type": "code",
      "metadata": {
        "colab": {
          "base_uri": "https://localhost:8080/"
        },
        "id": "687qYPrDNwF4",
        "outputId": "ae8df4ee-eb91-4377-8215-11d5da042293"
      },
      "source": [
        "def is_multiple(x,n):   \n",
        "  a = x                             \n",
        "  if x < 0:             \n",
        "    return              \n",
        "  else:                 \n",
        "    for i in range(x):  \n",
        "      a -= n                   \n",
        "      if a == 0:          \n",
        "        return True       \n",
        "      elif a < 0:               \n",
        "        return False      \n",
        "\n",
        "print(is_multiple(635,5))\n",
        "print(is_multiple(1024,2))\n",
        "print(is_multiple(635,10))\n",
        "print(is_multiple(32,6))\n",
        "print(is_multiple(-635,5))"
      ],
      "execution_count": null,
      "outputs": [
        {
          "output_type": "stream",
          "text": [
            "True\n",
            "True\n",
            "False\n",
            "False\n",
            "None\n"
          ],
          "name": "stdout"
        }
      ]
    },
    {
      "cell_type": "code",
      "metadata": {
        "id": "-qdWLvvzXX0N"
      },
      "source": [
        ""
      ],
      "execution_count": null,
      "outputs": []
    }
  ]
}