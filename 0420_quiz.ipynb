{
  "nbformat": 4,
  "nbformat_minor": 0,
  "metadata": {
    "colab": {
      "name": "0420_quiz.ipynb",
      "provenance": [],
      "collapsed_sections": [],
      "authorship_tag": "ABX9TyNj5cvmPud+vAIzwo/mJT0a",
      "include_colab_link": true
    },
    "kernelspec": {
      "name": "python3",
      "display_name": "Python 3"
    },
    "language_info": {
      "name": "python"
    }
  },
  "cells": [
    {
      "cell_type": "markdown",
      "metadata": {
        "id": "view-in-github",
        "colab_type": "text"
      },
      "source": [
        "<a href=\"https://colab.research.google.com/github/hyojk2001/Python-basic/blob/main/0420_quiz.ipynb\" target=\"_parent\"><img src=\"https://colab.research.google.com/assets/colab-badge.svg\" alt=\"Open In Colab\"/></a>"
      ]
    },
    {
      "cell_type": "code",
      "metadata": {
        "colab": {
          "base_uri": "https://localhost:8080/"
        },
        "id": "PMKJkt9nZ4pe",
        "outputId": "3f349185-9fc3-4771-a16e-2cccbe004c50"
      },
      "source": [
        "a = list(input())\n",
        "a"
      ],
      "execution_count": 2,
      "outputs": [
        {
          "output_type": "stream",
          "text": [
            "2*(3+1)\n"
          ],
          "name": "stdout"
        },
        {
          "output_type": "execute_result",
          "data": {
            "text/plain": [
              "['2', '*', '(', '3', '+', '1', ')']"
            ]
          },
          "metadata": {
            "tags": []
          },
          "execution_count": 2
        }
      ]
    },
    {
      "cell_type": "code",
      "metadata": {
        "colab": {
          "base_uri": "https://localhost:8080/"
        },
        "id": "b3610ZreaWee",
        "outputId": "64680853-0d7f-405f-90b7-7a3d65b00f05"
      },
      "source": [
        "a = list(input())\n",
        "for i in range(len(a)):\n",
        "  if a.count('(') == a.count(')'):\n",
        "    message = 'YES'\n",
        "  else:\n",
        "    message = 'NO'\n",
        "print(message)"
      ],
      "execution_count": 27,
      "outputs": [
        {
          "output_type": "stream",
          "text": [
            "()())\n",
            "NO\n"
          ],
          "name": "stdout"
        }
      ]
    },
    {
      "cell_type": "code",
      "metadata": {
        "colab": {
          "base_uri": "https://localhost:8080/"
        },
        "id": "ObM-S8VNbeSd",
        "outputId": "e0e4ebf7-99e3-4527-a400-0eb2f112bda5"
      },
      "source": [
        "def solution(a):                      #함수 만들기\n",
        "  b = []                              #우선 식을 입력받아 (,)만 남길 배열 만들기\n",
        "  for i in range(len(a)):             #반복문 시작\n",
        "    if a[i] == '(' or a[i] == ')':    #받은 식에서 (,)가 있으면 순서대로\n",
        "      b.append(a[i])                  #b에 넣는다\n",
        "  c = list(reversed(b))               #c는 b의 순서를 반대로 뒤집은 리스트\n",
        "  l = []                              #b와 c를 합칠 행렬을 준비한다\n",
        "  for i in range(len(c)):             #반복문 시작\n",
        "    l.append(b[i]+c[i])               #b와 c를 합친 행렬이 만들어진다\n",
        "  if l[0] =='()' and (l.count('()')+l.count('((')+l.count('))') == len(b) or l.count('((') == l.count('))')):\n",
        "  # l은 첫 행이 )(가 되면 안되고 ()가 되어야 한다. ((, ))가 각각 0이 될 수도 있으므로 )(를 제외한 (),((,))개수의 합이 전체 l의 갯수만큼 되어야 하며\n",
        "  # ((와 ))의 숫자는 언제나 같아야 괄호 관계가 성립한다\n",
        "    message = 'YES'   #이때는 yes를 출력\n",
        "  else:               #이렇지 않다면\n",
        "    message = 'NO '   #no를 출력\n",
        "  return message      #거의 성립하는 경우의수를 전부 넣은거라 저도 이해가 긴가민가합니다.. 예외경우가 빠졌을수도 있어요\n",
        "print(solution('(())'), solution(')()()('), solution(')())()()('), solution(')))))((('))\n",
        "print(solution('(6+(12/3))'), solution('(6+(12/3))))'), solution('6+(12+3)'))"
      ],
      "execution_count": 298,
      "outputs": [
        {
          "output_type": "stream",
          "text": [
            "YES NO  NO  NO \n",
            "YES NO  YES\n"
          ],
          "name": "stdout"
        }
      ]
    },
    {
      "cell_type": "code",
      "metadata": {
        "colab": {
          "base_uri": "https://localhost:8080/"
        },
        "id": "K-2gwZ9todcn",
        "outputId": "017b5d7d-efb3-410f-ab13-1f003e141119"
      },
      "source": [
        "a = [1,2,3,4,5]\n",
        "b = list(reversed(a))\n",
        "for i in range(1,len(b)+1):\n",
        "  print(a[0:i])\n",
        "  print(b[0:i])"
      ],
      "execution_count": 254,
      "outputs": [
        {
          "output_type": "stream",
          "text": [
            "[1]\n",
            "[5]\n",
            "[1, 2]\n",
            "[5, 4]\n",
            "[1, 2, 3]\n",
            "[5, 4, 3]\n",
            "[1, 2, 3, 4]\n",
            "[5, 4, 3, 2]\n",
            "[1, 2, 3, 4, 5]\n",
            "[5, 4, 3, 2, 1]\n"
          ],
          "name": "stdout"
        }
      ]
    },
    {
      "cell_type": "code",
      "metadata": {
        "colab": {
          "base_uri": "https://localhost:8080/"
        },
        "id": "ymFn15m2gNmk",
        "outputId": "bcf314fa-318c-4afd-a191-0073e6042270"
      },
      "source": [
        "z = [1,2,3,4,5]\n",
        "z[3:8]"
      ],
      "execution_count": 211,
      "outputs": [
        {
          "output_type": "execute_result",
          "data": {
            "text/plain": [
              "[4, 5]"
            ]
          },
          "metadata": {
            "tags": []
          },
          "execution_count": 211
        }
      ]
    },
    {
      "cell_type": "code",
      "metadata": {
        "colab": {
          "base_uri": "https://localhost:8080/"
        },
        "id": "1F9dv045gFwp",
        "outputId": "a94faa35-da56-4a4e-e02e-11494b83916f"
      },
      "source": [
        "i = 10\n",
        "for i in range(i+1):\n",
        "  for j in range(10,-1,-1):\n",
        "    if (i + j) == 10:\n",
        "      print(i,j)\n",
        "    else:\n",
        "      pass"
      ],
      "execution_count": 102,
      "outputs": [
        {
          "output_type": "stream",
          "text": [
            "0 10\n",
            "1 9\n",
            "2 8\n",
            "3 7\n",
            "4 6\n",
            "5 5\n",
            "6 4\n",
            "7 3\n",
            "8 2\n",
            "9 1\n",
            "10 0\n"
          ],
          "name": "stdout"
        }
      ]
    },
    {
      "cell_type": "code",
      "metadata": {
        "colab": {
          "base_uri": "https://localhost:8080/"
        },
        "id": "GDfhxjm3sJ0u",
        "outputId": "97b57129-ccbc-49ed-86bd-5ed5c807ae93"
      },
      "source": [
        "int(round(7/2))"
      ],
      "execution_count": 165,
      "outputs": [
        {
          "output_type": "execute_result",
          "data": {
            "text/plain": [
              "4"
            ]
          },
          "metadata": {
            "tags": []
          },
          "execution_count": 165
        }
      ]
    },
    {
      "cell_type": "code",
      "metadata": {
        "colab": {
          "base_uri": "https://localhost:8080/"
        },
        "id": "qwFVj9qfupTg",
        "outputId": "c3580efd-7117-4d98-a96b-56e4069b7c6e"
      },
      "source": [
        "a = list('(((()))(()))')\n",
        "b = list(reversed(a))\n",
        "c = []\n",
        "for i in range(len(a)):\n",
        "  c.append(a[i] + b[i])\n",
        "print(c.count('()'), c.count(')('), c.count('(('), c.count('))'))"
      ],
      "execution_count": 273,
      "outputs": [
        {
          "output_type": "stream",
          "text": [
            "4 4 2 2\n"
          ],
          "name": "stdout"
        }
      ]
    },
    {
      "cell_type": "code",
      "metadata": {
        "id": "qxURcf3TNaZI"
      },
      "source": [
        ""
      ],
      "execution_count": null,
      "outputs": []
    }
  ]
}