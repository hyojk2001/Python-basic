{
  "nbformat": 4,
  "nbformat_minor": 0,
  "metadata": {
    "colab": {
      "name": "0419_test+Algo+quiz.ipynb",
      "provenance": [],
      "collapsed_sections": [],
      "authorship_tag": "ABX9TyOpzItfRDxPT1gcyEpXR/JU",
      "include_colab_link": true
    },
    "kernelspec": {
      "name": "python3",
      "display_name": "Python 3"
    },
    "language_info": {
      "name": "python"
    }
  },
  "cells": [
    {
      "cell_type": "markdown",
      "metadata": {
        "id": "view-in-github",
        "colab_type": "text"
      },
      "source": [
        "<a href=\"https://colab.research.google.com/github/hyojk2001/Python-basic/blob/main/0419_test%2BAlgo%2Bquiz.ipynb\" target=\"_parent\"><img src=\"https://colab.research.google.com/assets/colab-badge.svg\" alt=\"Open In Colab\"/></a>"
      ]
    },
    {
      "cell_type": "code",
      "metadata": {
        "colab": {
          "base_uri": "https://localhost:8080/"
        },
        "id": "eW8Fpv6pmTNR",
        "outputId": "13fa0da3-eac2-4b4d-9fa4-83ff13121d90"
      },
      "source": [
        "class program:              # 클래스 지정\n",
        "  def solution(a):          # 함수 지정\n",
        "    b = []                  # 답에 넣을 새로 재배열될 행렬 초기화\n",
        "\n",
        "    #a1,b1과 같이 숫자가 있는 항들을 먼저 정렬\n",
        "    for i in range(len(a)): # 반복문 시작\n",
        "      for j in a:           # a 하나씩 떼어서 비교(j)\n",
        "        if str(i+1) in j:   # 정수 i+1(1,2,3..)이 j 안에 있으면\n",
        "          b.append(j)       # b에 집어넣어서 숫자가 포함된 항을 만들고 정렬\n",
        "\n",
        "    #숫자가 없고 문자만 있는 항들의 정렬\n",
        "    c = []                  # 문자만 있는 항들을 넣을 리스트\n",
        "    for i in a:             # 하나씩 비교\n",
        "      if i.isalpha():       # 해당 항이 다 알파벳이면\n",
        "        c.append(i)         # c에다 하나씩 집어넣는다\n",
        "\n",
        "    b.extend(sorted(c))     # 미리 만들어놓은 숫자포함 b에다 문자만있는 c를 extend로 추가\n",
        "    print('input : {}'.format(a))   # 인풋으로 입력받은 행렬 출력\n",
        "    print('output : {}'.format(b))  # 최종적으로 재배열된 행렬 출력\n",
        "\n",
        "\n",
        "me = program                                      # 클래스의 객체 지정\n",
        "a = ['a1','a2','a3','an','b1','b2','b3','bn']     # solution에 넣을 행렬 지정\n",
        "me.solution(a)                                    # 재배열된 행렬 출력"
      ],
      "execution_count": null,
      "outputs": [
        {
          "output_type": "stream",
          "text": [
            "input : ['a1', 'a2', 'a3', 'an', 'b1', 'b2', 'b3', 'bn']\n",
            "output : ['a1', 'b1', 'a2', 'b2', 'a3', 'b3', 'an', 'bn']\n"
          ],
          "name": "stdout"
        }
      ]
    },
    {
      "cell_type": "code",
      "metadata": {
        "id": "vzs-siWpnFdd"
      },
      "source": [
        ""
      ],
      "execution_count": null,
      "outputs": []
    },
    {
      "cell_type": "code",
      "metadata": {
        "id": "GF0-eB2p5H0-"
      },
      "source": [
        "#최대공약수 구하는 알고리즘"
      ],
      "execution_count": 1,
      "outputs": []
    },
    {
      "cell_type": "code",
      "metadata": {
        "colab": {
          "base_uri": "https://localhost:8080/"
        },
        "id": "npWv889E5Jnj",
        "outputId": "5f1c02ad-6fd0-4fbd-c530-cde64ee325a5"
      },
      "source": [
        "def euclid(x,y):\n",
        "  if x > y:\n",
        "    t = x % y\n",
        "  elif x < y:\n",
        "    t = y % x\n",
        "\n",
        "  while t != 0 :\n",
        "    x, y = y, t\n",
        "    if x > y:\n",
        "      t = x % y\n",
        "    elif x < y:\n",
        "      t = y % x\n",
        "  return y\n",
        "\n",
        "print(euclid(8,12))\n",
        "print(euclid(221,143))\n"
      ],
      "execution_count": 17,
      "outputs": [
        {
          "output_type": "stream",
          "text": [
            "4\n",
            "13\n"
          ],
          "name": "stdout"
        }
      ]
    },
    {
      "cell_type": "code",
      "metadata": {
        "colab": {
          "base_uri": "https://localhost:8080/"
        },
        "id": "_9nrjX1Y7lbD",
        "outputId": "abf5a823-2209-48a0-9a6d-66f44194a89e"
      },
      "source": [
        "def euclid(x,y):\n",
        "  if x % y == 0:\n",
        "    return y\n",
        "  return euclid(x,x%y)        #재귀호출\n",
        "\n",
        "print(euclid(12,8))\n",
        "print(euclid(221,143))"
      ],
      "execution_count": 23,
      "outputs": [
        {
          "output_type": "stream",
          "text": [
            "4\n",
            "13\n"
          ],
          "name": "stdout"
        }
      ]
    },
    {
      "cell_type": "code",
      "metadata": {
        "id": "jpP4KAvx_Kkl"
      },
      "source": [
        ""
      ],
      "execution_count": null,
      "outputs": []
    },
    {
      "cell_type": "code",
      "metadata": {
        "id": "3qsymQ8WQVTB"
      },
      "source": [
        "# input : n (행사에서 진행된 악수 횟수)\n",
        "# output : [민규의 악수횟수, 행사참가자]\n",
        "# print(solution(59)) 결과 : [4,12] - 민규는 4번의 악수를 했고, 민규를 포함찬 참가자는 12명"
      ],
      "execution_count": null,
      "outputs": []
    },
    {
      "cell_type": "code",
      "metadata": {
        "colab": {
          "base_uri": "https://localhost:8080/"
        },
        "id": "wPBGLq7iP7xb",
        "outputId": "1319a0eb-a2f0-4b7e-afd8-43e494509b2d"
      },
      "source": [
        "def solution(n):                     #함수 만들기\n",
        "  for i in range(2,n):               #n명이 악수를 한다고 시작하면\n",
        "    num = int(i*(i-1)/2)             #n명이 총 박수를 하는건 n각형의 총 선분 갯수와 같다\n",
        "    mingyu = n - num                 #(전원의 악수 횟수) - (민규 제외한 모두의 악수횟수)\n",
        "    if num >= n:                     #n명의 악수횟수가 악수횟수를 넘어서면\n",
        "      break                          #맞지 않으므로 연산을 멈춘다\n",
        "  total = i                          #이때의 i명이 민규를 포함한 총인원이 된다\n",
        "  result_mingyu = int((i-1)*(i-2)/2) #민규의 악수횟수는 i 대신 (i-1)명을 num에 넣은 값과 같다\n",
        "  return [n - result_mingyu, total]  #[총 악수 횟수 - 민규제외 악수횟수,  총 인원]\n",
        "\n",
        "print(solution(59))"
      ],
      "execution_count": 52,
      "outputs": [
        {
          "output_type": "stream",
          "text": [
            "[4, 12]\n"
          ],
          "name": "stdout"
        }
      ]
    },
    {
      "cell_type": "code",
      "metadata": {
        "id": "4whNFcJCTHcH"
      },
      "source": [
        ""
      ],
      "execution_count": null,
      "outputs": []
    }
  ]
}