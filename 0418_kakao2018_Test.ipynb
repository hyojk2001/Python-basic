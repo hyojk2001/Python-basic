{
  "nbformat": 4,
  "nbformat_minor": 0,
  "metadata": {
    "colab": {
      "name": "0418_kakao2018_Test.ipynb",
      "provenance": [],
      "collapsed_sections": [],
      "authorship_tag": "ABX9TyOBahyQyIjnCz82sdXJv4Qw",
      "include_colab_link": true
    },
    "kernelspec": {
      "name": "python3",
      "display_name": "Python 3"
    },
    "language_info": {
      "name": "python"
    }
  },
  "cells": [
    {
      "cell_type": "markdown",
      "metadata": {
        "id": "view-in-github",
        "colab_type": "text"
      },
      "source": [
        "<a href=\"https://colab.research.google.com/github/hyojk2001/Python-basic/blob/main/0418_kakao2018_Test.ipynb\" target=\"_parent\"><img src=\"https://colab.research.google.com/assets/colab-badge.svg\" alt=\"Open In Colab\"/></a>"
      ]
    },
    {
      "cell_type": "code",
      "metadata": {
        "id": "TkAoO4rr3rmQ"
      },
      "source": [
        "# https://infondgndg91.blogspot.com/2017/09/1-java-python.html\n",
        "# 코딩 문제(비밀지도)"
      ],
      "execution_count": null,
      "outputs": []
    },
    {
      "cell_type": "code",
      "metadata": {
        "colab": {
          "base_uri": "https://localhost:8080/"
        },
        "id": "W0T9kgogJr9C",
        "outputId": "8a0f7fd2-aae5-4898-b6c0-99023c49bd72"
      },
      "source": [
        "def solution(n,arr1,arr2):\n",
        "  if n < 1 or n > 16:\n",
        "    return \"no solution\"\n",
        "  else:\n",
        "    a = []\n",
        "    b = []\n",
        "    for i in range(n):\n",
        "      for j in range(n):\n",
        "        c = list(bin(arr1[i]))[2:]\n",
        "        d = list(bin(arr2[i]))[2:]\n",
        "        if len(c) != n or len(d) != n:\n",
        "          c = list('0'*(n-len(c)) + ''.join(c))\n",
        "          d = list('0'*(n-len(d)) + ''.join(d))\n",
        "      a.extend(c)\n",
        "      b.extend(d)\n",
        "\n",
        "    for k in range(n*n):\n",
        "      a[k] = int(a[k])\n",
        "      b[k] = int(b[k])\n",
        "\n",
        "    f = []\n",
        "    for m in range(n*n):\n",
        "      if a[m] + b[m] > 0:\n",
        "        f.append('#')\n",
        "      else:\n",
        "        f.append('.')\n",
        "\n",
        "    answer = ['' for i in range(n)]\n",
        "    for p in range(n):\n",
        "      for q in range(n*p, n*p+n):\n",
        "        answer[p] += f[q] \n",
        "\n",
        "    return answer\n",
        "\n",
        "# n = 5\n",
        "# arr1 = [9,20,28,18,11]\n",
        "# arr2 = [30,1,21,17,28]\n",
        "\n",
        "n = 6\n",
        "arr1 = [46,33,33,22,31,50]\n",
        "arr2 = [27,56,19,14,14,10]\n",
        "\n",
        "# n = int(input('n : '))\n",
        "# arr1 = list(map(int,input('arr1 : ').split(',')))\n",
        "# arr2 = list(map(int,input('arr2 : ').split(',')))\n",
        "\n",
        "print(solution(n,arr1,arr2))"
      ],
      "execution_count": null,
      "outputs": [
        {
          "output_type": "stream",
          "text": [
            "['######', '###..#', '##..##', '.####.', '.#####', '###.#.']\n"
          ],
          "name": "stdout"
        }
      ]
    },
    {
      "cell_type": "code",
      "metadata": {
        "colab": {
          "base_uri": "https://localhost:8080/"
        },
        "id": "B4hH6-zQLtRu",
        "outputId": "e941d4e3-cfee-442d-b775-74017e5d78db"
      },
      "source": [
        "list(bin(28)[2:])"
      ],
      "execution_count": null,
      "outputs": [
        {
          "output_type": "execute_result",
          "data": {
            "text/plain": [
              "['1', '1', '1', '0', '0']"
            ]
          },
          "metadata": {
            "tags": []
          },
          "execution_count": 40
        }
      ]
    },
    {
      "cell_type": "code",
      "metadata": {
        "colab": {
          "base_uri": "https://localhost:8080/"
        },
        "id": "f8RLHJMUL6LA",
        "outputId": "2d100a28-d953-4fc3-f6cb-7d50ae625d36"
      },
      "source": [
        "for i in range(24,19,-1):\n",
        "  print(i)"
      ],
      "execution_count": null,
      "outputs": [
        {
          "output_type": "stream",
          "text": [
            "24\n",
            "23\n",
            "22\n",
            "21\n",
            "20\n"
          ],
          "name": "stdout"
        }
      ]
    },
    {
      "cell_type": "code",
      "metadata": {
        "colab": {
          "base_uri": "https://localhost:8080/",
          "height": 35
        },
        "id": "WB6QtrXYcw2q",
        "outputId": "94a183f3-ebcc-4982-c525-c652bc39cef5"
      },
      "source": [
        "z = list(bin(9)[2:])\n",
        "''.join(z)"
      ],
      "execution_count": null,
      "outputs": [
        {
          "output_type": "execute_result",
          "data": {
            "application/vnd.google.colaboratory.intrinsic+json": {
              "type": "string"
            },
            "text/plain": [
              "'1001'"
            ]
          },
          "metadata": {
            "tags": []
          },
          "execution_count": 17
        }
      ]
    },
    {
      "cell_type": "code",
      "metadata": {
        "colab": {
          "base_uri": "https://localhost:8080/"
        },
        "id": "bcEtYp77mvXe",
        "outputId": "d9a07829-9992-49d7-f30b-d5597d2fbd9f"
      },
      "source": [
        "e = list(map(int,input().split(',')))\n",
        "e"
      ],
      "execution_count": null,
      "outputs": [
        {
          "output_type": "stream",
          "text": [
            "56,26,32,986\n"
          ],
          "name": "stdout"
        },
        {
          "output_type": "execute_result",
          "data": {
            "text/plain": [
              "[56, 26, 32, 986]"
            ]
          },
          "metadata": {
            "tags": []
          },
          "execution_count": 102
        }
      ]
    },
    {
      "cell_type": "code",
      "metadata": {
        "id": "vyqtpac21aXt"
      },
      "source": [
        ""
      ],
      "execution_count": null,
      "outputs": []
    },
    {
      "cell_type": "code",
      "metadata": {
        "colab": {
          "base_uri": "https://localhost:8080/"
        },
        "id": "v9bC-j2EVIAb",
        "outputId": "04054ad9-9609-49d1-98dd-3000c99a6751"
      },
      "source": [
        "def solution(genres, plays):\n",
        "  answer = []\n",
        "  d = {}\n",
        "  e = []\n",
        "  f = []\n",
        "  for i in range(len(genres)):\n",
        "    d.setdefault(plays[i],genres[i])\n",
        "  a = list(d.items())\n",
        "\n",
        "  # for j in range(len(genres)):\n",
        "  #   e.append()\n",
        "\n",
        "\n",
        "\n",
        "  # return answer\n",
        "  return answer\n",
        "\n",
        "genres = [\"classic\", \"pop\", \"classic\", \"classic\", \"pop\"]\n",
        "plays = [500, 600, 150, 800, 2500]\n",
        "solution(genres, plays)"
      ],
      "execution_count": null,
      "outputs": [
        {
          "output_type": "execute_result",
          "data": {
            "text/plain": [
              "[(500, 'classic'),\n",
              " (600, 'pop'),\n",
              " (150, 'classic'),\n",
              " (800, 'classic'),\n",
              " (2500, 'pop')]"
            ]
          },
          "metadata": {
            "tags": []
          },
          "execution_count": 32
        }
      ]
    },
    {
      "cell_type": "code",
      "metadata": {
        "id": "kr46izaTW8GR"
      },
      "source": [
        ""
      ],
      "execution_count": null,
      "outputs": []
    },
    {
      "cell_type": "code",
      "metadata": {
        "colab": {
          "base_uri": "https://localhost:8080/"
        },
        "id": "nPizXRQvdC7i",
        "outputId": "228b371f-6766-44f6-b544-694d090ecfd3"
      },
      "source": [
        "z = ['classic','classic','pop','classic','classic','classic','pop']\n",
        "a = [12,8,97,7,6,56,21]\n",
        "b = sorted(a)\n",
        "c = []\n",
        "d = []\n",
        "for i in range(len(a)):\n",
        "  c.append(a.index(b[i]))\n",
        "for j in range(len(a)):\n",
        "  d.append(z[c[j]])\n",
        "\n",
        "\n",
        "\n",
        "print(a)\n",
        "print(b)\n",
        "print(c)\n",
        "print(d)\n"
      ],
      "execution_count": null,
      "outputs": [
        {
          "output_type": "stream",
          "text": [
            "[12, 8, 97, 7, 6, 56, 21]\n",
            "[6, 7, 8, 12, 21, 56, 97]\n",
            "[4, 3, 1, 0, 6, 5, 2]\n",
            "['classic', 'classic', 'classic', 'classic', 'pop', 'classic', 'pop']\n"
          ],
          "name": "stdout"
        }
      ]
    },
    {
      "cell_type": "code",
      "metadata": {
        "colab": {
          "base_uri": "https://localhost:8080/"
        },
        "id": "0ZI8bhKMdPGG",
        "outputId": "10d5f580-b485-4ca3-b060-f06b6bb401ae"
      },
      "source": [
        "def solution(genres,plays):\n",
        "  a = sorted(plays)\n",
        "  b = []\n",
        "  c = []\n",
        "  answer = []\n",
        "\n",
        "  for i in range(len(plays)):\n",
        "    b.append(plays.index(a[i]))\n",
        "  for j in range(len(plays)):\n",
        "    c.append(genres[b[j]])\n",
        "\n",
        "  return b,c, answer\n",
        "  \n",
        "genres = [\"classic\", \"pop\", \"classic\", \"classic\", \"pop\"]\n",
        "plays = [500, 600, 150, 800, 2500]\n",
        "print(plays,genres)\n",
        "solution(genres, plays)"
      ],
      "execution_count": 65,
      "outputs": [
        {
          "output_type": "stream",
          "text": [
            "[500, 600, 150, 800, 2500] ['classic', 'pop', 'classic', 'classic', 'pop']\n"
          ],
          "name": "stdout"
        },
        {
          "output_type": "execute_result",
          "data": {
            "text/plain": [
              "([2, 0, 1, 3, 4], ['classic', 'classic', 'pop', 'classic', 'pop'], [])"
            ]
          },
          "metadata": {
            "tags": []
          },
          "execution_count": 65
        }
      ]
    },
    {
      "cell_type": "code",
      "metadata": {
        "colab": {
          "base_uri": "https://localhost:8080/"
        },
        "id": "R0VRnF_9e_3z",
        "outputId": "e12e336e-a17d-45bf-f40b-78c77831be3c"
      },
      "source": [
        "a = ['kim','park','lee','kim']\n",
        "a.index('kim')"
      ],
      "execution_count": null,
      "outputs": [
        {
          "output_type": "execute_result",
          "data": {
            "text/plain": [
              "0"
            ]
          },
          "metadata": {
            "tags": []
          },
          "execution_count": 37
        }
      ]
    },
    {
      "cell_type": "code",
      "metadata": {
        "id": "OigWZxBAxfjx"
      },
      "source": [
        ""
      ],
      "execution_count": null,
      "outputs": []
    }
  ]
}