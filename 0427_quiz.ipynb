{
  "nbformat": 4,
  "nbformat_minor": 0,
  "metadata": {
    "colab": {
      "name": "0427_quiz.ipynb",
      "provenance": [],
      "collapsed_sections": [],
      "authorship_tag": "ABX9TyOY3Hhyl5IbK0prQRyVkERj",
      "include_colab_link": true
    },
    "kernelspec": {
      "name": "python3",
      "display_name": "Python 3"
    },
    "language_info": {
      "name": "python"
    }
  },
  "cells": [
    {
      "cell_type": "markdown",
      "metadata": {
        "id": "view-in-github",
        "colab_type": "text"
      },
      "source": [
        "<a href=\"https://colab.research.google.com/github/hyojk2001/Python-basic/blob/main/0427_quiz.ipynb\" target=\"_parent\"><img src=\"https://colab.research.google.com/assets/colab-badge.svg\" alt=\"Open In Colab\"/></a>"
      ]
    },
    {
      "cell_type": "code",
      "metadata": {
        "colab": {
          "base_uri": "https://localhost:8080/"
        },
        "id": "N9EmjjbBgUiF",
        "outputId": "49c85c6d-6c24-456e-f08b-08604d1f2c33"
      },
      "source": [
        "def solution(n):\n",
        "  a = ''                                #만들 문자열 초기화\n",
        "  if len(n) > 50 or len(n) % 2 == 1:    #받은 입력이 홀수개의 글자거나 길이가 50이 넘으면\n",
        "    return                              #연산하지 않음\n",
        "  else:                                 #그렇지 않으면\n",
        "    a = '=' * int((50 - int(len(n)/2)) / 2) + n + '=' * int((50 - int(len(n)/2)) / 2)  \n",
        "    #50에서 받은 문자열의 절반 갯수만큼을 뺀 값의 1/2 값만큼 '='를 받은 n의 양쪽에 더해준다\n",
        "  return a                              #그렇게 다시 계산된 문자열 반환\n",
        "\n",
        "n = input()                             #입력받음\n",
        "print(solution(n))                      "
      ],
      "execution_count": 4,
      "outputs": [
        {
          "output_type": "stream",
          "text": [
            "hello!\n",
            "=======================hello!=======================\n"
          ],
          "name": "stdout"
        }
      ]
    },
    {
      "cell_type": "code",
      "metadata": {
        "colab": {
          "base_uri": "https://localhost:8080/"
        },
        "id": "T4G1bqsLiA9o",
        "outputId": "dc4ea54c-4ef0-4009-fbec-f28becf5a022"
      },
      "source": [
        "n = input()\n",
        "if len(n) < 50:\n",
        "  p = int((50 - int(len(n)/2)) / 2)\n",
        "  print('{}{}{}'.format('='*p, n, '='*p))\n",
        "else:\n",
        "  pass"
      ],
      "execution_count": 21,
      "outputs": [
        {
          "output_type": "stream",
          "text": [
            "hi\n",
            "========================hi========================\n"
          ],
          "name": "stdout"
        }
      ]
    },
    {
      "cell_type": "code",
      "metadata": {
        "id": "NdS4v9FPlBSt"
      },
      "source": [
        ""
      ],
      "execution_count": null,
      "outputs": []
    }
  ]
}