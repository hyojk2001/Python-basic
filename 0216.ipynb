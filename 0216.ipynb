{
 "cells": [
  {
   "cell_type": "code",
   "execution_count": 2,
   "metadata": {},
   "outputs": [
    {
     "data": {
      "text/plain": [
       "[1, 2, 3, 4]"
      ]
     },
     "execution_count": 2,
     "metadata": {},
     "output_type": "execute_result"
    }
   ],
   "source": [
    "a = [1,2,3,4,43,67,234,13,436,74536]\n",
    "a[0:2] #a[0:2]이면 a[0]이상 a[2] 미만까지의 값\n",
    "a[0:4]"
   ]
  },
  {
   "cell_type": "code",
   "execution_count": 4,
   "metadata": {},
   "outputs": [],
   "source": [
    "a = '''\n",
    "1. hello\n",
    "2. hi\n",
    "3. gonnichiwa\n",
    "4. annyeonghaseyo\n",
    "\n",
    "enter numbers!\n",
    "'''\n",
    "\n",
    "# number = 0\n",
    "# while number != 4 :\n",
    "#     print(a)\n",
    "#     number = int(input('number : '))"
   ]
  },
  {
   "cell_type": "code",
   "execution_count": 9,
   "metadata": {},
   "outputs": [
    {
     "data": {
      "text/plain": [
       "-1"
      ]
     },
     "execution_count": 9,
     "metadata": {},
     "output_type": "execute_result"
    }
   ],
   "source": [
    "a.find('13')"
   ]
  },
  {
   "cell_type": "code",
   "execution_count": 14,
   "metadata": {},
   "outputs": [
    {
     "data": {
      "text/plain": [
       "4"
      ]
     },
     "execution_count": 14,
     "metadata": {},
     "output_type": "execute_result"
    }
   ],
   "source": [
    "a = [1,2,3,4,43,67,234,13,436,74536]\n",
    "a.index(43)"
   ]
  },
  {
   "cell_type": "code",
   "execution_count": 15,
   "metadata": {},
   "outputs": [
    {
     "ename": "TypeError",
     "evalue": "set expected at most 1 argument, got 3",
     "output_type": "error",
     "traceback": [
      "\u001b[1;31m---------------------------------------------------------------------------\u001b[0m",
      "\u001b[1;31mTypeError\u001b[0m                                 Traceback (most recent call last)",
      "\u001b[1;32m<ipython-input-15-34af0444917f>\u001b[0m in \u001b[0;36m<module>\u001b[1;34m\u001b[0m\n\u001b[1;32m----> 1\u001b[1;33m \u001b[0ma\u001b[0m \u001b[1;33m=\u001b[0m \u001b[0mset\u001b[0m\u001b[1;33m(\u001b[0m\u001b[1;33m[\u001b[0m\u001b[1;36m1\u001b[0m\u001b[1;33m,\u001b[0m\u001b[1;36m2\u001b[0m\u001b[1;33m,\u001b[0m\u001b[1;36m3\u001b[0m\u001b[1;33m]\u001b[0m\u001b[1;33m,\u001b[0m\u001b[1;33m[\u001b[0m\u001b[1;36m4\u001b[0m\u001b[1;33m,\u001b[0m\u001b[1;36m5\u001b[0m\u001b[1;33m]\u001b[0m\u001b[1;33m,\u001b[0m\u001b[1;33m[\u001b[0m\u001b[1;36m6\u001b[0m\u001b[1;33m,\u001b[0m\u001b[1;36m7\u001b[0m\u001b[1;33m,\u001b[0m\u001b[1;36m8\u001b[0m\u001b[1;33m]\u001b[0m\u001b[1;33m)\u001b[0m\u001b[1;33m\u001b[0m\u001b[1;33m\u001b[0m\u001b[0m\n\u001b[0m\u001b[0;32m      2\u001b[0m \u001b[0ma\u001b[0m\u001b[1;33m\u001b[0m\u001b[1;33m\u001b[0m\u001b[0m\n",
      "\u001b[1;31mTypeError\u001b[0m: set expected at most 1 argument, got 3"
     ]
    }
   ],
   "source": [
    "#set 자료형은 중복이 허용되지 않으며, 순서도 없다.(=인덱싱을 지원하지 않는다)"
   ]
  },
  {
   "cell_type": "code",
   "execution_count": 24,
   "metadata": {},
   "outputs": [
    {
     "name": "stdout",
     "output_type": "stream",
     "text": [
      "1\n",
      "2\n",
      "3\n",
      "4\n",
      "5\n",
      "6\n",
      "7\n",
      "8\n",
      "9\n",
      "10\n",
      "1\n",
      "2\n",
      "3\n",
      "4\n",
      "5\n",
      "6\n",
      "7\n",
      "8\n",
      "9\n",
      "10\n"
     ]
    }
   ],
   "source": [
    "a = 0\n",
    "\n",
    "while a < 10 :\n",
    "    a = a + 1\n",
    "    print(a)\n",
    "    \n",
    "    \n",
    "for i in range(1,11) :\n",
    "    print(i)"
   ]
  },
  {
   "cell_type": "code",
   "execution_count": 25,
   "metadata": {},
   "outputs": [
    {
     "name": "stdout",
     "output_type": "stream",
     "text": [
      "1번 학생은 합격.\n",
      "2번 학생은 불합격\n",
      "3번 학생은 합격.\n",
      "4번 학생은 불합격\n",
      "5번 학생은 합격.\n"
     ]
    }
   ],
   "source": [
    "m = [90,25,67,45,80]\n",
    "number = 0\n",
    "\n",
    "for mark in m :\n",
    "    number = number + 1\n",
    "    if mark >= 60 :\n",
    "        print('%d번 학생은 합격.' % number)\n",
    "    else :\n",
    "        print('%d번 학생은 불합격' % number)"
   ]
  },
  {
   "cell_type": "code",
   "execution_count": 30,
   "metadata": {},
   "outputs": [],
   "source": [
    "#################################################\n",
    "#for 문"
   ]
  },
  {
   "cell_type": "code",
   "execution_count": null,
   "metadata": {},
   "outputs": [],
   "source": [
    "#for 문에서 range(a,b) 이면 a 이상 b '미만'의 범위이다.\n",
    "# 즉 range(1,10)이면 1 이상 10 미만(=9) 의 범위를 의미한다"
   ]
  },
  {
   "cell_type": "code",
   "execution_count": 31,
   "metadata": {},
   "outputs": [
    {
     "name": "stdout",
     "output_type": "stream",
     "text": [
      "1\n",
      "2\n",
      "3\n",
      "4\n",
      "5\n",
      "6\n",
      "7\n",
      "8\n",
      "9\n",
      "10\n"
     ]
    }
   ],
   "source": [
    "for i in range(1,11):\n",
    "    print(i)"
   ]
  },
  {
   "cell_type": "code",
   "execution_count": 50,
   "metadata": {},
   "outputs": [
    {
     "name": "stdout",
     "output_type": "stream",
     "text": [
      "1\n",
      "3\n",
      "5\n",
      "7\n",
      "9\n"
     ]
    }
   ],
   "source": [
    "for i in range(1,11) :\n",
    "    if i % 2 != 0 :\n",
    "        print(i)\n",
    "        \n",
    "# for i in range(1,11,2) :\n",
    "#     print(i)"
   ]
  },
  {
   "cell_type": "code",
   "execution_count": 33,
   "metadata": {},
   "outputs": [
    {
     "name": "stdout",
     "output_type": "stream",
     "text": [
      "0\n",
      "1\n",
      "2\n",
      "3\n",
      "4\n",
      "5\n",
      "6\n",
      "7\n",
      "8\n",
      "9\n",
      "10\n"
     ]
    }
   ],
   "source": [
    "for i in range(11) :\n",
    "    print(i)"
   ]
  },
  {
   "cell_type": "code",
   "execution_count": 38,
   "metadata": {},
   "outputs": [
    {
     "name": "stdout",
     "output_type": "stream",
     "text": [
      "4 6 8 10 12 14 16 18 \n",
      "\n",
      "6 9 12 15 18 21 24 27 \n",
      "\n",
      "8 12 16 20 24 28 32 36 \n",
      "\n",
      "10 15 20 25 30 35 40 45 \n",
      "\n",
      "12 18 24 30 36 42 48 54 \n",
      "\n",
      "14 21 28 35 42 49 56 63 \n",
      "\n",
      "16 24 32 40 48 56 64 72 \n",
      "\n",
      "18 27 36 45 54 63 72 81 \n",
      "\n"
     ]
    }
   ],
   "source": [
    "for i in range(2,10) : \n",
    "    for j in range(2,10) :\n",
    "#         print('{} * {} = {}'.format(i,j,i*j))\n",
    "        print(i*j, end=\" \")  #end=\" \"를 쓰는 건 다음 줄로 넘기지 않고 스페이스바를 통해 계속 같은 줄에 쓰기 위해서\n",
    "    print('\\n')"
   ]
  },
  {
   "cell_type": "code",
   "execution_count": 41,
   "metadata": {},
   "outputs": [
    {
     "name": "stdout",
     "output_type": "stream",
     "text": [
      "2 * 2 = 4 2 * 3 = 6 2 * 4 = 8 2 * 5 = 10 2 * 6 = 12 2 * 7 = 14 2 * 8 = 16 2 * 9 = 18 \n",
      "3 * 2 = 6 3 * 3 = 9 3 * 4 = 12 3 * 5 = 15 3 * 6 = 18 3 * 7 = 21 3 * 8 = 24 3 * 9 = 27 \n",
      "4 * 2 = 8 4 * 3 = 12 4 * 4 = 16 4 * 5 = 20 4 * 6 = 24 4 * 7 = 28 4 * 8 = 32 4 * 9 = 36 \n",
      "5 * 2 = 10 5 * 3 = 15 5 * 4 = 20 5 * 5 = 25 5 * 6 = 30 5 * 7 = 35 5 * 8 = 40 5 * 9 = 45 \n",
      "6 * 2 = 12 6 * 3 = 18 6 * 4 = 24 6 * 5 = 30 6 * 6 = 36 6 * 7 = 42 6 * 8 = 48 6 * 9 = 54 \n",
      "7 * 2 = 14 7 * 3 = 21 7 * 4 = 28 7 * 5 = 35 7 * 6 = 42 7 * 7 = 49 7 * 8 = 56 7 * 9 = 63 \n",
      "8 * 2 = 16 8 * 3 = 24 8 * 4 = 32 8 * 5 = 40 8 * 6 = 48 8 * 7 = 56 8 * 8 = 64 8 * 9 = 72 \n",
      "9 * 2 = 18 9 * 3 = 27 9 * 4 = 36 9 * 5 = 45 9 * 6 = 54 9 * 7 = 63 9 * 8 = 72 9 * 9 = 81 \n"
     ]
    }
   ],
   "source": [
    "for i in range(2,10) :\n",
    "    for j in range(2,10) :\n",
    "        print('%d * %d = %d' %(i,j,i*j),end=' ')\n",
    "    print('')"
   ]
  },
  {
   "cell_type": "code",
   "execution_count": 52,
   "metadata": {},
   "outputs": [
    {
     "data": {
      "text/plain": [
       "[3, 6, 9, 12]"
      ]
     },
     "execution_count": 52,
     "metadata": {},
     "output_type": "execute_result"
    }
   ],
   "source": [
    "a = [1,2,3,4]\n",
    "result = [num*3 for num in a]\n",
    "result"
   ]
  },
  {
   "cell_type": "code",
   "execution_count": 71,
   "metadata": {},
   "outputs": [
    {
     "name": "stdout",
     "output_type": "stream",
     "text": [
      "166833\n"
     ]
    }
   ],
   "source": [
    "a = 1\n",
    "sum = 0\n",
    "\n",
    "while a <= 1000 :\n",
    "    if a % 3 == 0 : #3의 배수인지 확인\n",
    "        sum = sum + a\n",
    "    a = a + 1\n",
    "print(sum)"
   ]
  },
  {
   "cell_type": "code",
   "execution_count": 91,
   "metadata": {},
   "outputs": [
    {
     "name": "stdout",
     "output_type": "stream",
     "text": [
      "*\n",
      "**\n",
      "***\n",
      "****\n",
      "*****\n"
     ]
    }
   ],
   "source": [
    "a = 1\n",
    "while a <= 5 :\n",
    "    print('*' * a)\n",
    "    a = a + 1\n",
    "    \n",
    "while True : \n",
    "    a = a + 1\n",
    "    if i > 5 : \n",
    "        break\n",
    "    print(i * '*')"
   ]
  },
  {
   "cell_type": "code",
   "execution_count": 96,
   "metadata": {},
   "outputs": [
    {
     "name": "stdout",
     "output_type": "stream",
     "text": [
      "70 70\n",
      "60 130\n",
      "55 185\n",
      "75 260\n",
      "95 355\n",
      "90 445\n",
      "80 525\n",
      "80 605\n",
      "85 690\n",
      "100 790\n",
      "평균 : 79.0\n"
     ]
    }
   ],
   "source": [
    "# A 학급에 총 10명의 학생이 있다. 이 학생들의 중간고사 점수는 다음과 같다.\n",
    "\n",
    "# [70, 60, 55, 75, 95, 90, 80, 80, 85, 100]\n",
    "\n",
    "# for문을 사용하여 A 학급의 평균 점수를 구해 보자.\n",
    "\n",
    "a = [70, 60, 55, 75, 95, 90, 80, 80, 85, 100]\n",
    "sum = 0\n",
    "\n",
    "for i in a :\n",
    "    sum = sum + i\n",
    "    print(i,sum)\n",
    "print('평균 :',sum/len(a))"
   ]
  },
  {
   "cell_type": "code",
   "execution_count": 94,
   "metadata": {},
   "outputs": [
    {
     "name": "stdout",
     "output_type": "stream",
     "text": [
      "1에서 2까지의 합 : 3\n",
      "1에서 3까지의 합 : 6\n",
      "1에서 4까지의 합 : 10\n",
      "1에서 5까지의 합 : 15\n",
      "1에서 6까지의 합 : 21\n",
      "1에서 7까지의 합 : 28\n",
      "1에서 8까지의 합 : 36\n",
      "1에서 9까지의 합 : 45\n",
      "1에서 10까지의 합 : 55\n",
      "1에서 11까지의 합 : 66\n",
      "1에서 12까지의 합 : 78\n",
      "1에서 13까지의 합 : 91\n",
      "1에서 14까지의 합 : 105\n",
      "1에서 15까지의 합 : 120\n",
      "1에서 16까지의 합 : 136\n",
      "1에서 17까지의 합 : 153\n",
      "1에서 18까지의 합 : 171\n",
      "1에서 19까지의 합 : 190\n",
      "1에서 20까지의 합 : 210\n",
      "1에서 21까지의 합 : 231\n",
      "1에서 22까지의 합 : 253\n",
      "1에서 23까지의 합 : 276\n",
      "1에서 24까지의 합 : 300\n",
      "1에서 25까지의 합 : 325\n",
      "1에서 26까지의 합 : 351\n",
      "1에서 27까지의 합 : 378\n",
      "1에서 28까지의 합 : 406\n",
      "1에서 29까지의 합 : 435\n",
      "1에서 30까지의 합 : 465\n",
      "1에서 31까지의 합 : 496\n",
      "1에서 32까지의 합 : 528\n",
      "1에서 33까지의 합 : 561\n",
      "1에서 34까지의 합 : 595\n",
      "1에서 35까지의 합 : 630\n",
      "1에서 36까지의 합 : 666\n",
      "1에서 37까지의 합 : 703\n",
      "1에서 38까지의 합 : 741\n",
      "1에서 39까지의 합 : 780\n",
      "1에서 40까지의 합 : 820\n",
      "1에서 41까지의 합 : 861\n",
      "1에서 42까지의 합 : 903\n",
      "1에서 43까지의 합 : 946\n",
      "1에서 44까지의 합 : 990\n",
      "1에서 45까지의 합 : 1035\n",
      "1에서 46까지의 합 : 1081\n",
      "1에서 47까지의 합 : 1128\n",
      "1에서 48까지의 합 : 1176\n",
      "1에서 49까지의 합 : 1225\n",
      "1에서 50까지의 합 : 1275\n",
      "1에서 51까지의 합 : 1326\n",
      "1에서 52까지의 합 : 1378\n",
      "1에서 53까지의 합 : 1431\n",
      "1에서 54까지의 합 : 1485\n",
      "1에서 55까지의 합 : 1540\n",
      "1에서 56까지의 합 : 1596\n",
      "1에서 57까지의 합 : 1653\n",
      "1에서 58까지의 합 : 1711\n",
      "1에서 59까지의 합 : 1770\n",
      "1에서 60까지의 합 : 1830\n",
      "1에서 61까지의 합 : 1891\n",
      "1에서 62까지의 합 : 1953\n",
      "1에서 63까지의 합 : 2016\n",
      "1에서 64까지의 합 : 2080\n",
      "1에서 65까지의 합 : 2145\n",
      "1에서 66까지의 합 : 2211\n",
      "1에서 67까지의 합 : 2278\n",
      "1에서 68까지의 합 : 2346\n",
      "1에서 69까지의 합 : 2415\n",
      "1에서 70까지의 합 : 2485\n",
      "1에서 71까지의 합 : 2556\n",
      "1에서 72까지의 합 : 2628\n",
      "1에서 73까지의 합 : 2701\n",
      "1에서 74까지의 합 : 2775\n",
      "1에서 75까지의 합 : 2850\n",
      "1에서 76까지의 합 : 2926\n",
      "1에서 77까지의 합 : 3003\n",
      "1에서 78까지의 합 : 3081\n",
      "1에서 79까지의 합 : 3160\n",
      "1에서 80까지의 합 : 3240\n",
      "1에서 81까지의 합 : 3321\n",
      "1에서 82까지의 합 : 3403\n",
      "1에서 83까지의 합 : 3486\n",
      "1에서 84까지의 합 : 3570\n",
      "1에서 85까지의 합 : 3655\n",
      "1에서 86까지의 합 : 3741\n",
      "1에서 87까지의 합 : 3828\n",
      "1에서 88까지의 합 : 3916\n",
      "1에서 89까지의 합 : 4005\n",
      "1에서 90까지의 합 : 4095\n",
      "1에서 91까지의 합 : 4186\n",
      "1에서 92까지의 합 : 4278\n",
      "1에서 93까지의 합 : 4371\n",
      "1에서 94까지의 합 : 4465\n",
      "1에서 95까지의 합 : 4560\n",
      "1에서 96까지의 합 : 4656\n",
      "1에서 97까지의 합 : 4753\n",
      "1에서 98까지의 합 : 4851\n",
      "1에서 99까지의 합 : 4950\n",
      "1에서 100까지의 합 : 5050\n"
     ]
    }
   ],
   "source": [
    "# for 문을 사용해 1부터 100까지의 합 출력\n",
    "sum = 0\n",
    "for i in range (1,101) :\n",
    "    sum = sum + i\n",
    "    if i >= 2 :\n",
    "        print('1에서 %d까지의 합 : %d' % (i,sum))"
   ]
  },
  {
   "cell_type": "code",
   "execution_count": null,
   "metadata": {},
   "outputs": [],
   "source": [
    "################################################\n",
    "#함수"
   ]
  },
  {
   "cell_type": "code",
   "execution_count": 99,
   "metadata": {},
   "outputs": [
    {
     "data": {
      "text/plain": [
       "7"
      ]
     },
     "execution_count": 99,
     "metadata": {},
     "output_type": "execute_result"
    }
   ],
   "source": [
    "def add(a,b) :\n",
    "    return a+b\n",
    "\n",
    "add(3,-3)\n",
    "a = 3\n",
    "b = 4\n",
    "c = add(a,b)\n",
    "c"
   ]
  },
  {
   "cell_type": "code",
   "execution_count": 102,
   "metadata": {},
   "outputs": [
    {
     "name": "stdout",
     "output_type": "stream",
     "text": [
      "21\n"
     ]
    }
   ],
   "source": [
    "#여러 개의 입력값을 받는 함수 만들기\n",
    "def add_many(*args) : #args : 관용구\n",
    "    result = 0\n",
    "    for i in args : \n",
    "        result = result + i\n",
    "    return result\n",
    "\n",
    "result = add_many(1,2,3,4,5,6)\n",
    "print(result)"
   ]
  },
  {
   "cell_type": "code",
   "execution_count": 110,
   "metadata": {},
   "outputs": [],
   "source": [
    "def add_mul(choice, *args) :\n",
    "    if choice == \"add\" :\n",
    "        result = 0\n",
    "        for i in args :\n",
    "            result = result + i\n",
    "    elif choice == \"mul\" :\n",
    "        result = 1\n",
    "        for i in args :\n",
    "            result = result * i\n",
    "    return result"
   ]
  },
  {
   "cell_type": "code",
   "execution_count": 113,
   "metadata": {},
   "outputs": [
    {
     "data": {
      "text/plain": [
       "14"
      ]
     },
     "execution_count": 113,
     "metadata": {},
     "output_type": "execute_result"
    }
   ],
   "source": [
    "result = add_mul('add', 2,3,4,5)\n",
    "result"
   ]
  },
  {
   "cell_type": "code",
   "execution_count": 114,
   "metadata": {},
   "outputs": [
    {
     "data": {
      "text/plain": [
       "(7, 12)"
      ]
     },
     "execution_count": 114,
     "metadata": {},
     "output_type": "execute_result"
    }
   ],
   "source": [
    "#함수의 결과값은 언제나 하나다\n",
    "\n",
    "def func(a,b) :\n",
    "    return a+b, a*b\n",
    "\n",
    "func(3,4)\n",
    "#이와 같이 return 값이 하나 이상이라 하면 튜플로 엮어서 하나로 계산된다."
   ]
  },
  {
   "cell_type": "code",
   "execution_count": 117,
   "metadata": {},
   "outputs": [
    {
     "name": "stdout",
     "output_type": "stream",
     "text": [
      "7 12\n"
     ]
    }
   ],
   "source": [
    "a,b = func(3,4)\n",
    "print(a,b)\n",
    "#이와 같이 튜플 값을 결과값으로 받으려면 return 값 개수만큼의 추가 변수를 지정하여 받아낸다."
   ]
  },
  {
   "cell_type": "code",
   "execution_count": 118,
   "metadata": {},
   "outputs": [
    {
     "data": {
      "text/plain": [
       "7"
      ]
     },
     "execution_count": 118,
     "metadata": {},
     "output_type": "execute_result"
    }
   ],
   "source": [
    "def func(a,b):\n",
    "    return a+b\n",
    "    return a*b\n",
    "\n",
    "func(3,4)\n",
    "#이런 식으로 return 자체를 여러 개 쓰더라도 맨 처음 나온 return 값만을 반환하고 함수를 빠져나간다."
   ]
  },
  {
   "cell_type": "code",
   "execution_count": 134,
   "metadata": {
    "scrolled": true
   },
   "outputs": [
    {
     "name": "stdout",
     "output_type": "stream",
     "text": [
      "이름 : 김효중\n",
      "나이 : 29\n",
      "남자입니다\n"
     ]
    }
   ],
   "source": [
    "#매개변수에 초기값을 미리 설정하는 방법.\n",
    "#초기값 설정은 맨 뒤로 가야 한다.\n",
    "#예를 들어 say(name, man=True, old)와 같은 형태로 쓰면 안된다.\n",
    "\n",
    "def say(name,old,man=True) :\n",
    "    print('이름 : %s' % name)\n",
    "    print('나이 : %d' % old)\n",
    "    if man : \n",
    "        print('남자입니다')\n",
    "    else :\n",
    "        print('여자입니다')\n",
    "        \n",
    "say('김효중', 29)"
   ]
  },
  {
   "cell_type": "code",
   "execution_count": 133,
   "metadata": {},
   "outputs": [
    {
     "name": "stdout",
     "output_type": "stream",
     "text": [
      "1\n"
     ]
    }
   ],
   "source": [
    "#함수 안과 밖에서의 변수 관계\n",
    "\n",
    "a = 1\n",
    "def vartest(a):\n",
    "    a = a + 1\n",
    "    \n",
    "vartest(a)\n",
    "print(a)\n",
    "#이와 같이 함수 안에서의 변수는 함수에서만 사용 가능한 함수만의 변수, 즉 지역변수이다."
   ]
  },
  {
   "cell_type": "code",
   "execution_count": null,
   "metadata": {},
   "outputs": [],
   "source": [
    "# 지역 변수 : 특정 범위(함수 내부)에서만 응용\n",
    "# 전역 변수 : 전체 범위에서 통용됨"
   ]
  },
  {
   "cell_type": "code",
   "execution_count": 138,
   "metadata": {},
   "outputs": [],
   "source": [
    "def vartest(a):\n",
    "    a = a + 1"
   ]
  },
  {
   "cell_type": "code",
   "execution_count": 136,
   "metadata": {},
   "outputs": [],
   "source": [
    "vartest(3)"
   ]
  },
  {
   "cell_type": "code",
   "execution_count": 140,
   "metadata": {},
   "outputs": [
    {
     "name": "stdout",
     "output_type": "stream",
     "text": [
      "1\n"
     ]
    }
   ],
   "source": [
    "print(a)"
   ]
  },
  {
   "cell_type": "code",
   "execution_count": 141,
   "metadata": {},
   "outputs": [
    {
     "name": "stdout",
     "output_type": "stream",
     "text": [
      "2\n"
     ]
    }
   ],
   "source": [
    "a = 1\n",
    "def vartest(a):\n",
    "    a = a + 1\n",
    "    return a\n",
    "\n",
    "a = vartest(a)\n",
    "print(a)"
   ]
  },
  {
   "cell_type": "code",
   "execution_count": 144,
   "metadata": {},
   "outputs": [
    {
     "data": {
      "text/plain": [
       "7"
      ]
     },
     "execution_count": 144,
     "metadata": {},
     "output_type": "execute_result"
    }
   ],
   "source": [
    "#lambda 함수 사용\n",
    "\n",
    "add = lambda a,b : a+b\n",
    "\n",
    "result = add(3,4)\n",
    "result"
   ]
  },
  {
   "cell_type": "code",
   "execution_count": 145,
   "metadata": {},
   "outputs": [
    {
     "name": "stdout",
     "output_type": "stream",
     "text": [
      "16\n"
     ]
    }
   ],
   "source": [
    "a = input()"
   ]
  },
  {
   "cell_type": "code",
   "execution_count": 147,
   "metadata": {},
   "outputs": [
    {
     "data": {
      "text/plain": [
       "str"
      ]
     },
     "execution_count": 147,
     "metadata": {},
     "output_type": "execute_result"
    }
   ],
   "source": [
    "type(a)"
   ]
  },
  {
   "cell_type": "code",
   "execution_count": 151,
   "metadata": {},
   "outputs": [
    {
     "name": "stdout",
     "output_type": "stream",
     "text": [
      "0\n",
      "0 1\n",
      "1 2\n",
      "2 3\n",
      "3 4\n",
      "4 5\n",
      "5 6\n",
      "6 7\n",
      "7 8\n",
      "8 9\n",
      "9 "
     ]
    }
   ],
   "source": [
    "for i in range(10):\n",
    "    print(i,end='\\n')\n",
    "    print(i,end=' ')"
   ]
  },
  {
   "cell_type": "code",
   "execution_count": null,
   "metadata": {},
   "outputs": [],
   "source": [
    "##################################\n",
    "#파일 읽고 쓰기\n",
    "#파일 객체 = open(파일 이름, 파일 열기 모드('r','s'등등))"
   ]
  },
  {
   "cell_type": "code",
   "execution_count": 152,
   "metadata": {},
   "outputs": [],
   "source": [
    "# f = open('새파일.txt','w')\n",
    "# f.close()"
   ]
  },
  {
   "cell_type": "code",
   "execution_count": null,
   "metadata": {},
   "outputs": [],
   "source": [
    "#cmd 명령어\n",
    "\n",
    "# dir : 디렉토리 안에 있는 파일의 목록 확인\n",
    "# cd 디렉토리명 : 특정 디렉토리 안으로 이동 \n",
    "# cd.. : 디렉토리에서 빠져 나올때\n",
    "# md 디렉토리명 : 디렉토리 만들기\n",
    "# type 파일명.파일형태 : 해당 파일 열기    "
   ]
  },
  {
   "cell_type": "code",
   "execution_count": 153,
   "metadata": {},
   "outputs": [],
   "source": [
    "f = open('새파일.txt','w')\n",
    "for i in range(1,10):\n",
    "    data = '%d번째 줄입니다. \\n' % i\n",
    "    f.write(data)\n",
    "f.close()"
   ]
  },
  {
   "cell_type": "code",
   "execution_count": 154,
   "metadata": {},
   "outputs": [
    {
     "name": "stdout",
     "output_type": "stream",
     "text": [
      "1번째 줄입니다. \n",
      "\n"
     ]
    }
   ],
   "source": [
    "f = open('새파일.txt', 'r')\n",
    "line = f.readline()\n",
    "print(line)\n",
    "f.close()"
   ]
  },
  {
   "cell_type": "code",
   "execution_count": 155,
   "metadata": {},
   "outputs": [
    {
     "name": "stdout",
     "output_type": "stream",
     "text": [
      "1번째 줄입니다. \n",
      "\n",
      "2번째 줄입니다. \n",
      "\n",
      "3번째 줄입니다. \n",
      "\n",
      "4번째 줄입니다. \n",
      "\n",
      "5번째 줄입니다. \n",
      "\n",
      "6번째 줄입니다. \n",
      "\n",
      "7번째 줄입니다. \n",
      "\n",
      "8번째 줄입니다. \n",
      "\n",
      "9번째 줄입니다. \n",
      "\n"
     ]
    }
   ],
   "source": [
    "f = open('새파일.txt','r')\n",
    "while True :  #끝날 때까지 무한 반복\n",
    "    line = f.readline()  #readline을 이용해 파일을 한줄씩 읽어들인다\n",
    "    if not line : break\n",
    "    print(line)\n",
    "    \n",
    "f.close()"
   ]
  },
  {
   "cell_type": "code",
   "execution_count": 156,
   "metadata": {},
   "outputs": [
    {
     "name": "stdout",
     "output_type": "stream",
     "text": [
      "1번째 줄입니다. \n",
      "\n",
      "2번째 줄입니다. \n",
      "\n",
      "3번째 줄입니다. \n",
      "\n",
      "4번째 줄입니다. \n",
      "\n",
      "5번째 줄입니다. \n",
      "\n",
      "6번째 줄입니다. \n",
      "\n",
      "7번째 줄입니다. \n",
      "\n",
      "8번째 줄입니다. \n",
      "\n",
      "9번째 줄입니다. \n",
      "\n"
     ]
    }
   ],
   "source": [
    "f = open('새파일.txt','r')\n",
    "lines = f.readlines()\n",
    "for line in lines :\n",
    "    print(line)\n",
    "f.close()"
   ]
  },
  {
   "cell_type": "code",
   "execution_count": 157,
   "metadata": {},
   "outputs": [
    {
     "name": "stdout",
     "output_type": "stream",
     "text": [
      "1번째 줄입니다. \n",
      "2번째 줄입니다. \n",
      "3번째 줄입니다. \n",
      "4번째 줄입니다. \n",
      "5번째 줄입니다. \n",
      "6번째 줄입니다. \n",
      "7번째 줄입니다. \n",
      "8번째 줄입니다. \n",
      "9번째 줄입니다. \n",
      "\n"
     ]
    }
   ],
   "source": [
    "f = open('새파일.txt','r')\n",
    "data = f.read()\n",
    "print(data)\n",
    "f.close()"
   ]
  },
  {
   "cell_type": "code",
   "execution_count": 159,
   "metadata": {},
   "outputs": [],
   "source": [
    "#쓰기 모드로 파일을 열때 이미 존재하는 파일을 열면 그 파일의 내용은 모두 삭제된다.\n",
    "#원래 있던 값을 유지하면서 새로운 값을 추가하려면 파일 추가 모드('a')를 사용한다.\n",
    "\n",
    "f = open('새파일.txt','a')\n",
    "for i in range(11,20):\n",
    "    data = '%d번째 줄입니다.\\n' % i\n",
    "    f.write(data)\n",
    "f.close()"
   ]
  },
  {
   "cell_type": "code",
   "execution_count": null,
   "metadata": {},
   "outputs": [],
   "source": [
    "# dos 명령어를 사용해서 새 파일.txt를 열어서 확인하세요"
   ]
  },
  {
   "cell_type": "code",
   "execution_count": 161,
   "metadata": {},
   "outputs": [
    {
     "data": {
      "text/plain": [
       "'홀수입니다.'"
      ]
     },
     "execution_count": 161,
     "metadata": {},
     "output_type": "execute_result"
    }
   ],
   "source": [
    "# Q1\n",
    "# 주어진 자연수가 홀수인지 짝수인지 판별해 주는 함수(is_odd)를 작성해 보자.\n",
    "\n",
    "def is_odd(a):\n",
    "    if a % 2 == 0 :\n",
    "        message = '짝수입니다.'\n",
    "    else :\n",
    "        message = '홀수입니다.'\n",
    "    return message\n",
    "\n",
    "is_odd(9)"
   ]
  },
  {
   "cell_type": "code",
   "execution_count": 166,
   "metadata": {},
   "outputs": [
    {
     "data": {
      "text/plain": [
       "4.5"
      ]
     },
     "execution_count": 166,
     "metadata": {},
     "output_type": "execute_result"
    }
   ],
   "source": [
    "# Q2\n",
    "# 입력으로 들어오는 모든 수의 평균 값을 계산해 주는 함수를 작성해 보자. (단 입력으로 들어오는 수의 개수는 정해져 있지 않다.)\n",
    "# ※ 평균 값을 구할 때 len 함수를 사용해 보자.\n",
    "\n",
    "def cals(*args) :\n",
    "    sum = 0\n",
    "    for i in args :\n",
    "        sum = sum + i\n",
    "    return sum/len(args)\n",
    "\n",
    "cals(6,6,6,3,3,3)"
   ]
  },
  {
   "cell_type": "code",
   "execution_count": 172,
   "metadata": {},
   "outputs": [
    {
     "name": "stdout",
     "output_type": "stream",
     "text": [
      "첫번쨰 숫자를 입력하세요 : 3\n",
      "두번째 숫자를 입력하세요 : 4\n"
     ]
    },
    {
     "data": {
      "text/plain": [
       "7"
      ]
     },
     "execution_count": 172,
     "metadata": {},
     "output_type": "execute_result"
    }
   ],
   "source": [
    "# 다음은 두 개의 숫자를 입력받아 더하여 돌려주는 프로그램이다.\n",
    "\n",
    "# input1 = input(\"첫번째 숫자를 입력하세요:\")\n",
    "# input2 = input(\"두번째 숫자를 입력하세요:\")\n",
    "\n",
    "# total = input1 + input2\n",
    "# print(\"두 수의 합은 %s 입니다\" % total)\n",
    "# 이 프로그램을 수행해 보자.\n",
    "\n",
    "# 첫번째 숫자를 입력하세요:3\n",
    "# 두번째 숫자를 입력하세요:6\n",
    "# 두 수의 합은 36 입니다\n",
    "# 3과 6을 입력했을 때 9가 아닌 36이라는 결괏값을 돌려주었다. 이 프로그램의 오류를 수정해 보자.\n",
    "\n",
    "input1 = int(input('첫번쨰 숫자를 입력하세요 : '))\n",
    "input2 = int(input('두번째 숫자를 입력하세요 : '))\n",
    "\n",
    "total = input1 + input2\n",
    "total"
   ]
  },
  {
   "cell_type": "code",
   "execution_count": 193,
   "metadata": {},
   "outputs": [
    {
     "name": "stdout",
     "output_type": "stream",
     "text": [
      "Life is too short\n"
     ]
    }
   ],
   "source": [
    "# 다음은 \"test.txt\"라는 파일에 \"Life is too short\" 문자열을 저장한 후 다시 그 파일을 읽어서 출력하는 프로그램이다.\n",
    "\n",
    "# f1 = open(\"test.txt\", 'w')\n",
    "# f1.write(\"Life is too short\")\n",
    "\n",
    "# f2 = open(\"test.txt\", 'r')\n",
    "# print(f2.read())\n",
    "# 이 프로그램은 우리가 예상한 \"Life is too short\"라는 문장을 출력하지 않는다. 우리가 예상한 값을 출력할 수 있도록 프로그램을 \n",
    "# 수정해 보자.\n",
    "\n",
    "f1 = open(\"test.txt\", 'w')\n",
    "f1.write(\"Life is too short\")\n",
    "\n",
    "f2 = open(\"test.txt\", 'r')\n",
    "print(f2.read())"
   ]
  },
  {
   "cell_type": "code",
   "execution_count": 201,
   "metadata": {},
   "outputs": [
    {
     "name": "stdout",
     "output_type": "stream",
     "text": [
      "입력하세요 : 안녕하냐 나 김두한\n"
     ]
    },
    {
     "data": {
      "text/plain": [
       "10"
      ]
     },
     "execution_count": 201,
     "metadata": {},
     "output_type": "execute_result"
    }
   ],
   "source": [
    "# 사용자의 입력을 파일(test.txt)에 저장하는 프로그램을 작성해 보자. \n",
    "# (단 프로그램을 다시 실행하더라도 기존에 작성한 내용을 유지하고 새로 입력한 내용을 추가해야 한다.)\n",
    "\n",
    "f = open('test.txt','w')\n",
    "data = input('입력하세요 : ')\n",
    "f.write(data)\n",
    "\n",
    "# g = open('test.txt','r')\n",
    "# g.read(), data"
   ]
  },
  {
   "cell_type": "code",
   "execution_count": 187,
   "metadata": {},
   "outputs": [
    {
     "name": "stdout",
     "output_type": "stream",
     "text": [
      "youneedpython\n"
     ]
    }
   ],
   "source": [
    "print(\"\".join([\"you\", \"need\", \"python\"]))"
   ]
  },
  {
   "cell_type": "code",
   "execution_count": 195,
   "metadata": {},
   "outputs": [],
   "source": [
    "f = open(\"newfile.txt\",\"w\")\n",
    "for i in range(1,11):\n",
    "    data = \"This is %d line .\" % i\n",
    "    f.write(data)\n",
    "f.close()\n"
   ]
  },
  {
   "cell_type": "code",
   "execution_count": 204,
   "metadata": {},
   "outputs": [
    {
     "data": {
      "text/plain": [
       "1"
      ]
     },
     "execution_count": 204,
     "metadata": {},
     "output_type": "execute_result"
    }
   ],
   "source": [
    "5 % 4"
   ]
  },
  {
   "cell_type": "code",
   "execution_count": null,
   "metadata": {},
   "outputs": [],
   "source": []
  }
 ],
 "metadata": {
  "kernelspec": {
   "display_name": "Python 3",
   "language": "python",
   "name": "python3"
  },
  "language_info": {
   "codemirror_mode": {
    "name": "ipython",
    "version": 3
   },
   "file_extension": ".py",
   "mimetype": "text/x-python",
   "name": "python",
   "nbconvert_exporter": "python",
   "pygments_lexer": "ipython3",
   "version": "3.8.5"
  }
 },
 "nbformat": 4,
 "nbformat_minor": 4
}
