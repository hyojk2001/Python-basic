{
  "nbformat": 4,
  "nbformat_minor": 0,
  "metadata": {
    "colab": {
      "name": "0413_algo+quiz.ipynb",
      "provenance": [],
      "collapsed_sections": [],
      "authorship_tag": "ABX9TyP3AJynYUV1yMM6R9aM+V0q",
      "include_colab_link": true
    },
    "kernelspec": {
      "name": "python3",
      "display_name": "Python 3"
    },
    "language_info": {
      "name": "python"
    }
  },
  "cells": [
    {
      "cell_type": "markdown",
      "metadata": {
        "id": "view-in-github",
        "colab_type": "text"
      },
      "source": [
        "<a href=\"https://colab.research.google.com/github/hyojk2001/Python-basic/blob/main/0413_algo%2Bquiz.ipynb\" target=\"_parent\"><img src=\"https://colab.research.google.com/assets/colab-badge.svg\" alt=\"Open In Colab\"/></a>"
      ]
    },
    {
      "cell_type": "code",
      "metadata": {
        "colab": {
          "base_uri": "https://localhost:8080/"
        },
        "id": "CXP-KeYuBjmr",
        "outputId": "24b83135-9d55-4d24-ef63-d42fe215d975"
      },
      "source": [
        "def Quick_sort(a):\n",
        "  n = len(a)\n",
        "  if n <= 1:      # 리스트가 1개면 정렬하지 않는다\n",
        "    return a\n",
        "  pivot = a[-1]   # 리스트의 마지막을 피벗이라고 구한다\n",
        "  g_left = []     # 피벗 수보다 작은 수를 담을 리스트\n",
        "  g_right = []    # 피벗 수보다 큰 수를 담을 리스트\n",
        "  for i in range(0,n-1):\n",
        "    if a[i] <= pivot:\n",
        "      g_left.append(a[i])   # 리스트의 수가 피벗보다 작으면 g_left에 추가\n",
        "    else:\n",
        "      g_right.append(a[i])\n",
        "  return Quick_sort(g_left) + [pivot] + Quick_sort(g_right)   #새로운 리스트를 만듬\n",
        "\n",
        "d = [8,12,1,9,102,25,32,98,31]\n",
        "print(Quick_sort(d))"
      ],
      "execution_count": 2,
      "outputs": [
        {
          "output_type": "stream",
          "text": [
            "[1, 8, 9, 12, 25, 31, 32, 98, 102]\n"
          ],
          "name": "stdout"
        }
      ]
    },
    {
      "cell_type": "code",
      "metadata": {
        "id": "0mM7NGzuEjjj"
      },
      "source": [
        ""
      ],
      "execution_count": null,
      "outputs": []
    },
    {
      "cell_type": "code",
      "metadata": {
        "colab": {
          "base_uri": "https://localhost:8080/"
        },
        "id": "hh8NY4qsLYLQ",
        "outputId": "88d003e8-9742-4c75-ec33-1b04b5ddfe28"
      },
      "source": [
        "def bsort(nums):\n",
        "  for i in range(len(nums)-1):\n",
        "    for j in range(len(nums)-1-i):\n",
        "      if nums[j] > nums[j+1]:\n",
        "        nums[j], nums[j+1] = nums[j+1], nums[j]\n",
        "  return nums\n",
        "\n",
        "bsort([5,4,1,2,3])"
      ],
      "execution_count": 4,
      "outputs": [
        {
          "output_type": "execute_result",
          "data": {
            "text/plain": [
              "[1, 2, 3, 4, 5]"
            ]
          },
          "metadata": {
            "tags": []
          },
          "execution_count": 4
        }
      ]
    },
    {
      "cell_type": "code",
      "metadata": {
        "id": "RqUomdx9NvPe"
      },
      "source": [
        ""
      ],
      "execution_count": null,
      "outputs": []
    },
    {
      "cell_type": "code",
      "metadata": {
        "id": "utw4lnB7XnqD"
      },
      "source": [
        "# ALGORITHM HOMEWORK(#27)\n",
        "# 우리 학교에는 복도 불을 켜고 끄는 마부(Mabu)라는 사람이 있다. 전구마다 불을 켜고 끄는 스위치가 있다.\n",
        "# 불이 꺼져 있을 때 스위치를 누르면 불이 켜지고 다시 스위치를 누르면 불이 꺼진다. \n",
        "# 처음에는 모든 전구가 꺼져 있다. 마부라는 사람은 특이한 행동을 한다. \n",
        "# 복도에 n개의 전구가 있으면, 복도를 n번 왕복한다. i번째 갈 때 그는 i로 나누어 떨어지는 위치에 있는 스위치만 누른다. \n",
        "# 처음 위치로 돌아올 때는 아무 스위치도 건드리지 않는다. \n",
        "# i번째 왕복은 (이런 이상한 행동을 하면서) 복도를 한 번 갔다가 오는 것으로 정의된다.\n",
        "# 마지막 전구의 최종 상태를 알아내자. 과연 그 전구는 켜져 있을까 아니면 꺼져 있을까?\n",
        "\n",
        "# Input\n",
        "# 복도에 있는 n번째 전구를 나타내는 숫자가 입력된다. 0은 입력의 끝을 의미하며 그 값은 처리하지 않는다.\n",
        "# Output\n",
        "# 그 전구가 켜져 있으면 \"yes\"를, 꺼져 있으면 \"no\"를 출력한다. 테스트 케이스마다 한 줄에 하나씩 출력한다.\n",
        "\n",
        "# 모범답안\n",
        "# Sample Input\n",
        "# 3\n",
        "# 6241\n",
        "# 8191\n",
        "# 0\n",
        "\n",
        "# Sample Output\n",
        "# no\n",
        "# yes\n",
        "# no"
      ],
      "execution_count": null,
      "outputs": []
    },
    {
      "cell_type": "code",
      "metadata": {
        "colab": {
          "base_uri": "https://localhost:8080/"
        },
        "id": "mGkCr95BY8Gp",
        "outputId": "341c66be-a09f-4145-965d-c12074b639c2"
      },
      "source": [
        "def toggle(m):\n",
        "  if m == 1:\n",
        "    return 0\n",
        "  elif m == 0:\n",
        "    return 1\n",
        "    \n",
        "n = int(input('input : '))\n",
        "b = [0 for i in range(n)]   # 전구 n개 배열\n",
        "                            # 0:꺼짐, 1:켜짐\n",
        "for i in range(1,n+1):\n",
        "  for j in range(i-1,(n//i)*i + (n%i),i):\n",
        "    b[j] = toggle(b[j])\n",
        "\n",
        "if b[-1] == 1:\n",
        "  print('yes')\n",
        "else:\n",
        "  print('no')"
      ],
      "execution_count": 50,
      "outputs": [
        {
          "output_type": "stream",
          "text": [
            "input : 8191\n",
            "no\n"
          ],
          "name": "stdout"
        }
      ]
    },
    {
      "cell_type": "code",
      "metadata": {
        "colab": {
          "base_uri": "https://localhost:8080/",
          "height": 134
        },
        "id": "1cxmGkfxc5Gs",
        "outputId": "f97cdef0-33a1-415c-c6ee-f5687421ab2e"
      },
      "source": [
        "7%%3"
      ],
      "execution_count": 34,
      "outputs": [
        {
          "output_type": "error",
          "ename": "SyntaxError",
          "evalue": "ignored",
          "traceback": [
            "\u001b[0;36m  File \u001b[0;32m\"<ipython-input-34-0d440736ea37>\"\u001b[0;36m, line \u001b[0;32m1\u001b[0m\n\u001b[0;31m    7%%3\u001b[0m\n\u001b[0m      ^\u001b[0m\n\u001b[0;31mSyntaxError\u001b[0m\u001b[0;31m:\u001b[0m invalid syntax\n"
          ]
        }
      ]
    },
    {
      "cell_type": "code",
      "metadata": {
        "colab": {
          "base_uri": "https://localhost:8080/"
        },
        "id": "wbRFASFWXoyn",
        "outputId": "afa59e6f-4305-4adb-fa0f-cfc26c3adfbc"
      },
      "source": [
        "class program:      # 함수 여러개를 쓰기 위해 클래스 생성\n",
        "  def toggle(m):    # 0->1, 1->0 바꾸는 함수 설정\n",
        "    if m == 1:      # 입력이 1이면\n",
        "      return 0      # 0을 반환\n",
        "    elif m == 0:    # 입력이 0이면\n",
        "      return 1      # 1을 반환\n",
        "\n",
        "  def assemble(n):  # 정렬함수\n",
        "    if n <= 0:      # n이 0이면\n",
        "      return ''     # 빈 문자열 반환\n",
        "    else:           # n이 1 이상이면\n",
        "      b = [0 for i in range(n)]   # 전구 n개 배열, # 0:꺼짐, 1:켜짐\n",
        "      for i in range(1,n+1):      # 1에서 n까지의 범위 중에\n",
        "        for j in range(i-1,(n//i)*i + (n%i),i): #해당 수의 배수상에 있는 항들을 모두 범위로 해서\n",
        "          b[j] = toggle(b[j])     # 그 수의 값을 0이면 1로, 1이면 0으로 바꿔준다\n",
        "\n",
        "      if b[-1] == 1:    # 이렇게 바꿔준 배열의 마지막값이 1이면\n",
        "        return 'yes'    # yes 출력\n",
        "      else:             # 마지막값이 0이면\n",
        "        return 'no'     # no 출력\n",
        "\n",
        "a = program\n",
        "print(a.assemble(3))\n",
        "print(a.assemble(6241))\n",
        "print(a.assemble(8191))\n",
        "print(a.assemble(0))"
      ],
      "execution_count": 62,
      "outputs": [
        {
          "output_type": "stream",
          "text": [
            "no\n",
            "yes\n",
            "no\n",
            "\n"
          ],
          "name": "stdout"
        }
      ]
    },
    {
      "cell_type": "code",
      "metadata": {
        "id": "0e1UNrr316oi"
      },
      "source": [
        ""
      ],
      "execution_count": null,
      "outputs": []
    }
  ]
}