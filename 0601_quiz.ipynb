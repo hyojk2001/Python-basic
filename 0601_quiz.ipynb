{
  "nbformat": 4,
  "nbformat_minor": 0,
  "metadata": {
    "colab": {
      "name": "0601_quiz.ipynb",
      "provenance": [],
      "collapsed_sections": [],
      "authorship_tag": "ABX9TyN6ZjfBVJoKhNcuqturrdaO",
      "include_colab_link": true
    },
    "kernelspec": {
      "name": "python3",
      "display_name": "Python 3"
    },
    "language_info": {
      "name": "python"
    }
  },
  "cells": [
    {
      "cell_type": "markdown",
      "metadata": {
        "id": "view-in-github",
        "colab_type": "text"
      },
      "source": [
        "<a href=\"https://colab.research.google.com/github/hyojk2001/Python-basic/blob/main/0601_quiz.ipynb\" target=\"_parent\"><img src=\"https://colab.research.google.com/assets/colab-badge.svg\" alt=\"Open In Colab\"/></a>"
      ]
    },
    {
      "cell_type": "code",
      "metadata": {
        "colab": {
          "base_uri": "https://localhost:8080/"
        },
        "id": "kaKpBURvxKWm",
        "outputId": "48a4a1ae-0be9-4d24-e0f9-d34adff308a4"
      },
      "source": [
        "v1 = list(map(int, input('v1 : ').split()))   # 정수 리스트 만들기\n",
        "v2 = list(map(int, input('v2 : ').split()))   # 정수 리스트2 만들기\n",
        "v = []\n",
        "\n",
        "if len(v1) > len(v2) :      # 반복 횟수는 v1, v2중 더 긴 것을 기준으로\n",
        "  a = len(v1)               # v1가 더 길면 v1 길이 기준\n",
        "elif len(v1) == len(v2):    # 둘의 길이가 같으면\n",
        "  a = len(v1)               # 둘중 아무거나 선택\n",
        "else:                       # v2가 더 길면\n",
        "  a = len(v2)               # v2의 길이만큼 반복문\n",
        "\n",
        "for i in range(a):          # 반복문 시작\n",
        "  if i < len(v1):           # v1을 기준으로 i가 v1보다 작을 경우엔\n",
        "    v.append(v1[i])         # 우선 v1부터 넣기 시작\n",
        "  else:                     # i가 v1보다 커지면\n",
        "    pass                    # 그 경우는 패스\n",
        "  if i < len(v2):           # v2를 기준으로 i가 v2보다 작으면\n",
        "    v.append(v2[i])         # v1 이후 v2 넣는다\n",
        "  else:                     # i가 v2보다 크면\n",
        "    pass                    # 패스\n",
        "\n",
        "print(v)"
      ],
      "execution_count": 8,
      "outputs": [
        {
          "output_type": "stream",
          "text": [
            "v1 : 1 2\n",
            "v2 : 3 4 5 6\n",
            "[1, 3, 2, 4, 5, 6]\n"
          ],
          "name": "stdout"
        }
      ]
    },
    {
      "cell_type": "code",
      "metadata": {
        "id": "zVOMnfEn0Jte"
      },
      "source": [
        ""
      ],
      "execution_count": null,
      "outputs": []
    },
    {
      "cell_type": "code",
      "metadata": {
        "colab": {
          "base_uri": "https://localhost:8080/"
        },
        "id": "CiSE2q2Dx3Ty",
        "outputId": "27851b98-8f95-4736-be42-102815811e96"
      },
      "source": [
        "a = []\n",
        "b = [1,2,3,4]\n",
        "\n",
        "if \n",
        "\n",
        "a.append(b)\n",
        "a"
      ],
      "execution_count": 1,
      "outputs": [
        {
          "output_type": "execute_result",
          "data": {
            "text/plain": [
              "[[1, 2, 3, 4]]"
            ]
          },
          "metadata": {
            "tags": []
          },
          "execution_count": 1
        }
      ]
    },
    {
      "cell_type": "code",
      "metadata": {
        "id": "k1JzNbDzx6ip"
      },
      "source": [
        ""
      ],
      "execution_count": null,
      "outputs": []
    }
  ]
}