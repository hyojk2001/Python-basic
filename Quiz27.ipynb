{
  "nbformat": 4,
  "nbformat_minor": 0,
  "metadata": {
    "colab": {
      "name": "Quiz27.ipynb",
      "provenance": [],
      "collapsed_sections": [],
      "authorship_tag": "ABX9TyO+DbJb85LifS4sJjM7DPqS",
      "include_colab_link": true
    },
    "kernelspec": {
      "name": "python3",
      "display_name": "Python 3"
    }
  },
  "cells": [
    {
      "cell_type": "markdown",
      "metadata": {
        "id": "view-in-github",
        "colab_type": "text"
      },
      "source": [
        "<a href=\"https://colab.research.google.com/github/hyojk2001/pythonbasic_2021/blob/main/Quiz27.ipynb\" target=\"_parent\"><img src=\"https://colab.research.google.com/assets/colab-badge.svg\" alt=\"Open In Colab\"/></a>"
      ]
    },
    {
      "cell_type": "code",
      "metadata": {
        "colab": {
          "base_uri": "https://localhost:8080/"
        },
        "id": "IosgYiJ1wugy",
        "outputId": "5681c0ea-b705-44aa-8624-b653391c74b3"
      },
      "source": [
        "#26번 내가풀기\r\n",
        "\r\n",
        "a,b = list(input().split('/'))\r\n",
        "c,d = list(map(int,input().split('/')))\r\n",
        "\r\n",
        "e = {}\r\n",
        "e.setdefault(a,c)\r\n",
        "e.setdefault(b,d)\r\n",
        "\r\n",
        "print(a,b,c,d,e)"
      ],
      "execution_count": 11,
      "outputs": [
        {
          "output_type": "stream",
          "text": [
            "안/녕\n",
            "11/22\n",
            "안 녕 11 22 {'안': 11, '녕': 22}\n"
          ],
          "name": "stdout"
        }
      ]
    },
    {
      "cell_type": "code",
      "metadata": {
        "colab": {
          "base_uri": "https://localhost:8080/"
        },
        "id": "5Bum-n7C3xqU",
        "outputId": "1341eb5a-104b-4128-fbc0-685b16f46f94"
      },
      "source": [
        "#26번 답안풀이\r\n",
        "\r\n",
        "key = input().split()\r\n",
        "value = map(int,input().split())\r\n",
        "\r\n",
        "result = dict(zip(key,value))\r\n",
        "print(result)"
      ],
      "execution_count": 20,
      "outputs": [
        {
          "output_type": "stream",
          "text": [
            "안 녕\n",
            "11 22\n",
            "{'안': 11, '녕': 22}\n"
          ],
          "name": "stdout"
        }
      ]
    },
    {
      "cell_type": "code",
      "metadata": {
        "colab": {
          "base_uri": "https://localhost:8080/"
        },
        "id": "PekfO7zF6B81",
        "outputId": "fe3d3af6-649a-4b13-b4f3-51d4fcc0cfc5"
      },
      "source": [
        "#18번\r\n",
        "\r\n",
        "a = input()\r\n",
        "\r\n",
        "for i in range(1,len(a)):\r\n",
        "  print(a[i-1:i+1])\r\n"
      ],
      "execution_count": 41,
      "outputs": [
        {
          "output_type": "stream",
          "text": [
            "python\n",
            "py\n",
            "yt\n",
            "th\n",
            "ho\n",
            "on\n"
          ],
          "name": "stdout"
        }
      ]
    },
    {
      "cell_type": "code",
      "metadata": {
        "colab": {
          "base_uri": "https://localhost:8080/"
        },
        "id": "BEe3xSUn91OW",
        "outputId": "a9cedd90-ce6e-46e6-cb13-b4fa239aafc1"
      },
      "source": [
        "#29번(대문자만 지나가세요)\r\n",
        "\r\n",
        "# isupper() - 대문자인지 확인\r\n",
        "# islower() - 소문자인지 확인\r\n",
        "# ord - ascii 코드 값을 확인. A:65, Z:90\r\n",
        "# isdigit - 숫자인지 확인\r\n",
        "\r\n",
        "a = input()\r\n",
        "\r\n",
        "if ord(a) >= 65 and ord(a) <= 90 :\r\n",
        "  print('yes')\r\n",
        "else :\r\n",
        "  print('no')\r\n",
        "\r\n",
        "# if alpha >= chr(65) and a <= chr(90):\r\n",
        "#   print('yes')\r\n",
        "# else:\r\n",
        "#   print('no')\r\n"
      ],
      "execution_count": 65,
      "outputs": [
        {
          "output_type": "stream",
          "text": [
            "z\n",
            "no\n"
          ],
          "name": "stdout"
        }
      ]
    },
    {
      "cell_type": "code",
      "metadata": {
        "colab": {
          "base_uri": "https://localhost:8080/"
        },
        "id": "Y3dYu9gMCY8g",
        "outputId": "126f6954-980b-4ce8-b028-54ae95b5919b"
      },
      "source": [
        "#29번 다른방식으로\r\n",
        "\r\n",
        "a = input()\r\n",
        "\r\n",
        "if a.isupper() is True : print('yes')\r\n",
        "else : print('no')"
      ],
      "execution_count": 66,
      "outputs": [
        {
          "output_type": "stream",
          "text": [
            "A\n",
            "yes\n"
          ],
          "name": "stdout"
        }
      ]
    },
    {
      "cell_type": "code",
      "metadata": {
        "colab": {
          "base_uri": "https://localhost:8080/"
        },
        "id": "h63Dc-hDE8i8",
        "outputId": "0d4a7929-9f5a-4c3d-9f7f-28013c6c5ca2"
      },
      "source": [
        "#30번\r\n",
        "\r\n",
        "# index - 찾는 게 없을 경우 에러를 출력\r\n",
        "# find - 찾는 게 없을 경우 -1을 출력\r\n",
        "\r\n",
        "\r\n",
        "a = input()  # 문자열\r\n",
        "b = input()  # 찾을 문자\r\n",
        "\r\n",
        "if b in a :\r\n",
        "  print(a.index(b[0]))\r\n",
        "  # print(a.find(b[0]))\r\n",
        "else :\r\n",
        "  print('such thing does not exist')"
      ],
      "execution_count": 77,
      "outputs": [
        {
          "output_type": "stream",
          "text": [
            "pineapple\n",
            "banana\n",
            "such thing does not exist\n"
          ],
          "name": "stdout"
        }
      ]
    },
    {
      "cell_type": "code",
      "metadata": {
        "colab": {
          "base_uri": "https://localhost:8080/"
        },
        "id": "5TM9PEQHUSOq",
        "outputId": "42114453-24d0-450e-9fec-3067fa25ec64"
      },
      "source": [
        "#31번 문자열 만들기\r\n",
        "\r\n",
        "txt = input()\r\n",
        "a = list(txt.split())\r\n",
        "print(len(a))"
      ],
      "execution_count": 116,
      "outputs": [
        {
          "output_type": "stream",
          "text": [
            "안녕하세요 저는 땡땡땡 이라고 합니다\n",
            "5\n"
          ],
          "name": "stdout"
        }
      ]
    },
    {
      "cell_type": "code",
      "metadata": {
        "colab": {
          "base_uri": "https://localhost:8080/"
        },
        "id": "Bl6O-UbAMU33",
        "outputId": "614cbb78-e3d1-4780-aaf2-785087a3e257"
      },
      "source": [
        "#32번\r\n",
        "\r\n",
        "a = len(input().split())\r\n",
        "a"
      ],
      "execution_count": 90,
      "outputs": [
        {
          "output_type": "stream",
          "text": [
            "소원을 말해봐 소원을\n"
          ],
          "name": "stdout"
        },
        {
          "output_type": "execute_result",
          "data": {
            "text/plain": [
              "3"
            ]
          },
          "metadata": {
            "tags": []
          },
          "execution_count": 90
        }
      ]
    },
    {
      "cell_type": "code",
      "metadata": {
        "colab": {
          "base_uri": "https://localhost:8080/"
        },
        "id": "sDNeloTDQYkq",
        "outputId": "0ca7ab3c-c5ff-483a-c2c6-eb4d5ef5d641"
      },
      "source": [
        "a = input().split()\r\n",
        "for i in range(len(a)) :\r\n",
        "  print(a[i].strip())\r\n",
        "\r\n",
        "# strip 함수 : 뒤에 스페이스바가 찍혀 있더라도 날려버릴 수 있다"
      ],
      "execution_count": 96,
      "outputs": [
        {
          "output_type": "stream",
          "text": [
            "빅데이터 \n",
            "빅데이터\n"
          ],
          "name": "stdout"
        }
      ]
    },
    {
      "cell_type": "code",
      "metadata": {
        "colab": {
          "base_uri": "https://localhost:8080/"
        },
        "id": "_c7Ve2WeSvl_",
        "outputId": "06912554-a083-437b-e963-592833874a68"
      },
      "source": [
        "#33번\r\n",
        "\r\n",
        "a = list(input().split())\r\n",
        "for i in range(len(a)):\r\n",
        "  print(a[len(a) - i - 1], end=' ')"
      ],
      "execution_count": 115,
      "outputs": [
        {
          "output_type": "stream",
          "text": [
            "5 4 3 2 1\n",
            "1 2 3 4 5 "
          ],
          "name": "stdout"
        }
      ]
    },
    {
      "cell_type": "code",
      "metadata": {
        "colab": {
          "base_uri": "https://localhost:8080/"
        },
        "id": "I3BNNGHdV_ZS",
        "outputId": "e81379da-5518-4601-8dee-f4b693376c9c"
      },
      "source": [
        "#34번\r\n",
        "\r\n",
        "# sorted & sort\r\n",
        "# <list>.sort()를 사용하면 원본 리스트 자체의 순서를 변화시킨다\r\n",
        "# sorted(<list>)는 원본은 손 대지 않고 정렬된 새로운 리스트를 반환받는다.\r\n",
        "# <list>.sort()는 새로운 복사본을 만들지 않기 때문에 sorted(<list>)보다 빠르다.\r\n",
        "\r\n",
        "a = list(map(int,input().split()))\r\n",
        "b = sorted(a)\r\n",
        "\r\n",
        "if a == b :\r\n",
        "  print('yes')\r\n",
        "else :\r\n",
        "  print('no')"
      ],
      "execution_count": 130,
      "outputs": [
        {
          "output_type": "stream",
          "text": [
            "33 44 55 66 77\n",
            "yes\n"
          ],
          "name": "stdout"
        }
      ]
    },
    {
      "cell_type": "code",
      "metadata": {
        "colab": {
          "base_uri": "https://localhost:8080/"
        },
        "id": "nnz0epMYcrwQ",
        "outputId": "901d11a6-3dc5-4442-b7b1-8c2dee3d93be"
      },
      "source": [
        "#36번\r\n",
        "\r\n",
        "a = int(input())\r\n",
        "\r\n",
        "for i in range(1,10):\r\n",
        "  print(a*i, end=' ')"
      ],
      "execution_count": 132,
      "outputs": [
        {
          "output_type": "stream",
          "text": [
            "5\n",
            "5 10 15 20 25 30 35 40 45 "
          ],
          "name": "stdout"
        }
      ]
    },
    {
      "cell_type": "code",
      "metadata": {
        "colab": {
          "base_uri": "https://localhost:8080/"
        },
        "id": "CwBRQ_sAi0Rq",
        "outputId": "2df73caa-3a3c-4dfc-9767-7ab4d6b4540d"
      },
      "source": [
        "#37번 : count 사용하기\r\n",
        "\r\n",
        "# 기본 문법 : 변수.count(찾는값)\r\n",
        "\r\n",
        "# a = input().split()\r\n",
        "# b = set(a)\r\n",
        "# c = 0\r\n",
        "\r\n",
        "# for i in b:\r\n",
        "#   if a.count(i) > c:\r\n",
        "#     c = a.count(i)\r\n",
        "#     sum = i\r\n",
        "# print(c, sum)\r\n",
        "\r\n",
        "a = input().split()\r\n",
        "b = list(set(a))\r\n",
        "max = 0\r\n",
        "\r\n",
        "for i in range(len(b)):\r\n",
        "  if a.count(b[i]) > a.count(b[max]):\r\n",
        "    max = i\r\n",
        "\r\n",
        "print('%s(이)가 총 %d표로 반장이 되었습니다.' % (b[max], a.count(b[max])))\r\n",
        "  \r\n"
      ],
      "execution_count": 158,
      "outputs": [
        {
          "output_type": "stream",
          "text": [
            "채영 채영 은비 은비 은비 채영 은비 은비 철수 철수\n",
            "은비(이)가 총 5표로 반장이 되었습니다.\n"
          ],
          "name": "stdout"
        }
      ]
    },
    {
      "cell_type": "code",
      "metadata": {
        "colab": {
          "base_uri": "https://localhost:8080/"
        },
        "id": "jyP2PyVf0yGV",
        "outputId": "cdfd82aa-956d-4ca7-98d9-3ed1df1f8f98"
      },
      "source": [
        "# 39번 : 오타 수정하기\r\n",
        "\r\n",
        "a = input()\r\n",
        "\r\n",
        "print(a.replace('q','e'))"
      ],
      "execution_count": 162,
      "outputs": [
        {
          "output_type": "stream",
          "text": [
            "queen\n",
            "eueen\n"
          ],
          "name": "stdout"
        }
      ]
    },
    {
      "cell_type": "code",
      "metadata": {
        "colab": {
          "base_uri": "https://localhost:8080/"
        },
        "id": "goP5Qv1nDY7j",
        "outputId": "d232f1fc-a5ad-4c36-d449-b86b33a38b75"
      },
      "source": [
        "# 40번 : 소수판별\r\n",
        "\r\n",
        "a = int(input())\r\n",
        "\r\n",
        "#내 방식\r\n",
        "for i in range(2,a):\r\n",
        "  if a % i != 0 :\r\n",
        "    i = i + 1\r\n",
        "    message = 'YES'\r\n",
        "    continue\r\n",
        "  elif a % i == 0 :\r\n",
        "    message = 'NO'\r\n",
        "    break\r\n",
        "print(message)\r\n",
        "\r\n",
        "\r\n",
        "#풀어준 방식\r\n",
        "# re = 0\r\n",
        "# for i in range(1,a+1):\r\n",
        "#   if a % i == 0 :\r\n",
        "#     re += 1\r\n",
        "\r\n",
        "# if re == 2:\r\n",
        "#   print('YES')\r\n",
        "# else:\r\n",
        "#   print('NO')\r\n"
      ],
      "execution_count": 230,
      "outputs": [
        {
          "output_type": "stream",
          "text": [
            "33\n",
            "NO\n"
          ],
          "name": "stdout"
        }
      ]
    },
    {
      "cell_type": "code",
      "metadata": {
        "colab": {
          "base_uri": "https://localhost:8080/"
        },
        "id": "ZkeqwdbREbUy",
        "outputId": "3f0575d8-bdda-4d63-80cc-1855a9456b63"
      },
      "source": [
        "#44번 : 각 자리수의 합\r\n",
        "\r\n",
        "a = list(input())\r\n",
        "sum = 0\r\n",
        "\r\n",
        "for i in range(0,len(a)):\r\n",
        "  s = int(a[i])\r\n",
        "  sum = sum + s\r\n",
        "\r\n",
        "print(sum)\r\n",
        "\r\n"
      ],
      "execution_count": 264,
      "outputs": [
        {
          "output_type": "stream",
          "text": [
            "127\n",
            "10\n"
          ],
          "name": "stdout"
        }
      ]
    },
    {
      "cell_type": "code",
      "metadata": {
        "colab": {
          "base_uri": "https://localhost:8080/"
        },
        "id": "pSfEU8GEQQu7",
        "outputId": "2c36473b-6a06-468e-d587-7ceff34ce3ca"
      },
      "source": [
        "#44번 간략히\r\n",
        "\r\n",
        "sum = 0\r\n",
        "for i in input():\r\n",
        "  sum += int(i)\r\n",
        "\r\n",
        "print(sum)"
      ],
      "execution_count": 265,
      "outputs": [
        {
          "output_type": "stream",
          "text": [
            "5\n",
            "5\n"
          ],
          "name": "stdout"
        }
      ]
    },
    {
      "cell_type": "code",
      "metadata": {
        "colab": {
          "base_uri": "https://localhost:8080/"
        },
        "id": "EikGAqNrUklK",
        "outputId": "0365a24e-56cb-431d-f95a-97b0de05a109"
      },
      "source": [
        "#46번\r\n",
        "\r\n",
        "#내가푼거\r\n",
        "s = ''\r\n",
        "for i in range(1,21):\r\n",
        "  s = s + str(i)\r\n",
        "c = list(s)\r\n",
        "\r\n",
        "sum = 0\r\n",
        "for j in range(len(c)):\r\n",
        "  sum = sum + int(c[j])\r\n",
        "\r\n",
        "print(s,sum) \r\n",
        "\r\n",
        "\r\n",
        "#풀어준거\r\n",
        "sum = 0\r\n",
        "for i in list(range(21)):\r\n",
        "  for j in str(i):\r\n",
        "    sum += int(j)\r\n",
        "print(sum)\r\n"
      ],
      "execution_count": 288,
      "outputs": [
        {
          "output_type": "stream",
          "text": [
            "1234567891011121314151617181920 102\n",
            "102\n"
          ],
          "name": "stdout"
        }
      ]
    },
    {
      "cell_type": "code",
      "metadata": {
        "colab": {
          "base_uri": "https://localhost:8080/"
        },
        "id": "QmldtvsLUtL-",
        "outputId": "4ab9d4d0-4697-4d33-cf2e-17f23ba4457c"
      },
      "source": [
        "sum = 0\r\n",
        "for i in list(range(int(input())+1)):\r\n",
        "  for j in str(i):\r\n",
        "    sum += int(j)\r\n",
        "print(sum)"
      ],
      "execution_count": 291,
      "outputs": [
        {
          "output_type": "stream",
          "text": [
            "20\n",
            "102\n"
          ],
          "name": "stdout"
        }
      ]
    },
    {
      "cell_type": "code",
      "metadata": {
        "colab": {
          "base_uri": "https://localhost:8080/"
        },
        "id": "IyjGEitNZgIV",
        "outputId": "1fc389fb-fc83-4e0d-b69b-c625d4c3462b"
      },
      "source": [
        "a = 'hello world!'\r\n",
        "list(a)"
      ],
      "execution_count": 292,
      "outputs": [
        {
          "output_type": "execute_result",
          "data": {
            "text/plain": [
              "['h', 'e', 'l', 'l', 'o', ' ', 'w', 'o', 'r', 'l', 'd', '!']"
            ]
          },
          "metadata": {
            "tags": []
          },
          "execution_count": 292
        }
      ]
    },
    {
      "cell_type": "code",
      "metadata": {
        "id": "DvP5Ae-ic0sy"
      },
      "source": [
        ""
      ],
      "execution_count": null,
      "outputs": []
    }
  ]
}