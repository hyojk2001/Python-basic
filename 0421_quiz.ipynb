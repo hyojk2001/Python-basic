{
  "nbformat": 4,
  "nbformat_minor": 0,
  "metadata": {
    "colab": {
      "name": "0421_quiz.ipynb",
      "provenance": [],
      "collapsed_sections": [],
      "authorship_tag": "ABX9TyNaU0LP5x31ENwp1Ox5dirK",
      "include_colab_link": true
    },
    "kernelspec": {
      "name": "python3",
      "display_name": "Python 3"
    },
    "language_info": {
      "name": "python"
    }
  },
  "cells": [
    {
      "cell_type": "markdown",
      "metadata": {
        "id": "view-in-github",
        "colab_type": "text"
      },
      "source": [
        "<a href=\"https://colab.research.google.com/github/hyojk2001/Python-basic/blob/main/0421_quiz.ipynb\" target=\"_parent\"><img src=\"https://colab.research.google.com/assets/colab-badge.svg\" alt=\"Open In Colab\"/></a>"
      ]
    },
    {
      "cell_type": "code",
      "metadata": {
        "id": "xFmFVwOyjnE-"
      },
      "source": [
        "# 입력1 : 1 2 6 5 4 9 8\n",
        "# 출력1 : NO\n",
        "# 입력2 : 5 6 7 8 9\n",
        "# 출력2 : YES"
      ],
      "execution_count": null,
      "outputs": []
    },
    {
      "cell_type": "code",
      "metadata": {
        "colab": {
          "base_uri": "https://localhost:8080/"
        },
        "id": "0KGfasVKkeQL",
        "outputId": "78ff4fe1-58d6-4067-a633-ff3a7c870922"
      },
      "source": [
        "def solution(user_input):     #함수 생성\n",
        "  a = sorted(user_input)      #받은 항들을 숫자별로 올림차순 배치\n",
        "  cnt = 0                     #두 변수와의 사이 거리를 카운트\n",
        "  for i in range(len(a)-1):   #반복문 시작\n",
        "    if a[i+1] - a[i] == 1:    #i번째항과 i+1번째 항의 차이가 1이면\n",
        "      cnt += 1                #cnt에 1씩 더해준다\n",
        "  if cnt == len(a)-1 :        #이렇게 만든 cnt가 배열의 길이 - 1과 같으면\n",
        "    message = 'YES'           #순서대로이므로 yes 반환\n",
        "  else:                       #아니라면\n",
        "    message = 'NO'            #정렬한 리스트가 1씩 오름차순이 아니므로 no반환\n",
        "  return message\n",
        "\n",
        "user_input = list(map(int,input().split(' ')))\n",
        "print(solution(user_input))"
      ],
      "execution_count": 3,
      "outputs": [
        {
          "output_type": "stream",
          "text": [
            "1 2 6 5 4 9 8\n",
            "NO\n"
          ],
          "name": "stdout"
        }
      ]
    },
    {
      "cell_type": "code",
      "metadata": {
        "id": "yXjLMgF8mvG7"
      },
      "source": [
        ""
      ],
      "execution_count": null,
      "outputs": []
    }
  ]
}