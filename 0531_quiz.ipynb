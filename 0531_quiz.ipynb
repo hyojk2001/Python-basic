{
  "nbformat": 4,
  "nbformat_minor": 0,
  "metadata": {
    "colab": {
      "name": "0531_quiz.ipynb",
      "provenance": [],
      "collapsed_sections": [],
      "authorship_tag": "ABX9TyNvmSrQXWjWqqcQpNcMAhiq",
      "include_colab_link": true
    },
    "kernelspec": {
      "name": "python3",
      "display_name": "Python 3"
    },
    "language_info": {
      "name": "python"
    }
  },
  "cells": [
    {
      "cell_type": "markdown",
      "metadata": {
        "id": "view-in-github",
        "colab_type": "text"
      },
      "source": [
        "<a href=\"https://colab.research.google.com/github/hyojk2001/Python-basic/blob/main/0531_quiz.ipynb\" target=\"_parent\"><img src=\"https://colab.research.google.com/assets/colab-badge.svg\" alt=\"Open In Colab\"/></a>"
      ]
    },
    {
      "cell_type": "code",
      "metadata": {
        "id": "zrt3Qk3FkHOs"
      },
      "source": [
        "# ALGORITHM HOMEWORK(#64)\n",
        "\n",
        "# 두개의 배열 A와 B를 가지고 있다. 두 배열은 N개의 원소로 구성되어 있으며\n",
        "# 배열의 원소는 모두 자연수이다. 최대 K번 바꿔치기 연산을 수행할 수 있는데\n",
        "# 바꿔치기 연산이란 배열 A에 있는 원소 하나와 배열 B에 있는 원소 하나를 골라서\n",
        "# 두 원소를 서로 바꾸는 것을 말한다.\n",
        "# 최종목표는 배열 A의 모든 원소의 합이 최대가 되도록 하는 것이다.\n",
        "# • 첫 번째 줄에서 N, K가 공백으로 구분되어 입력된다.\n",
        "# • 두 번째 줄부터 각 열마다 배열 들의 원소들이 공백으로 구분되어 입력된다.\n",
        "# • 세 번째 줄에 배열 B의 원소들이 공백으로 구분되어 입력된다.\n",
        "# 최대 K번 바꿔치기 연산을 수행하여 만들 수 있는 배열 A의 모든 원소의 합의\n",
        "# 최댓값을 출력한다. \n",
        "\n",
        "# 입력예시\n",
        "# 5 3\n",
        "# 1 2 5 4 3\n",
        "# 5 5 6 6 5\n",
        "# 출력예시\n",
        "# 26"
      ],
      "execution_count": null,
      "outputs": []
    },
    {
      "cell_type": "code",
      "metadata": {
        "colab": {
          "base_uri": "https://localhost:8080/"
        },
        "id": "U0bY_X7EjvK1",
        "outputId": "04592a42-9d66-4efb-f878-d3193096ca92"
      },
      "source": [
        "p = list(map(int, input().split()))         # 공백 기준으로 n,k 에 해당하게 리스트\n",
        "n,k = p[0], p[1]                            # p의 0,1번째를 각각 n,k로 매칭\n",
        "\n",
        "a = list(map(int, input('A : ').split()))   # a를 공백 기준으로 받기\n",
        "b = list(map(int, input('B : ').split()))   # b를 공백 기준으로 받기\n",
        "a1, b1 = sorted(a), sorted(b)               # a1,b1을 a,b를 정렬한 리스트로 받기\n",
        "\n",
        "if len(a) != n or len(b) != n:              # a나 b가 n개를 초과해서 받은 거면\n",
        "  print('입력 갯수가 맞지 않습니다.')       # 입력 개수가 맞지 않으므로 반환 x\n",
        "else:                                       # n개를 받았다면\n",
        "  for i in range(k):                        # k번의 반복문을 시작\n",
        "    if a1[i] < b1[len(b)-i-1]:              # a1의 최소값보다 b1의 최대값이 크다면\n",
        "      a1[i], b1[len(b)-i-1] = b1[len(b)-i-1],a1[i]  # a의 최소값과 b의 최대값을 계속 바꿔준다\n",
        "    else:                                   # a1 최소값이 b1 최대값보다 같거나 크다면\n",
        "      break                                 # 그 반복문은 종료하고 다음 반복문으로 넘어간다\n",
        "  print(sum(a1))      # 이렇게 만들면 b의 가장 큰 값들을 a의 최소값과 교환하므로\n",
        "                      # 이렇게 바꾼 a의 합이 최대가 된다"
      ],
      "execution_count": null,
      "outputs": [
        {
          "output_type": "stream",
          "text": [
            "5 3\n",
            "A : 1 2 5 4 3\n",
            "B : 5 5 6 6 5\n",
            "26\n"
          ],
          "name": "stdout"
        }
      ]
    },
    {
      "cell_type": "code",
      "metadata": {
        "id": "TC6z7PPQpG4r"
      },
      "source": [
        ""
      ],
      "execution_count": null,
      "outputs": []
    },
    {
      "cell_type": "code",
      "metadata": {
        "id": "lZlzCMD5pG6_"
      },
      "source": [
        ""
      ],
      "execution_count": null,
      "outputs": []
    },
    {
      "cell_type": "code",
      "metadata": {
        "id": "BK5j_SDXlQzh"
      },
      "source": [
        ""
      ],
      "execution_count": null,
      "outputs": []
    },
    {
      "cell_type": "code",
      "metadata": {
        "colab": {
          "base_uri": "https://localhost:8080/"
        },
        "id": "7qHoWRcylQ8Z",
        "outputId": "8fa2eacb-23ae-40a7-86a9-f871a3bbc807"
      },
      "source": [
        "c = [1,2,9,5]\n",
        "d = sorted(c)\n",
        "d"
      ],
      "execution_count": null,
      "outputs": [
        {
          "output_type": "execute_result",
          "data": {
            "text/plain": [
              "[1, 2, 5, 9]"
            ]
          },
          "metadata": {
            "tags": []
          },
          "execution_count": 4
        }
      ]
    },
    {
      "cell_type": "code",
      "metadata": {
        "colab": {
          "base_uri": "https://localhost:8080/"
        },
        "id": "6-SWhStBlTTm",
        "outputId": "593f22be-97b1-4a8c-8ca6-bc1ff87d4d8c"
      },
      "source": [
        ""
      ],
      "execution_count": null,
      "outputs": [
        {
          "output_type": "stream",
          "text": [
            "5\n",
            "6\n",
            "3\n",
            "1\n",
            "9\n"
          ],
          "name": "stdout"
        },
        {
          "output_type": "execute_result",
          "data": {
            "text/plain": [
              "[5, 6, 3, 1, 9]"
            ]
          },
          "metadata": {
            "tags": []
          },
          "execution_count": 9
        }
      ]
    },
    {
      "cell_type": "code",
      "metadata": {
        "id": "26S6MqSKm0TZ"
      },
      "source": [
        "모범답안 1\n",
        "n, k = map(int, input().split()) # N과 K를 입력 받기\n",
        "a = list(map(int, input().split())) # 배열 A의 모든 원소를 입력받기\n",
        "b = list(map(int, input().split())) # 배열 B의 모든 원소를 입력받기\n",
        "a.sort() # 배열 A는 오름차순 정렬 수행\n",
        "b.sort(reverse=True) # 배열 B는 내림차순 정렬 수행\n",
        "# 첫 번째 인덱스부터 확인하며, 두 배열의 원소를 최대 K번 비교\n",
        "for i in range(k):\n",
        "# A의 원소가 B의 원소보다 작은 경우\n",
        "if a[i] < b[i]:\n",
        "# 두 원소를 교체\n",
        "a[i], b[i] = b[i], a[i]\n",
        "else: # A의 원소가 B의 원소보다 크거나 같을 때, 반복문을 탈출\n",
        "break\n",
        "print(sum(a)) # 배열 A의 모든 원소의 합을 출력\n"
      ],
      "execution_count": null,
      "outputs": []
    }
  ]
}