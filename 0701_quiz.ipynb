{
  "nbformat": 4,
  "nbformat_minor": 0,
  "metadata": {
    "colab": {
      "name": "0701_quiz.ipynb",
      "provenance": [],
      "collapsed_sections": [],
      "authorship_tag": "ABX9TyPJUj1LVQ19tLzjZo8kqg/W",
      "include_colab_link": true
    },
    "kernelspec": {
      "name": "python3",
      "display_name": "Python 3"
    },
    "language_info": {
      "name": "python"
    }
  },
  "cells": [
    {
      "cell_type": "markdown",
      "metadata": {
        "id": "view-in-github",
        "colab_type": "text"
      },
      "source": [
        "<a href=\"https://colab.research.google.com/github/hyojk2001/Python-basic/blob/main/0701_quiz.ipynb\" target=\"_parent\"><img src=\"https://colab.research.google.com/assets/colab-badge.svg\" alt=\"Open In Colab\"/></a>"
      ]
    },
    {
      "cell_type": "code",
      "metadata": {
        "id": "to1Jm_oNMj9l"
      },
      "source": [
        "# 성냥 n개를 정사각형으로 만들기\n",
        "# ex) [1,1,2,2,2]면 (1,1) / 2 / 2 / 2 로 4개의 변을 구성한 정사각형이 가능해진다"
      ],
      "execution_count": null,
      "outputs": []
    },
    {
      "cell_type": "code",
      "metadata": {
        "colab": {
          "base_uri": "https://localhost:8080/"
        },
        "id": "jxnX_3tPM8a9",
        "outputId": "35afcd16-145e-4703-c918-ddef02f1dfee"
      },
      "source": [
        "class program():      # 클래스 지정\n",
        "  def solution(self, num):    \n",
        "    s = 0       # 한 변의 길이를 초기화\n",
        "    cnt = 0     # 조건을 충족할 때마다 변의 개수. 최대 4여야 한다.\n",
        "    if sum(num) % 4 != 0 :    # num 값을 모두 합쳐서 4로 안 나눠지면\n",
        "      return False            # False 반환\n",
        "    else:                     # 합이 4로 나눠떨어지면\n",
        "      standard = sum(num) // 4   # 한 변의 길이는 전체합을 4로 나눈 나머지\n",
        "      for i in range(len(num)):   # 반복문 시작\n",
        "        if num[i] == standard:    # num의 원소가 만약 한 변의 길이면\n",
        "          cnt += 1                # cnt를 1 올리고\n",
        "          continue                # 그 다음으로 넘어간다\n",
        "        else:                     # 한 변의 길이가 아니라면\n",
        "          s += num[i]             # 한 변의 길이에 num의 원소를 합해준다\n",
        "          if s == standard:       # 이러다가 이 변의 길이가 정사각형의 변 길이가 되면\n",
        "            cnt += 1              # 카운트를 1 늘려주고\n",
        "            s = 0                 # 그 다음부터는 다시 한 변을 0부터 시작해서 더한다\n",
        "          elif s > standard:      # 만약 이렇게 더한 변의 길이가 정사각형 한 변보다 커지면\n",
        "            return False          # 아예 성립이 안되므로 False 반환\n",
        "          else:                   # 그렇지 않으면\n",
        "            continue              # 이 과정을 계속 반복한다\n",
        "      if cnt == 4:                # 위의 과정을 모두 거쳐서 cnt, 즉 변의 갯수가 4가 되면\n",
        "        return True               # 최종적으로 True를 반환한다\n",
        "\n",
        "p = program()\n",
        "print(p.solution([1,1,2,2,2]))\n",
        "print(p.solution([3,3,3,3,4]))"
      ],
      "execution_count": 11,
      "outputs": [
        {
          "output_type": "stream",
          "text": [
            "True\n",
            "False\n"
          ],
          "name": "stdout"
        }
      ]
    },
    {
      "cell_type": "code",
      "metadata": {
        "id": "92SmfheyNRTA"
      },
      "source": [
        ""
      ],
      "execution_count": null,
      "outputs": []
    }
  ]
}