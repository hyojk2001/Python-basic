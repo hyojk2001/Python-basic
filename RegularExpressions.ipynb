{
 "cells": [
  {
   "cell_type": "code",
   "execution_count": 4,
   "metadata": {},
   "outputs": [
    {
     "name": "stdout",
     "output_type": "stream",
     "text": [
      "\n",
      "park 800905-*******\n",
      "kim 700905-*******\n",
      "\n"
     ]
    }
   ],
   "source": [
    "data ='''\n",
    "park 800905-1049118\n",
    "kim 700905-1059119\n",
    "'''\n",
    "\n",
    "result = []\n",
    "for line in data.split('\\n'):\n",
    "    word_result = []\n",
    "    for word in line.split(\" \"):\n",
    "        if len(word) == 14 and word[:6].isdigit() and word[7:].isdigit():  #isdigit() : 숫자인지 확인하는 함수\n",
    "            word = word[:6] + \"-\" + \"*******\"\n",
    "        word_result.append(word)\n",
    "    result.append(\" \".join(word_result))\n",
    "print(\"\\n\".join(result))"
   ]
  },
  {
   "cell_type": "code",
   "execution_count": 5,
   "metadata": {},
   "outputs": [
    {
     "name": "stdout",
     "output_type": "stream",
     "text": [
      "\n",
      "park 800905-*******\n",
      "kim 700905-*******\n",
      "\n"
     ]
    }
   ],
   "source": [
    "import re\n",
    "\n",
    "data ='''\n",
    "park 800905-1049118\n",
    "kim 700905-1059119\n",
    "'''\n",
    "\n",
    "pat = re.compile(\"(\\d{6})[-]\\d{7}\")\n",
    "print(pat.sub(\"\\g<1>-*******\",data))\n"
   ]
  },
  {
   "cell_type": "code",
   "execution_count": 6,
   "metadata": {},
   "outputs": [],
   "source": [
    "#정규표현식\n",
    "# [abc] : a,b,c 중 하나의 문자와 매치\n",
    "# [a-zA-Z] : 알파벳 전부, [0-9] : 숫자\n",
    "# [0-5]는 [012345]와 같다\n",
    "\n",
    "# \\d : 숫자\n",
    "# \\D : 숫자가 아닌 것과 매치 = [^0-9]\n",
    "\n",
    "# \\w : 문자 혹은 숫자\n",
    "# \\W : 문자, 숫자가 모두 아닌 것과 매치\n",
    "\n",
    "# a.b : \"a + 모든문자 + b\" : a와 b라는 문자 사이에 어떤 문자가 들어가도 모두 매치된다\n",
    "# a[.]b : \"a + Dot(.) + b\n",
    "\n",
    "# ca*t : ct, cat, caaat, caaaaaaaaaat 등등과 동일(*바로앞의 문자가 무한개로 와도 상관없다는 의미)\n",
    "# ca+t : cat, caaaaat 등과 동일. + 바로 앞의 문자가 최소 한번은 와야 한다. 즉, ct와는 같지 않다."
   ]
  },
  {
   "cell_type": "code",
   "execution_count": 13,
   "metadata": {},
   "outputs": [
    {
     "name": "stdout",
     "output_type": "stream",
     "text": [
      "<re.Match object; span=(0, 6), match='python'>\n"
     ]
    }
   ],
   "source": [
    "#match\n",
    "import re\n",
    "p = re.compile('[a-z]+')\n",
    "\n",
    "m = p.match('python')\n",
    "print(m)"
   ]
  },
  {
   "cell_type": "code",
   "execution_count": 16,
   "metadata": {},
   "outputs": [
    {
     "name": "stdout",
     "output_type": "stream",
     "text": [
      "None\n"
     ]
    }
   ],
   "source": [
    "n = p.match('Python')\n",
    "print(n)"
   ]
  },
  {
   "cell_type": "code",
   "execution_count": 21,
   "metadata": {},
   "outputs": [
    {
     "name": "stdout",
     "output_type": "stream",
     "text": [
      "No match\n"
     ]
    }
   ],
   "source": [
    "p = re.compile('[a-z]+') #'' : 넣고 싶은 정규표현식\n",
    "m = p.match('12344')\n",
    "\n",
    "if m :\n",
    "    print('Match found : ', m.group())\n",
    "else:\n",
    "    print('No match')"
   ]
  },
  {
   "cell_type": "code",
   "execution_count": null,
   "metadata": {},
   "outputs": [],
   "source": []
  }
 ],
 "metadata": {
  "kernelspec": {
   "display_name": "Python 3",
   "language": "python",
   "name": "python3"
  },
  "language_info": {
   "codemirror_mode": {
    "name": "ipython",
    "version": 3
   },
   "file_extension": ".py",
   "mimetype": "text/x-python",
   "name": "python",
   "nbconvert_exporter": "python",
   "pygments_lexer": "ipython3",
   "version": "3.8.5"
  }
 },
 "nbformat": 4,
 "nbformat_minor": 4
}
