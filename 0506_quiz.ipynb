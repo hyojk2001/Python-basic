{
  "nbformat": 4,
  "nbformat_minor": 0,
  "metadata": {
    "colab": {
      "name": "0506_quiz.ipynb",
      "provenance": [],
      "collapsed_sections": [],
      "authorship_tag": "ABX9TyPsq4F18SVkf5cyBJtCSl+y",
      "include_colab_link": true
    },
    "kernelspec": {
      "name": "python3",
      "display_name": "Python 3"
    },
    "language_info": {
      "name": "python"
    }
  },
  "cells": [
    {
      "cell_type": "markdown",
      "metadata": {
        "id": "view-in-github",
        "colab_type": "text"
      },
      "source": [
        "<a href=\"https://colab.research.google.com/github/hyojk2001/Python-basic/blob/main/0506_quiz.ipynb\" target=\"_parent\"><img src=\"https://colab.research.google.com/assets/colab-badge.svg\" alt=\"Open In Colab\"/></a>"
      ]
    },
    {
      "cell_type": "code",
      "metadata": {
        "id": "-JM-XxSO0L7F"
      },
      "source": [
        "# 어떠한 수 N이 1이 될 때까지 다음의 두 과정 중 하나를 반복적으로 선택\n",
        "# 하여 수행하려고 한다. 단, 두번째 연산은 N이 K로 나누어 떨어질 때만 선택할 수 있다.\n",
        "# 1. N에서 1을 뺀다.\n",
        "# 2. N을 K로 나눈다.\n",
        "# 예를 들어 N이 17, K가 4라고 가정하자. 이때 1번의 과정을 한번 수행하면\n",
        "# N은 16이 된다. 이후에 2번의 과정을 두 번 수행하면 N은 1이 된다. \n",
        "# 결과적으로 이 경우 전체 과정을 실행한 횟수는 3이 된다. \n",
        "# 이는 N을 1로 만드는 최소 횟수이다.\n",
        "# N과 K가 주어질 때 N이 1이 될 때까지 1번 혹은 2번의 과정을 \n",
        "# 수행해야 하는 최소 횟수를 구하는 프로그램을 작성하시오."
      ],
      "execution_count": null,
      "outputs": []
    },
    {
      "cell_type": "code",
      "metadata": {
        "colab": {
          "base_uri": "https://localhost:8080/"
        },
        "id": "sHquAgOh0XJF",
        "outputId": "b2b3f5d1-e560-4e30-f68a-887ef0470f3f"
      },
      "source": [
        "def solution(n,k):\n",
        "  i = n           # n값을 그대로 받아온 i라는 변수\n",
        "  cnt = 0         # 각 과정에서 계산 횟수를 받을 변수 초기화\n",
        "  while i != 1:   # i가 1이 될 때까지 계속해서 반복한다\n",
        "    p = i // k    # 몫을 정의\n",
        "    q = i % k     # 나머지를 정의\n",
        "    if q != 0:    # 나머지가 0이 되지 않으면\n",
        "      i -= 1      # i에서 1씩 뺀다\n",
        "      cnt += 1    # 이때 1번씩 과정 거치는걸 cnt에 1씩 더한다\n",
        "    else:         # 나머지가 0이 되면\n",
        "      i = p       # 해당 i 자체를 i//k로서 몫으로 재정의한다\n",
        "      cnt += 1    # 이때도 (계산 횟수 + 1)을 해준다\n",
        "    \n",
        "  return cnt\n",
        "\n",
        "a = list(map(int,input().split(' ')))   #여백으로 구분해 입력받아 숫자로 만듬\n",
        "n = a[0]      # solution의 n은 0번째\n",
        "k = a[1]      # k는 1번째 숫자\n",
        "print(solution(n,k))"
      ],
      "execution_count": null,
      "outputs": [
        {
          "output_type": "stream",
          "text": [
            "17 4\n",
            "3\n"
          ],
          "name": "stdout"
        }
      ]
    },
    {
      "cell_type": "code",
      "metadata": {
        "colab": {
          "base_uri": "https://localhost:8080/"
        },
        "id": "vGgGraKS1HO0",
        "outputId": "f01a49fb-907c-4bbf-f203-2495b2fcf6de"
      },
      "source": [
        "17//4"
      ],
      "execution_count": null,
      "outputs": [
        {
          "output_type": "execute_result",
          "data": {
            "text/plain": [
              "4"
            ]
          },
          "metadata": {
            "tags": []
          },
          "execution_count": 2
        }
      ]
    },
    {
      "cell_type": "code",
      "metadata": {
        "colab": {
          "base_uri": "https://localhost:8080/"
        },
        "id": "EIOX5AlA1H4b",
        "outputId": "e2cf82e9-0f54-4701-9160-8cc57ce54522"
      },
      "source": [
        "a = list(map(int,input().split(' ')))\n",
        "n = a[0]\n",
        "k = a[1]\n",
        "print(list(n))"
      ],
      "execution_count": null,
      "outputs": [
        {
          "output_type": "stream",
          "text": [
            "5 80 6\n",
            "[5, 80, 6]\n"
          ],
          "name": "stdout"
        }
      ]
    },
    {
      "cell_type": "code",
      "metadata": {
        "id": "XIz1NM2i1z-T"
      },
      "source": [
        ""
      ],
      "execution_count": null,
      "outputs": []
    }
  ]
}