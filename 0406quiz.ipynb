{
  "nbformat": 4,
  "nbformat_minor": 0,
  "metadata": {
    "colab": {
      "name": "0406quiz.ipynb",
      "provenance": [],
      "collapsed_sections": [],
      "authorship_tag": "ABX9TyNiQOGNDHRAF8DGOt3TPHMj",
      "include_colab_link": true
    },
    "kernelspec": {
      "name": "python3",
      "display_name": "Python 3"
    },
    "language_info": {
      "name": "python"
    }
  },
  "cells": [
    {
      "cell_type": "markdown",
      "metadata": {
        "id": "view-in-github",
        "colab_type": "text"
      },
      "source": [
        "<a href=\"https://colab.research.google.com/github/hyojk2001/Python-basic/blob/main/0406quiz.ipynb\" target=\"_parent\"><img src=\"https://colab.research.google.com/assets/colab-badge.svg\" alt=\"Open In Colab\"/></a>"
      ]
    },
    {
      "cell_type": "code",
      "metadata": {
        "id": "aPINUnSXTtAZ"
      },
      "source": [
        "# ALGORITHM HOMEWORK(#21)\n",
        "# 1차원의 점들이 주어졌을 때, 그 중 가장 거리가 짧은 것의 쌍을 출력하는 함수를 작성하시오.\n",
        "# (단 점들의 배열은 모두 정렬되어 있다고 가정한다.)\n",
        "# S=[1, 3, 4, 8, 13, 17, 20]\n",
        "# (3, 4)\n",
        "# # 모든 코드 라인마다 주석 첨부\n",
        "# S = [1, 3, 4, 8, 13, 17, 20]\n"
      ],
      "execution_count": null,
      "outputs": []
    },
    {
      "cell_type": "code",
      "metadata": {
        "colab": {
          "base_uri": "https://localhost:8080/"
        },
        "id": "Ac1esuG2UEkO",
        "outputId": "4e4a5e64-60f2-4d0b-e2c0-373a92ccd3b7"
      },
      "source": [
        "s = [1, 3, 4, 8, 13, 17, 20, 23]\n",
        "\n",
        "d = 0     # 각 점 사이의 거리\n",
        "e = []    # 2개의 수로 만들 수 있는 쌍\n",
        "f = []    # key를 거리로, value를 숫자 2개의 쌍으로 받는 딕셔너리\n",
        "\n",
        "for i in range(len(s)):         # s 안에서\n",
        "  for j in range(i+1,len(s)):   # 검사하려는 수보다 무조건 앞선 수를 추출해서\n",
        "    d = abs(s[j]-s[i])          # 숫자를 뺀다. s[i]가 1이면 s[j]는 3,4,8....20 까지\n",
        "    e = [s[i],s[j]]             # 이런 숫자들을 2개씩 쌍을 짓는다\n",
        "    f.setdefault(str(d),e)           # 두 점 사이의 거리를 키값으로, 숫자쌍을 value로 놓는다\n",
        "    # f.setdefault(abs(s[j]-s[i]), [s[i],s[j]])   # 위의 d,e,f 쓸 필요 없이 요약한 형태 \n",
        "\n",
        "print(tuple(f[min(f.keys())]))                \n",
        "# key가 점 사이의 거리이므로 가장 작은 값을 찾아 이것을 key로 해서 value를 찾으면\n",
        "# 거리가 가장 짧은 것의 쌍을 출력할 수 잇다\n"
      ],
      "execution_count": null,
      "outputs": [
        {
          "output_type": "stream",
          "text": [
            "(3, 4)\n"
          ],
          "name": "stdout"
        }
      ]
    },
    {
      "cell_type": "code",
      "metadata": {
        "colab": {
          "base_uri": "https://localhost:8080/"
        },
        "id": "DDt72_VM33Dc",
        "outputId": "07aee579-9778-405a-8b98-7ba93acbbdcc"
      },
      "source": [
        "s = [1, 3, 4, 8, 13, 17, 20, 23]\n",
        "\n",
        "d = 0     # 각 점 사이의 거리\n",
        "e = []    # 2개의 수로 만들 수 있는 쌍\n",
        "f = []    # key를 거리로, value를 숫자 2개의 쌍으로 받는 딕셔너리\n",
        "\n",
        "for i in range(len(s)):         # s 안에서\n",
        "  for j in range(i+1,len(s)):   # 검사하려는 수보다 무조건 앞선 수를 추출해서\n",
        "    e.append([s[i],s[j]])       # e에는 숫자쌍을\n",
        "    f.append([abs(s[j]-s[i])])  # f에는 숫자쌍 간의 거리를 리스트로 받는다\n",
        "tuple(e[f.index(min(f))])       # f의 최소값을 구한 뒤 f에서 해당 인덱스를 찾아 \n",
        "                                # e에서 그 인덱스를 도출하면 최소값을 가지는 쌍이 나온다"
      ],
      "execution_count": null,
      "outputs": [
        {
          "output_type": "execute_result",
          "data": {
            "text/plain": [
              "(3, 4)"
            ]
          },
          "metadata": {
            "tags": []
          },
          "execution_count": 10
        }
      ]
    },
    {
      "cell_type": "code",
      "metadata": {
        "id": "aMspnUbqUonF"
      },
      "source": [
        "S = [1, 3, 4, 8, 13, 17, 20]\n",
        "shortest = S[1]-S[0]\n",
        "index = 0\n",
        "for g in range(1,len(S)):\n",
        "if S[g]-S[g-1] < shortest:\n",
        "shortest = S[g]-S[g-1]\n",
        "index = g\n",
        "print (S[index-1], S[index]"
      ],
      "execution_count": null,
      "outputs": []
    }
  ]
}